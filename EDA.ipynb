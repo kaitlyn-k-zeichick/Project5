{
 "cells": [
  {
   "cell_type": "markdown",
   "id": "finnish-holocaust",
   "metadata": {},
   "source": [
    "# Load Data"
   ]
  },
  {
   "cell_type": "code",
   "execution_count": 15,
   "id": "desirable-exemption",
   "metadata": {
    "ExecuteTime": {
     "end_time": "2021-03-12T06:43:55.730734Z",
     "start_time": "2021-03-12T06:43:55.724861Z"
    }
   },
   "outputs": [],
   "source": [
    "import matplotlib.pyplot as plt\n",
    "import seaborn as sns"
   ]
  },
  {
   "cell_type": "code",
   "execution_count": 1,
   "id": "atmospheric-tension",
   "metadata": {
    "ExecuteTime": {
     "end_time": "2021-03-12T06:36:07.053125Z",
     "start_time": "2021-03-12T06:36:06.526017Z"
    }
   },
   "outputs": [],
   "source": [
    "import pandas as pd"
   ]
  },
  {
   "cell_type": "code",
   "execution_count": 2,
   "id": "organized-crest",
   "metadata": {
    "ExecuteTime": {
     "end_time": "2021-03-12T06:36:26.593379Z",
     "start_time": "2021-03-12T06:36:24.024769Z"
    }
   },
   "outputs": [],
   "source": [
    "df = pd.read_csv('preprocessed.csv')"
   ]
  },
  {
   "cell_type": "code",
   "execution_count": 3,
   "id": "concerned-illinois",
   "metadata": {
    "ExecuteTime": {
     "end_time": "2021-03-12T06:36:29.995862Z",
     "start_time": "2021-03-12T06:36:29.965662Z"
    }
   },
   "outputs": [
    {
     "data": {
      "text/html": [
       "<div>\n",
       "<style scoped>\n",
       "    .dataframe tbody tr th:only-of-type {\n",
       "        vertical-align: middle;\n",
       "    }\n",
       "\n",
       "    .dataframe tbody tr th {\n",
       "        vertical-align: top;\n",
       "    }\n",
       "\n",
       "    .dataframe thead th {\n",
       "        text-align: right;\n",
       "    }\n",
       "</style>\n",
       "<table border=\"1\" class=\"dataframe\">\n",
       "  <thead>\n",
       "    <tr style=\"text-align: right;\">\n",
       "      <th></th>\n",
       "      <th>Unnamed: 0</th>\n",
       "      <th>Name</th>\n",
       "      <th>Link</th>\n",
       "      <th>Date</th>\n",
       "      <th>Gender</th>\n",
       "      <th>Age</th>\n",
       "      <th>Lead Follow</th>\n",
       "      <th>Membership</th>\n",
       "      <th>Climb Type</th>\n",
       "      <th>Best Times</th>\n",
       "      <th>...</th>\n",
       "      <th>Trad Leads</th>\n",
       "      <th>Trad Follows</th>\n",
       "      <th>Mixed Leads</th>\n",
       "      <th>Mixed Follows</th>\n",
       "      <th>Aid Leads</th>\n",
       "      <th>Aid Follows</th>\n",
       "      <th>Ice Leads</th>\n",
       "      <th>Ice Follows</th>\n",
       "      <th>Boulder</th>\n",
       "      <th>month_year</th>\n",
       "    </tr>\n",
       "  </thead>\n",
       "  <tbody>\n",
       "    <tr>\n",
       "      <th>0</th>\n",
       "      <td>0</td>\n",
       "      <td>Aidan Shelburne</td>\n",
       "      <td>https://www.mountainproject.com/user/200717675...</td>\n",
       "      <td>2021-03-08</td>\n",
       "      <td>Male</td>\n",
       "      <td>21.0</td>\n",
       "      <td>Sport: leads 5.11a, follows 5.11d\\nBoulders: V7</td>\n",
       "      <td>2020</td>\n",
       "      <td>Sport, TR, Gym</td>\n",
       "      <td>Weekday afternoons/Weekends</td>\n",
       "      <td>...</td>\n",
       "      <td>NaN</td>\n",
       "      <td>NaN</td>\n",
       "      <td>NaN</td>\n",
       "      <td>NaN</td>\n",
       "      <td>NaN</td>\n",
       "      <td>NaN</td>\n",
       "      <td>NaN</td>\n",
       "      <td>NaN</td>\n",
       "      <td>V7</td>\n",
       "      <td>2021-03</td>\n",
       "    </tr>\n",
       "    <tr>\n",
       "      <th>1</th>\n",
       "      <td>1</td>\n",
       "      <td>Aidan Shelburne</td>\n",
       "      <td>https://www.mountainproject.com/user/200717675...</td>\n",
       "      <td>2021-03-06</td>\n",
       "      <td>Male</td>\n",
       "      <td>21.0</td>\n",
       "      <td>Sport: leads 5.11a, follows 5.11d\\nBoulders: V7</td>\n",
       "      <td>2020</td>\n",
       "      <td>Sport, TR, Gym</td>\n",
       "      <td>Weekday afternoons/Weekends</td>\n",
       "      <td>...</td>\n",
       "      <td>NaN</td>\n",
       "      <td>NaN</td>\n",
       "      <td>NaN</td>\n",
       "      <td>NaN</td>\n",
       "      <td>NaN</td>\n",
       "      <td>NaN</td>\n",
       "      <td>NaN</td>\n",
       "      <td>NaN</td>\n",
       "      <td>V7</td>\n",
       "      <td>2021-03</td>\n",
       "    </tr>\n",
       "    <tr>\n",
       "      <th>2</th>\n",
       "      <td>2</td>\n",
       "      <td>Aidan Shelburne</td>\n",
       "      <td>https://www.mountainproject.com/user/200717675...</td>\n",
       "      <td>2021-03-06</td>\n",
       "      <td>Male</td>\n",
       "      <td>21.0</td>\n",
       "      <td>Sport: leads 5.11a, follows 5.11d\\nBoulders: V7</td>\n",
       "      <td>2020</td>\n",
       "      <td>Sport, TR, Gym</td>\n",
       "      <td>Weekday afternoons/Weekends</td>\n",
       "      <td>...</td>\n",
       "      <td>NaN</td>\n",
       "      <td>NaN</td>\n",
       "      <td>NaN</td>\n",
       "      <td>NaN</td>\n",
       "      <td>NaN</td>\n",
       "      <td>NaN</td>\n",
       "      <td>NaN</td>\n",
       "      <td>NaN</td>\n",
       "      <td>V7</td>\n",
       "      <td>2021-03</td>\n",
       "    </tr>\n",
       "    <tr>\n",
       "      <th>3</th>\n",
       "      <td>3</td>\n",
       "      <td>Aidan Shelburne</td>\n",
       "      <td>https://www.mountainproject.com/user/200717675...</td>\n",
       "      <td>2021-03-06</td>\n",
       "      <td>Male</td>\n",
       "      <td>21.0</td>\n",
       "      <td>Sport: leads 5.11a, follows 5.11d\\nBoulders: V7</td>\n",
       "      <td>2020</td>\n",
       "      <td>Sport, TR, Gym</td>\n",
       "      <td>Weekday afternoons/Weekends</td>\n",
       "      <td>...</td>\n",
       "      <td>NaN</td>\n",
       "      <td>NaN</td>\n",
       "      <td>NaN</td>\n",
       "      <td>NaN</td>\n",
       "      <td>NaN</td>\n",
       "      <td>NaN</td>\n",
       "      <td>NaN</td>\n",
       "      <td>NaN</td>\n",
       "      <td>V7</td>\n",
       "      <td>2021-03</td>\n",
       "    </tr>\n",
       "    <tr>\n",
       "      <th>4</th>\n",
       "      <td>4</td>\n",
       "      <td>Aidan Shelburne</td>\n",
       "      <td>https://www.mountainproject.com/user/200717675...</td>\n",
       "      <td>2021-01-16</td>\n",
       "      <td>Male</td>\n",
       "      <td>21.0</td>\n",
       "      <td>Sport: leads 5.11a, follows 5.11d\\nBoulders: V7</td>\n",
       "      <td>2020</td>\n",
       "      <td>Sport, TR, Gym</td>\n",
       "      <td>Weekday afternoons/Weekends</td>\n",
       "      <td>...</td>\n",
       "      <td>NaN</td>\n",
       "      <td>NaN</td>\n",
       "      <td>NaN</td>\n",
       "      <td>NaN</td>\n",
       "      <td>NaN</td>\n",
       "      <td>NaN</td>\n",
       "      <td>NaN</td>\n",
       "      <td>NaN</td>\n",
       "      <td>V7</td>\n",
       "      <td>2021-01</td>\n",
       "    </tr>\n",
       "  </tbody>\n",
       "</table>\n",
       "<p>5 rows × 33 columns</p>\n",
       "</div>"
      ],
      "text/plain": [
       "   Unnamed: 0             Name  \\\n",
       "0           0  Aidan Shelburne   \n",
       "1           1  Aidan Shelburne   \n",
       "2           2  Aidan Shelburne   \n",
       "3           3  Aidan Shelburne   \n",
       "4           4  Aidan Shelburne   \n",
       "\n",
       "                                                Link        Date Gender   Age  \\\n",
       "0  https://www.mountainproject.com/user/200717675...  2021-03-08   Male  21.0   \n",
       "1  https://www.mountainproject.com/user/200717675...  2021-03-06   Male  21.0   \n",
       "2  https://www.mountainproject.com/user/200717675...  2021-03-06   Male  21.0   \n",
       "3  https://www.mountainproject.com/user/200717675...  2021-03-06   Male  21.0   \n",
       "4  https://www.mountainproject.com/user/200717675...  2021-01-16   Male  21.0   \n",
       "\n",
       "                                       Lead Follow  Membership  \\\n",
       "0  Sport: leads 5.11a, follows 5.11d\\nBoulders: V7        2020   \n",
       "1  Sport: leads 5.11a, follows 5.11d\\nBoulders: V7        2020   \n",
       "2  Sport: leads 5.11a, follows 5.11d\\nBoulders: V7        2020   \n",
       "3  Sport: leads 5.11a, follows 5.11d\\nBoulders: V7        2020   \n",
       "4  Sport: leads 5.11a, follows 5.11d\\nBoulders: V7        2020   \n",
       "\n",
       "       Climb Type                   Best Times  ... Trad Leads Trad Follows  \\\n",
       "0  Sport, TR, Gym  Weekday afternoons/Weekends  ...        NaN          NaN   \n",
       "1  Sport, TR, Gym  Weekday afternoons/Weekends  ...        NaN          NaN   \n",
       "2  Sport, TR, Gym  Weekday afternoons/Weekends  ...        NaN          NaN   \n",
       "3  Sport, TR, Gym  Weekday afternoons/Weekends  ...        NaN          NaN   \n",
       "4  Sport, TR, Gym  Weekday afternoons/Weekends  ...        NaN          NaN   \n",
       "\n",
       "  Mixed Leads Mixed Follows Aid Leads Aid Follows  Ice Leads Ice Follows  \\\n",
       "0         NaN           NaN       NaN         NaN        NaN         NaN   \n",
       "1         NaN           NaN       NaN         NaN        NaN         NaN   \n",
       "2         NaN           NaN       NaN         NaN        NaN         NaN   \n",
       "3         NaN           NaN       NaN         NaN        NaN         NaN   \n",
       "4         NaN           NaN       NaN         NaN        NaN         NaN   \n",
       "\n",
       "   Boulder  month_year  \n",
       "0       V7     2021-03  \n",
       "1       V7     2021-03  \n",
       "2       V7     2021-03  \n",
       "3       V7     2021-03  \n",
       "4       V7     2021-01  \n",
       "\n",
       "[5 rows x 33 columns]"
      ]
     },
     "execution_count": 3,
     "metadata": {},
     "output_type": "execute_result"
    }
   ],
   "source": [
    "df.head()"
   ]
  },
  {
   "cell_type": "markdown",
   "id": "outdoor-visitor",
   "metadata": {},
   "source": [
    "# Gender Distribution"
   ]
  },
  {
   "cell_type": "code",
   "execution_count": 6,
   "id": "periodic-sight",
   "metadata": {
    "ExecuteTime": {
     "end_time": "2021-03-12T06:39:31.386326Z",
     "start_time": "2021-03-12T06:39:31.327008Z"
    }
   },
   "outputs": [
    {
     "data": {
      "text/plain": [
       "Male           436021\n",
       "Female          77710\n",
       "Unknown          1135\n",
       "Genderqueer        55\n",
       "Name: Gender, dtype: int64"
      ]
     },
     "execution_count": 6,
     "metadata": {},
     "output_type": "execute_result"
    }
   ],
   "source": [
    "df.Gender.value_counts()"
   ]
  },
  {
   "cell_type": "markdown",
   "id": "loaded-teacher",
   "metadata": {},
   "source": [
    "# Age Distribution"
   ]
  },
  {
   "cell_type": "code",
   "execution_count": 17,
   "id": "severe-profile",
   "metadata": {
    "ExecuteTime": {
     "end_time": "2021-03-12T06:44:52.878322Z",
     "start_time": "2021-03-12T06:44:52.870534Z"
    }
   },
   "outputs": [
    {
     "name": "stdout",
     "output_type": "stream",
     "text": [
      "Null values:  829\n"
     ]
    }
   ],
   "source": [
    "print('Null values: ', df['Age'].isnull().sum())"
   ]
  },
  {
   "cell_type": "code",
   "execution_count": 16,
   "id": "nuclear-hobby",
   "metadata": {
    "ExecuteTime": {
     "end_time": "2021-03-12T06:44:06.849150Z",
     "start_time": "2021-03-12T06:44:06.689786Z"
    }
   },
   "outputs": [
    {
     "data": {
      "image/png": "[encoded data removed]",
      "text/plain": [
       "<Figure size 1080x432 with 1 Axes>"
      ]
     },
     "metadata": {
      "needs_background": "light"
     },
     "output_type": "display_data"
    }
   ],
   "source": [
    "age18_25 = df.Age[(df.Age <= 25) & (df.Age >= 18)]\n",
    "age26_35 = df.Age[(df.Age <= 35) & (df.Age >= 26)]\n",
    "age36_45 = df.Age[(df.Age <= 45) & (df.Age >= 36)]\n",
    "age46_55 = df.Age[(df.Age <= 55) & (df.Age >= 46)]\n",
    "age55above = df.Age[df.Age >= 56]\n",
    "\n",
    "x = [\"18-25\",\"26-35\",\"36-45\",\"46-55\",\"55+\"]\n",
    "y = [len(age18_25.values),len(age26_35.values),len(age36_45.values),len(age46_55.values),len(age55above.values)]\n",
    "\n",
    "plt.figure(figsize=(15,6))\n",
    "sns.barplot(x=x, y=y, palette=\"rocket\")\n",
    "plt.title(\"Number of People by Age\")\n",
    "plt.xlabel(\"Ages\")\n",
    "plt.ylabel(\"Number of People\")\n",
    "plt.show()"
   ]
  },
  {
   "cell_type": "markdown",
   "id": "smaller-stroke",
   "metadata": {},
   "source": [
    "# Only Sport Climbs"
   ]
  },
  {
   "cell_type": "code",
   "execution_count": 18,
   "id": "legislative-cosmetic",
   "metadata": {
    "ExecuteTime": {
     "end_time": "2021-03-12T06:46:33.270660Z",
     "start_time": "2021-03-12T06:46:33.166493Z"
    }
   },
   "outputs": [],
   "source": [
    "df_sport = df[df['Route Type'] == 'Sport']"
   ]
  },
  {
   "cell_type": "code",
   "execution_count": 19,
   "id": "indoor-indianapolis",
   "metadata": {
    "ExecuteTime": {
     "end_time": "2021-03-12T06:46:33.821289Z",
     "start_time": "2021-03-12T06:46:33.815978Z"
    }
   },
   "outputs": [
    {
     "data": {
      "text/plain": [
       "(224163, 33)"
      ]
     },
     "execution_count": 19,
     "metadata": {},
     "output_type": "execute_result"
    }
   ],
   "source": [
    "df_sport.shape"
   ]
  },
  {
   "cell_type": "code",
   "execution_count": 21,
   "id": "automatic-advisory",
   "metadata": {
    "ExecuteTime": {
     "end_time": "2021-03-12T06:47:52.731737Z",
     "start_time": "2021-03-12T06:47:52.726145Z"
    }
   },
   "outputs": [
    {
     "data": {
      "text/plain": [
       "Index(['Unnamed: 0', 'Name', 'Link', 'Date', 'Gender', 'Age', 'Lead Follow',\n",
       "       'Membership', 'Climb Type', 'Best Times', 'Other Interests', 'Rating',\n",
       "       'Route Type', 'Style', 'Lead Style', 'URL', 'Pitches', 'Location',\n",
       "       'Avg Stars', 'Your Stars', 'Your Rating', 'Sport Leads',\n",
       "       'Sport Follows', 'Trad Leads', 'Trad Follows', 'Mixed Leads',\n",
       "       'Mixed Follows', 'Aid Leads', 'Aid Follows', 'Ice Leads', 'Ice Follows',\n",
       "       'Boulder', 'month_year'],\n",
       "      dtype='object')"
      ]
     },
     "execution_count": 21,
     "metadata": {},
     "output_type": "execute_result"
    }
   ],
   "source": [
    "df_sport.columns"
   ]
  },
  {
   "cell_type": "code",
   "execution_count": 22,
   "id": "unlikely-elite",
   "metadata": {
    "ExecuteTime": {
     "end_time": "2021-03-12T06:49:27.392986Z",
     "start_time": "2021-03-12T06:49:27.379441Z"
    }
   },
   "outputs": [],
   "source": [
    "df_sport = df_sport[['Name', 'Date', 'month_year', 'Gender', 'Age', 'Rating', 'Style', 'Lead Style', 'Pitches']]"
   ]
  },
  {
   "cell_type": "code",
   "execution_count": 23,
   "id": "incorrect-sheet",
   "metadata": {
    "ExecuteTime": {
     "end_time": "2021-03-12T06:49:35.458938Z",
     "start_time": "2021-03-12T06:49:35.444967Z"
    }
   },
   "outputs": [
    {
     "data": {
      "text/html": [
       "<div>\n",
       "<style scoped>\n",
       "    .dataframe tbody tr th:only-of-type {\n",
       "        vertical-align: middle;\n",
       "    }\n",
       "\n",
       "    .dataframe tbody tr th {\n",
       "        vertical-align: top;\n",
       "    }\n",
       "\n",
       "    .dataframe thead th {\n",
       "        text-align: right;\n",
       "    }\n",
       "</style>\n",
       "<table border=\"1\" class=\"dataframe\">\n",
       "  <thead>\n",
       "    <tr style=\"text-align: right;\">\n",
       "      <th></th>\n",
       "      <th>Name</th>\n",
       "      <th>Date</th>\n",
       "      <th>month_year</th>\n",
       "      <th>Gender</th>\n",
       "      <th>Age</th>\n",
       "      <th>Rating</th>\n",
       "      <th>Style</th>\n",
       "      <th>Lead Style</th>\n",
       "      <th>Pitches</th>\n",
       "    </tr>\n",
       "  </thead>\n",
       "  <tbody>\n",
       "    <tr>\n",
       "      <th>36</th>\n",
       "      <td>Aidan Shelburne</td>\n",
       "      <td>2020-12-19</td>\n",
       "      <td>2020-12</td>\n",
       "      <td>Male</td>\n",
       "      <td>21.0</td>\n",
       "      <td>5.11b</td>\n",
       "      <td>TR</td>\n",
       "      <td>NaN</td>\n",
       "      <td>1.0</td>\n",
       "    </tr>\n",
       "    <tr>\n",
       "      <th>120</th>\n",
       "      <td>Aidan Shelburne</td>\n",
       "      <td>2020-08-06</td>\n",
       "      <td>2020-08</td>\n",
       "      <td>Male</td>\n",
       "      <td>21.0</td>\n",
       "      <td>5.11a</td>\n",
       "      <td>Lead</td>\n",
       "      <td>Onsight</td>\n",
       "      <td>1.0</td>\n",
       "    </tr>\n",
       "    <tr>\n",
       "      <th>121</th>\n",
       "      <td>Aidan Shelburne</td>\n",
       "      <td>2020-08-06</td>\n",
       "      <td>2020-08</td>\n",
       "      <td>Male</td>\n",
       "      <td>21.0</td>\n",
       "      <td>5.10a</td>\n",
       "      <td>Lead</td>\n",
       "      <td>NaN</td>\n",
       "      <td>1.0</td>\n",
       "    </tr>\n",
       "    <tr>\n",
       "      <th>122</th>\n",
       "      <td>Aidan Shelburne</td>\n",
       "      <td>2020-08-06</td>\n",
       "      <td>2020-08</td>\n",
       "      <td>Male</td>\n",
       "      <td>21.0</td>\n",
       "      <td>5.10</td>\n",
       "      <td>Lead</td>\n",
       "      <td>NaN</td>\n",
       "      <td>1.0</td>\n",
       "    </tr>\n",
       "    <tr>\n",
       "      <th>123</th>\n",
       "      <td>Aidan Shelburne</td>\n",
       "      <td>2020-08-06</td>\n",
       "      <td>2020-08</td>\n",
       "      <td>Male</td>\n",
       "      <td>21.0</td>\n",
       "      <td>5.10</td>\n",
       "      <td>Lead</td>\n",
       "      <td>NaN</td>\n",
       "      <td>1.0</td>\n",
       "    </tr>\n",
       "  </tbody>\n",
       "</table>\n",
       "</div>"
      ],
      "text/plain": [
       "                Name        Date month_year Gender   Age Rating Style  \\\n",
       "36   Aidan Shelburne  2020-12-19    2020-12   Male  21.0  5.11b    TR   \n",
       "120  Aidan Shelburne  2020-08-06    2020-08   Male  21.0  5.11a  Lead   \n",
       "121  Aidan Shelburne  2020-08-06    2020-08   Male  21.0  5.10a  Lead   \n",
       "122  Aidan Shelburne  2020-08-06    2020-08   Male  21.0   5.10  Lead   \n",
       "123  Aidan Shelburne  2020-08-06    2020-08   Male  21.0   5.10  Lead   \n",
       "\n",
       "    Lead Style  Pitches  \n",
       "36         NaN      1.0  \n",
       "120    Onsight      1.0  \n",
       "121        NaN      1.0  \n",
       "122        NaN      1.0  \n",
       "123        NaN      1.0  "
      ]
     },
     "execution_count": 23,
     "metadata": {},
     "output_type": "execute_result"
    }
   ],
   "source": [
    "df_sport.head()"
   ]
  },
  {
   "cell_type": "markdown",
   "id": "impressive-priest",
   "metadata": {},
   "source": [
    "## Turn Sport Rating into Numerical Formal"
   ]
  },
  {
   "cell_type": "code",
   "execution_count": 24,
   "id": "raising-grocery",
   "metadata": {
    "ExecuteTime": {
     "end_time": "2021-03-12T06:50:42.054085Z",
     "start_time": "2021-03-12T06:50:42.035846Z"
    },
    "scrolled": true
   },
   "outputs": [
    {
     "data": {
      "text/plain": [
       "array(['5.11b', '5.11a', '5.10a', '5.10', '5.10b', '5.9', '5.9+',\n",
       "       '5.11b/c', '5.13c', '5.12c/d', '5.11c/d', '5.12a', '5.10a/b',\n",
       "       '5.13a', '5.12c', '5.11c', '5.12d', '5.10d', '5.12b', '5.10c',\n",
       "       '5.11d', '5.11-', '5.12b/c', '5.11+', '5.8', '5.11a/b', '5.11',\n",
       "       '5.7+', '5.10b/c', '5.7', '5.12a/b', '5.12c PG13', '5.3', '5.9-',\n",
       "       '5.10-', '5.5', '5.2', '5.10c/d', '5.4', '5.13+ R', '5.12-',\n",
       "       '5.13b', '5.6', '5.8+', '5.10+', '5.4 PG13', '5.8-', '5.10a PG13',\n",
       "       '5.12', '5.10c R', '5.10 PG13', '5.10d PG13', '5.11a PG13',\n",
       "       '5.7 R', '5.7+ PG13', '5.8 PG13', '5.9- PG13', '5.8+ PG13',\n",
       "       '5.13-', '5.10b PG13', '5.9+ PG13', '4th', '5.7 PG13', '5.6 R',\n",
       "       '5.13', '5.14a', '5.13a/b', '5.12+', '5.9 PG13', '5.10c PG13',\n",
       "       '5.10- PG13', '5.10b/c R', '5.6 PG13', '5.8 R', '5.10b R',\n",
       "       '5.10b/c PG13', '5.13d', '5.13b/c', '5.9 R', '5.9+ R', '5.10d R',\n",
       "       '5.8+ R', '5.11a R', '5.11c R', '5.11a/b PG13', '5.10a R',\n",
       "       '5.12b PG13', '5.11b PG13', '5.10+ PG13', '5.10+ R', '5.1',\n",
       "       '5.11b R', '5.12b/c PG13', '5.11c/d PG13', '5.11 PG13',\n",
       "       '5.12a/b R', '5.11- PG13', '5.10a X', '5.12c/d PG13', '5.12a R',\n",
       "       '5.10c/d PG13', '5.12a PG13', '5.10a/b R', '5.13- PG13',\n",
       "       '5.11c/d R', 'Easy 5th', '5.11b/c R', '5.11c PG13', '5.12a/b PG13',\n",
       "       '5.11d PG13', '5.12+ R', '5.11- R', '5.11+ R', '5.10 R',\n",
       "       '5.10a/b PG13', '5.12- PG13', '5.0', '5.3 PG13', '5.10- R',\n",
       "       '5.14b', '5.11b/c PG13', '5.8 X', '5.13+', '5.5 PG13',\n",
       "       '5.13a PG13', '5.12c R', '5.12- R', '5.8- PG13', '5.8- R',\n",
       "       '5.12 PG13', '5.11d R', '5.3 R', '5.12b R', '5.13c/d', '5.13c/d R',\n",
       "       '5.12d PG13', '5.10c X', '5.11 R', '5.11+ PG13', '5.5 R'],\n",
       "      dtype=object)"
      ]
     },
     "execution_count": 24,
     "metadata": {},
     "output_type": "execute_result"
    }
   ],
   "source": [
    "df_sport['Rating'].unique()"
   ]
  },
  {
   "cell_type": "code",
   "execution_count": null,
   "id": "deadly-morris",
   "metadata": {},
   "outputs": [],
   "source": []
  }
 ],
 "metadata": {
  "kernelspec": {
   "display_name": "Python 3",
   "language": "python",
   "name": "python3"
  },
  "language_info": {
   "codemirror_mode": {
    "name": "ipython",
    "version": 3
   },
   "file_extension": ".py",
   "mimetype": "text/x-python",
   "name": "python",
   "nbconvert_exporter": "python",
   "pygments_lexer": "ipython3",
   "version": "3.6.13"
  },
  "toc": {
   "base_numbering": 1,
   "nav_menu": {},
   "number_sections": true,
   "sideBar": true,
   "skip_h1_title": false,
   "title_cell": "Table of Contents",
   "title_sidebar": "Contents",
   "toc_cell": false,
   "toc_position": {},
   "toc_section_display": true,
   "toc_window_display": false
  },
  "varInspector": {
   "cols": {
    "lenName": 16,
    "lenType": 16,
    "lenVar": 40
   },
   "kernels_config": {
    "python": {
     "delete_cmd_postfix": "",
     "delete_cmd_prefix": "del ",
     "library": "var_list.py",
     "varRefreshCmd": "print(var_dic_list())"
    },
    "r": {
     "delete_cmd_postfix": ") ",
     "delete_cmd_prefix": "rm(",
     "library": "var_list.r",
     "varRefreshCmd": "cat(var_dic_list()) "
    }
   },
   "types_to_exclude": [
    "module",
    "function",
    "builtin_function_or_method",
    "instance",
    "_Feature"
   ],
   "window_display": false
  }
 },
 "nbformat": 4,
 "nbformat_minor": 5
}
