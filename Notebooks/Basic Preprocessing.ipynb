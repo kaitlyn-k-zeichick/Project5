{
 "cells": [
  {
   "cell_type": "markdown",
   "id": "located-vitamin",
   "metadata": {},
   "source": [
    "# Import Data and Libraries"
   ]
  },
  {
   "cell_type": "code",
   "execution_count": 232,
   "id": "stretch-rogers",
   "metadata": {
    "ExecuteTime": {
     "end_time": "2021-03-12T06:11:41.189406Z",
     "start_time": "2021-03-12T06:11:41.179386Z"
    }
   },
   "outputs": [],
   "source": [
    "import pandas as pd\n",
    "import numpy as np"
   ]
  },
  {
   "cell_type": "code",
   "execution_count": 233,
   "id": "bottom-church",
   "metadata": {
    "ExecuteTime": {
     "end_time": "2021-03-12T06:11:46.122232Z",
     "start_time": "2021-03-12T06:11:41.933462Z"
    }
   },
   "outputs": [
    {
     "name": "stderr",
     "output_type": "stream",
     "text": [
      "/Users/kaitlynzeichick/anaconda3/lib/python3.6/site-packages/IPython/core/interactiveshell.py:3072: DtypeWarning: Columns (1,2,3,4,5,6,7,8,9,10,11,12,13,14,15,16,17,19,20,22,25) have mixed types.Specify dtype option on import or set low_memory=False.\n",
      "  interactivity=interactivity, compiler=compiler, result=result)\n"
     ]
    }
   ],
   "source": [
    "df = pd.read_csv('raw_data.csv', lineterminator='\\n')"
   ]
  },
  {
   "cell_type": "markdown",
   "id": "northern-waterproof",
   "metadata": {},
   "source": [
    "# Remove Duplicates"
   ]
  },
  {
   "cell_type": "code",
   "execution_count": 234,
   "id": "suited-ready",
   "metadata": {
    "ExecuteTime": {
     "end_time": "2021-03-12T06:11:47.404414Z",
     "start_time": "2021-03-12T06:11:47.182327Z"
    },
    "scrolled": true
   },
   "outputs": [],
   "source": [
    "df = df.drop(columns = ['Unnamed: 0'])"
   ]
  },
  {
   "cell_type": "code",
   "execution_count": 235,
   "id": "minute-driver",
   "metadata": {
    "ExecuteTime": {
     "end_time": "2021-03-12T06:11:48.357728Z",
     "start_time": "2021-03-12T06:11:48.342055Z"
    }
   },
   "outputs": [
    {
     "data": {
      "text/plain": [
       "(1012651, 26)"
      ]
     },
     "execution_count": 235,
     "metadata": {},
     "output_type": "execute_result"
    }
   ],
   "source": [
    "df.shape"
   ]
  },
  {
   "cell_type": "code",
   "execution_count": 236,
   "id": "adaptive-procurement",
   "metadata": {
    "ExecuteTime": {
     "end_time": "2021-03-12T06:11:49.459220Z",
     "start_time": "2021-03-12T06:11:49.410087Z"
    }
   },
   "outputs": [
    {
     "data": {
      "text/plain": [
       "3983"
      ]
     },
     "execution_count": 236,
     "metadata": {},
     "output_type": "execute_result"
    }
   ],
   "source": [
    "len(df.Name.unique())"
   ]
  },
  {
   "cell_type": "code",
   "execution_count": 237,
   "id": "challenging-frontier",
   "metadata": {
    "ExecuteTime": {
     "end_time": "2021-03-12T06:11:54.097417Z",
     "start_time": "2021-03-12T06:11:52.071360Z"
    }
   },
   "outputs": [],
   "source": [
    "df = df.drop_duplicates()"
   ]
  },
  {
   "cell_type": "code",
   "execution_count": 238,
   "id": "homeless-there",
   "metadata": {
    "ExecuteTime": {
     "end_time": "2021-03-12T06:11:54.717033Z",
     "start_time": "2021-03-12T06:11:54.695171Z"
    }
   },
   "outputs": [
    {
     "data": {
      "text/plain": [
       "3983"
      ]
     },
     "execution_count": 238,
     "metadata": {},
     "output_type": "execute_result"
    }
   ],
   "source": [
    "len(df.Name.unique())"
   ]
  },
  {
   "cell_type": "code",
   "execution_count": 239,
   "id": "touched-consolidation",
   "metadata": {
    "ExecuteTime": {
     "end_time": "2021-03-12T06:11:55.799469Z",
     "start_time": "2021-03-12T06:11:55.793489Z"
    }
   },
   "outputs": [
    {
     "data": {
      "text/plain": [
       "(516223, 26)"
      ]
     },
     "execution_count": 239,
     "metadata": {},
     "output_type": "execute_result"
    }
   ],
   "source": [
    "df.shape"
   ]
  },
  {
   "cell_type": "markdown",
   "id": "lined-large",
   "metadata": {},
   "source": [
    "# Drop Unnecessary Columns"
   ]
  },
  {
   "cell_type": "code",
   "execution_count": 240,
   "id": "equipped-lobby",
   "metadata": {
    "ExecuteTime": {
     "end_time": "2021-03-12T06:11:56.735985Z",
     "start_time": "2021-03-12T06:11:56.720684Z"
    }
   },
   "outputs": [
    {
     "data": {
      "text/plain": [
       "Index(['Unnamed: 0.1', 'Name', 'Link', 'Date', 'Gender', 'Age', 'Lead Follow',\n",
       "       'Membership', 'Climb Type', 'Best Times', 'Other Interests',\n",
       "       'Other Info', 'Route', 'Rating', 'Route Type', 'Style', 'Lead Style',\n",
       "       'Length', 'Notes', 'URL', 'Pitches', 'Location', 'Avg Stars',\n",
       "       'Your Stars', 'Your Rating', 'Rating Code'],\n",
       "      dtype='object')"
      ]
     },
     "execution_count": 240,
     "metadata": {},
     "output_type": "execute_result"
    }
   ],
   "source": [
    "df.columns"
   ]
  },
  {
   "cell_type": "code",
   "execution_count": 241,
   "id": "random-henry",
   "metadata": {
    "ExecuteTime": {
     "end_time": "2021-03-12T06:11:57.635505Z",
     "start_time": "2021-03-12T06:11:57.507162Z"
    }
   },
   "outputs": [],
   "source": [
    "df = df.drop(columns = ['Unnamed: 0.1', 'Other Info', 'Route', 'Length', 'Notes', 'Rating Code'])"
   ]
  },
  {
   "cell_type": "code",
   "execution_count": 242,
   "id": "grave-degree",
   "metadata": {
    "ExecuteTime": {
     "end_time": "2021-03-12T06:11:58.136083Z",
     "start_time": "2021-03-12T06:11:58.110248Z"
    }
   },
   "outputs": [
    {
     "data": {
      "text/html": [
       "<div>\n",
       "<style scoped>\n",
       "    .dataframe tbody tr th:only-of-type {\n",
       "        vertical-align: middle;\n",
       "    }\n",
       "\n",
       "    .dataframe tbody tr th {\n",
       "        vertical-align: top;\n",
       "    }\n",
       "\n",
       "    .dataframe thead th {\n",
       "        text-align: right;\n",
       "    }\n",
       "</style>\n",
       "<table border=\"1\" class=\"dataframe\">\n",
       "  <thead>\n",
       "    <tr style=\"text-align: right;\">\n",
       "      <th></th>\n",
       "      <th>Name</th>\n",
       "      <th>Link</th>\n",
       "      <th>Date</th>\n",
       "      <th>Gender</th>\n",
       "      <th>Age</th>\n",
       "      <th>Lead Follow</th>\n",
       "      <th>Membership</th>\n",
       "      <th>Climb Type</th>\n",
       "      <th>Best Times</th>\n",
       "      <th>Other Interests</th>\n",
       "      <th>Rating</th>\n",
       "      <th>Route Type</th>\n",
       "      <th>Style</th>\n",
       "      <th>Lead Style</th>\n",
       "      <th>URL</th>\n",
       "      <th>Pitches</th>\n",
       "      <th>Location</th>\n",
       "      <th>Avg Stars</th>\n",
       "      <th>Your Stars</th>\n",
       "      <th>Your Rating</th>\n",
       "    </tr>\n",
       "  </thead>\n",
       "  <tbody>\n",
       "    <tr>\n",
       "      <th>0</th>\n",
       "      <td>Aidan Shelburne</td>\n",
       "      <td>https://www.mountainproject.com/user/200717675/aidan-shelburne</td>\n",
       "      <td>2021-03-08</td>\n",
       "      <td>Male</td>\n",
       "      <td>21</td>\n",
       "      <td>Sport: leads 5.11a, follows 5.11d\\nBoulders: V7</td>\n",
       "      <td>\\nApr 1, 2020\\n</td>\n",
       "      <td>Sport, TR, Gym</td>\n",
       "      <td>Weekday afternoons/Weekends</td>\n",
       "      <td>Drawing, Skiing, Hiking, Biking</td>\n",
       "      <td>V2 R</td>\n",
       "      <td>Boulder</td>\n",
       "      <td>NaN</td>\n",
       "      <td>NaN</td>\n",
       "      <td>https://www.mountainproject.com/route/105749222/contemplation</td>\n",
       "      <td>1.0</td>\n",
       "      <td>Boulder, CO</td>\n",
       "      <td>2.7</td>\n",
       "      <td>-1.0</td>\n",
       "      <td>NaN</td>\n",
       "    </tr>\n",
       "    <tr>\n",
       "      <th>1</th>\n",
       "      <td>Aidan Shelburne</td>\n",
       "      <td>https://www.mountainproject.com/user/200717675/aidan-shelburne</td>\n",
       "      <td>2021-03-06</td>\n",
       "      <td>Male</td>\n",
       "      <td>21</td>\n",
       "      <td>Sport: leads 5.11a, follows 5.11d\\nBoulders: V7</td>\n",
       "      <td>\\nApr 1, 2020\\n</td>\n",
       "      <td>Sport, TR, Gym</td>\n",
       "      <td>Weekday afternoons/Weekends</td>\n",
       "      <td>Drawing, Skiing, Hiking, Biking</td>\n",
       "      <td>V6</td>\n",
       "      <td>Boulder</td>\n",
       "      <td>NaN</td>\n",
       "      <td>NaN</td>\n",
       "      <td>https://www.mountainproject.com/route/106642006/graveyard-shift</td>\n",
       "      <td>1.0</td>\n",
       "      <td>Boulder, CO</td>\n",
       "      <td>2.8</td>\n",
       "      <td>-1.0</td>\n",
       "      <td>NaN</td>\n",
       "    </tr>\n",
       "    <tr>\n",
       "      <th>2</th>\n",
       "      <td>Aidan Shelburne</td>\n",
       "      <td>https://www.mountainproject.com/user/200717675/aidan-shelburne</td>\n",
       "      <td>2021-03-06</td>\n",
       "      <td>Male</td>\n",
       "      <td>21</td>\n",
       "      <td>Sport: leads 5.11a, follows 5.11d\\nBoulders: V7</td>\n",
       "      <td>\\nApr 1, 2020\\n</td>\n",
       "      <td>Sport, TR, Gym</td>\n",
       "      <td>Weekday afternoons/Weekends</td>\n",
       "      <td>Drawing, Skiing, Hiking, Biking</td>\n",
       "      <td>V4</td>\n",
       "      <td>Boulder</td>\n",
       "      <td>NaN</td>\n",
       "      <td>NaN</td>\n",
       "      <td>https://www.mountainproject.com/route/105749208/traverse-ramp</td>\n",
       "      <td>1.0</td>\n",
       "      <td>Boulder, CO</td>\n",
       "      <td>1.8</td>\n",
       "      <td>-1.0</td>\n",
       "      <td>NaN</td>\n",
       "    </tr>\n",
       "    <tr>\n",
       "      <th>3</th>\n",
       "      <td>Aidan Shelburne</td>\n",
       "      <td>https://www.mountainproject.com/user/200717675/aidan-shelburne</td>\n",
       "      <td>2021-03-06</td>\n",
       "      <td>Male</td>\n",
       "      <td>21</td>\n",
       "      <td>Sport: leads 5.11a, follows 5.11d\\nBoulders: V7</td>\n",
       "      <td>\\nApr 1, 2020\\n</td>\n",
       "      <td>Sport, TR, Gym</td>\n",
       "      <td>Weekday afternoons/Weekends</td>\n",
       "      <td>Drawing, Skiing, Hiking, Biking</td>\n",
       "      <td>V2</td>\n",
       "      <td>Boulder</td>\n",
       "      <td>NaN</td>\n",
       "      <td>NaN</td>\n",
       "      <td>https://www.mountainproject.com/route/105761961/east-inside-corner</td>\n",
       "      <td>1.0</td>\n",
       "      <td>Boulder, CO</td>\n",
       "      <td>2.1</td>\n",
       "      <td>-1.0</td>\n",
       "      <td>NaN</td>\n",
       "    </tr>\n",
       "    <tr>\n",
       "      <th>4</th>\n",
       "      <td>Aidan Shelburne</td>\n",
       "      <td>https://www.mountainproject.com/user/200717675/aidan-shelburne</td>\n",
       "      <td>2021-01-16</td>\n",
       "      <td>Male</td>\n",
       "      <td>21</td>\n",
       "      <td>Sport: leads 5.11a, follows 5.11d\\nBoulders: V7</td>\n",
       "      <td>\\nApr 1, 2020\\n</td>\n",
       "      <td>Sport, TR, Gym</td>\n",
       "      <td>Weekday afternoons/Weekends</td>\n",
       "      <td>Drawing, Skiing, Hiking, Biking</td>\n",
       "      <td>V6</td>\n",
       "      <td>Boulder</td>\n",
       "      <td>NaN</td>\n",
       "      <td>NaN</td>\n",
       "      <td>https://www.mountainproject.com/route/115438242/stranger-than-friction</td>\n",
       "      <td>1.0</td>\n",
       "      <td>Boulder, CO</td>\n",
       "      <td>3.6</td>\n",
       "      <td>-1.0</td>\n",
       "      <td>NaN</td>\n",
       "    </tr>\n",
       "  </tbody>\n",
       "</table>\n",
       "</div>"
      ],
      "text/plain": [
       "              Name  \\\n",
       "0  Aidan Shelburne   \n",
       "1  Aidan Shelburne   \n",
       "2  Aidan Shelburne   \n",
       "3  Aidan Shelburne   \n",
       "4  Aidan Shelburne   \n",
       "\n",
       "                                                             Link        Date  \\\n",
       "0  https://www.mountainproject.com/user/200717675/aidan-shelburne  2021-03-08   \n",
       "1  https://www.mountainproject.com/user/200717675/aidan-shelburne  2021-03-06   \n",
       "2  https://www.mountainproject.com/user/200717675/aidan-shelburne  2021-03-06   \n",
       "3  https://www.mountainproject.com/user/200717675/aidan-shelburne  2021-03-06   \n",
       "4  https://www.mountainproject.com/user/200717675/aidan-shelburne  2021-01-16   \n",
       "\n",
       "  Gender Age                                      Lead Follow  \\\n",
       "0   Male  21  Sport: leads 5.11a, follows 5.11d\\nBoulders: V7   \n",
       "1   Male  21  Sport: leads 5.11a, follows 5.11d\\nBoulders: V7   \n",
       "2   Male  21  Sport: leads 5.11a, follows 5.11d\\nBoulders: V7   \n",
       "3   Male  21  Sport: leads 5.11a, follows 5.11d\\nBoulders: V7   \n",
       "4   Male  21  Sport: leads 5.11a, follows 5.11d\\nBoulders: V7   \n",
       "\n",
       "        Membership      Climb Type                   Best Times  \\\n",
       "0  \\nApr 1, 2020\\n  Sport, TR, Gym  Weekday afternoons/Weekends   \n",
       "1  \\nApr 1, 2020\\n  Sport, TR, Gym  Weekday afternoons/Weekends   \n",
       "2  \\nApr 1, 2020\\n  Sport, TR, Gym  Weekday afternoons/Weekends   \n",
       "3  \\nApr 1, 2020\\n  Sport, TR, Gym  Weekday afternoons/Weekends   \n",
       "4  \\nApr 1, 2020\\n  Sport, TR, Gym  Weekday afternoons/Weekends   \n",
       "\n",
       "                   Other Interests Rating Route Type Style Lead Style  \\\n",
       "0  Drawing, Skiing, Hiking, Biking   V2 R    Boulder   NaN        NaN   \n",
       "1  Drawing, Skiing, Hiking, Biking     V6    Boulder   NaN        NaN   \n",
       "2  Drawing, Skiing, Hiking, Biking     V4    Boulder   NaN        NaN   \n",
       "3  Drawing, Skiing, Hiking, Biking     V2    Boulder   NaN        NaN   \n",
       "4  Drawing, Skiing, Hiking, Biking     V6    Boulder   NaN        NaN   \n",
       "\n",
       "                                                                      URL  \\\n",
       "0           https://www.mountainproject.com/route/105749222/contemplation   \n",
       "1         https://www.mountainproject.com/route/106642006/graveyard-shift   \n",
       "2           https://www.mountainproject.com/route/105749208/traverse-ramp   \n",
       "3      https://www.mountainproject.com/route/105761961/east-inside-corner   \n",
       "4  https://www.mountainproject.com/route/115438242/stranger-than-friction   \n",
       "\n",
       "   Pitches     Location  Avg Stars  Your Stars Your Rating  \n",
       "0      1.0  Boulder, CO        2.7        -1.0         NaN  \n",
       "1      1.0  Boulder, CO        2.8        -1.0         NaN  \n",
       "2      1.0  Boulder, CO        1.8        -1.0         NaN  \n",
       "3      1.0  Boulder, CO        2.1        -1.0         NaN  \n",
       "4      1.0  Boulder, CO        3.6        -1.0         NaN  "
      ]
     },
     "execution_count": 242,
     "metadata": {},
     "output_type": "execute_result"
    }
   ],
   "source": [
    "df.head()"
   ]
  },
  {
   "cell_type": "markdown",
   "id": "ahead-desperate",
   "metadata": {},
   "source": [
    "# Clean Columns"
   ]
  },
  {
   "cell_type": "markdown",
   "id": "fitting-click",
   "metadata": {},
   "source": [
    "## Age"
   ]
  },
  {
   "cell_type": "code",
   "execution_count": 243,
   "id": "ideal-glucose",
   "metadata": {
    "ExecuteTime": {
     "end_time": "2021-03-12T06:11:59.872984Z",
     "start_time": "2021-03-12T06:11:59.732481Z"
    },
    "scrolled": true
   },
   "outputs": [],
   "source": [
    "# Turn age column values into integers, and turn non-ints into nans\n",
    "df['Age'] = pd.to_numeric(df.Age, errors='coerce')"
   ]
  },
  {
   "cell_type": "code",
   "execution_count": 244,
   "id": "substantial-plane",
   "metadata": {
    "ExecuteTime": {
     "end_time": "2021-03-12T06:12:00.356013Z",
     "start_time": "2021-03-12T06:12:00.340784Z"
    },
    "scrolled": true
   },
   "outputs": [
    {
     "data": {
      "text/plain": [
       "array([21., 22., 23., 24., 25., 26., 27., 28., 29., 30., 31., 32.,  0.,\n",
       "       33., nan,  3.,  2.,  4., 34., 35., 36., 37., -1., 38., 39., 40.,\n",
       "       41., 50., 42., 43., 46., 47., 49., 45., 44., 48., 58., 52., 53.,\n",
       "       60., 55., 54., 56., 51., 59., 61., 57., 63., 62., 64., 66., 65.,\n",
       "       68., 70., 69., 67., 20., 71.])"
      ]
     },
     "execution_count": 244,
     "metadata": {},
     "output_type": "execute_result"
    }
   ],
   "source": [
    "# Sanity Check\n",
    "df['Age'].unique()"
   ]
  },
  {
   "cell_type": "code",
   "execution_count": 245,
   "id": "earlier-place",
   "metadata": {
    "ExecuteTime": {
     "end_time": "2021-03-12T06:12:01.087173Z",
     "start_time": "2021-03-12T06:12:01.056535Z"
    }
   },
   "outputs": [],
   "source": [
    "# Turn ages less than 20 into nans, because I only scraped data of people over 20.\n",
    "df.loc[(df.Age < 20),'Age'] = np.nan"
   ]
  },
  {
   "cell_type": "code",
   "execution_count": 246,
   "id": "returning-marks",
   "metadata": {
    "ExecuteTime": {
     "end_time": "2021-03-12T06:12:01.779830Z",
     "start_time": "2021-03-12T06:12:01.768321Z"
    },
    "scrolled": true
   },
   "outputs": [
    {
     "data": {
      "text/plain": [
       "array([21., 22., 23., 24., 25., 26., 27., 28., 29., 30., 31., 32., nan,\n",
       "       33., 34., 35., 36., 37., 38., 39., 40., 41., 50., 42., 43., 46.,\n",
       "       47., 49., 45., 44., 48., 58., 52., 53., 60., 55., 54., 56., 51.,\n",
       "       59., 61., 57., 63., 62., 64., 66., 65., 68., 70., 69., 67., 20.,\n",
       "       71.])"
      ]
     },
     "execution_count": 246,
     "metadata": {},
     "output_type": "execute_result"
    }
   ],
   "source": [
    "# Sanity Check\n",
    "df['Age'].unique()"
   ]
  },
  {
   "cell_type": "markdown",
   "id": "extraordinary-gather",
   "metadata": {},
   "source": [
    "## Date"
   ]
  },
  {
   "cell_type": "code",
   "execution_count": 247,
   "id": "legal-qualification",
   "metadata": {
    "ExecuteTime": {
     "end_time": "2021-03-12T06:12:03.660888Z",
     "start_time": "2021-03-12T06:12:03.490492Z"
    }
   },
   "outputs": [],
   "source": [
    "# Turn into datetime column\n",
    "df['Date'] = pd.to_datetime(df['Date'], errors = 'coerce')"
   ]
  },
  {
   "cell_type": "code",
   "execution_count": 248,
   "id": "synthetic-freeware",
   "metadata": {
    "ExecuteTime": {
     "end_time": "2021-03-12T06:12:05.024455Z",
     "start_time": "2021-03-12T06:12:04.929315Z"
    },
    "scrolled": true
   },
   "outputs": [
    {
     "data": {
      "text/html": [
       "<div>\n",
       "<style scoped>\n",
       "    .dataframe tbody tr th:only-of-type {\n",
       "        vertical-align: middle;\n",
       "    }\n",
       "\n",
       "    .dataframe tbody tr th {\n",
       "        vertical-align: top;\n",
       "    }\n",
       "\n",
       "    .dataframe thead th {\n",
       "        text-align: right;\n",
       "    }\n",
       "</style>\n",
       "<table border=\"1\" class=\"dataframe\">\n",
       "  <thead>\n",
       "    <tr style=\"text-align: right;\">\n",
       "      <th></th>\n",
       "      <th>Name</th>\n",
       "      <th>Link</th>\n",
       "      <th>Date</th>\n",
       "      <th>Gender</th>\n",
       "      <th>Age</th>\n",
       "      <th>Lead Follow</th>\n",
       "      <th>Membership</th>\n",
       "      <th>Climb Type</th>\n",
       "      <th>Best Times</th>\n",
       "      <th>Other Interests</th>\n",
       "      <th>Rating</th>\n",
       "      <th>Route Type</th>\n",
       "      <th>Style</th>\n",
       "      <th>Lead Style</th>\n",
       "      <th>URL</th>\n",
       "      <th>Pitches</th>\n",
       "      <th>Location</th>\n",
       "      <th>Avg Stars</th>\n",
       "      <th>Your Stars</th>\n",
       "      <th>Your Rating</th>\n",
       "    </tr>\n",
       "  </thead>\n",
       "  <tbody>\n",
       "    <tr>\n",
       "      <th>660818</th>\n",
       "      <td>Sean Brokaw</td>\n",
       "      <td>https://www.mountainproject.com/user/107936845/sean-brokaw</td>\n",
       "      <td>1824-09-26</td>\n",
       "      <td>Male</td>\n",
       "      <td>47.0</td>\n",
       "      <td>Trad: leads 5.11b, follows 3rd\\nSport: leads 5.12d, follows 5.12d\\nBoulders: V6</td>\n",
       "      <td>\\nDec 20, 2012\\n</td>\n",
       "      <td>Trad, Sport, Gym</td>\n",
       "      <td>Weekday afternoons/weekends</td>\n",
       "      <td>Bike Commuting, Live Music</td>\n",
       "      <td>5.12b</td>\n",
       "      <td>Sport</td>\n",
       "      <td>TR</td>\n",
       "      <td>NaN</td>\n",
       "      <td>https://www.mountainproject.com/route/107239533/coloring-outside-the-lines</td>\n",
       "      <td>4.0</td>\n",
       "      <td>Boulder, CO</td>\n",
       "      <td>3.7</td>\n",
       "      <td>-1.0</td>\n",
       "      <td>NaN</td>\n",
       "    </tr>\n",
       "    <tr>\n",
       "      <th>45992</th>\n",
       "      <td>Andrew.Stegs</td>\n",
       "      <td>https://www.mountainproject.com/user/106620808/andrewstegs</td>\n",
       "      <td>1900-01-01</td>\n",
       "      <td>Male</td>\n",
       "      <td>31.0</td>\n",
       "      <td>Trad: leads 5.7, follows 5.9\\nSport: leads 5.9, follows 5.10b\\nIce: leads WI2, follows WI4\\nMixed: leads M2, follows M3</td>\n",
       "      <td>\\nDec 4, 2009\\n</td>\n",
       "      <td>Trad, Sport, TR, Gym</td>\n",
       "      <td>NaN</td>\n",
       "      <td>NaN</td>\n",
       "      <td>5.8</td>\n",
       "      <td>Trad</td>\n",
       "      <td>NaN</td>\n",
       "      <td>NaN</td>\n",
       "      <td>https://www.mountainproject.com/route/105749299/west-crack-aka-star-wars</td>\n",
       "      <td>2.0</td>\n",
       "      <td>80501</td>\n",
       "      <td>3.0</td>\n",
       "      <td>-1.0</td>\n",
       "      <td>NaN</td>\n",
       "    </tr>\n",
       "    <tr>\n",
       "      <th>45993</th>\n",
       "      <td>Andrew.Stegs</td>\n",
       "      <td>https://www.mountainproject.com/user/106620808/andrewstegs</td>\n",
       "      <td>1900-01-01</td>\n",
       "      <td>Male</td>\n",
       "      <td>31.0</td>\n",
       "      <td>Trad: leads 5.7, follows 5.9\\nSport: leads 5.9, follows 5.10b\\nIce: leads WI2, follows WI4\\nMixed: leads M2, follows M3</td>\n",
       "      <td>\\nDec 4, 2009\\n</td>\n",
       "      <td>Trad, Sport, TR, Gym</td>\n",
       "      <td>NaN</td>\n",
       "      <td>NaN</td>\n",
       "      <td>5.7</td>\n",
       "      <td>Trad</td>\n",
       "      <td>NaN</td>\n",
       "      <td>NaN</td>\n",
       "      <td>https://www.mountainproject.com/route/105748936/verschneidung-dihedral</td>\n",
       "      <td>2.0</td>\n",
       "      <td>80501</td>\n",
       "      <td>2.9</td>\n",
       "      <td>-1.0</td>\n",
       "      <td>NaN</td>\n",
       "    </tr>\n",
       "    <tr>\n",
       "      <th>45994</th>\n",
       "      <td>Andrew.Stegs</td>\n",
       "      <td>https://www.mountainproject.com/user/106620808/andrewstegs</td>\n",
       "      <td>1900-01-01</td>\n",
       "      <td>Male</td>\n",
       "      <td>31.0</td>\n",
       "      <td>Trad: leads 5.7, follows 5.9\\nSport: leads 5.9, follows 5.10b\\nIce: leads WI2, follows WI4\\nMixed: leads M2, follows M3</td>\n",
       "      <td>\\nDec 4, 2009\\n</td>\n",
       "      <td>Trad, Sport, TR, Gym</td>\n",
       "      <td>NaN</td>\n",
       "      <td>NaN</td>\n",
       "      <td>5.10a</td>\n",
       "      <td>Trad</td>\n",
       "      <td>NaN</td>\n",
       "      <td>NaN</td>\n",
       "      <td>https://www.mountainproject.com/route/105749599/handcracker-direct</td>\n",
       "      <td>5.0</td>\n",
       "      <td>80501</td>\n",
       "      <td>3.6</td>\n",
       "      <td>-1.0</td>\n",
       "      <td>NaN</td>\n",
       "    </tr>\n",
       "    <tr>\n",
       "      <th>45995</th>\n",
       "      <td>Andrew.Stegs</td>\n",
       "      <td>https://www.mountainproject.com/user/106620808/andrewstegs</td>\n",
       "      <td>1900-01-01</td>\n",
       "      <td>Male</td>\n",
       "      <td>31.0</td>\n",
       "      <td>Trad: leads 5.7, follows 5.9\\nSport: leads 5.9, follows 5.10b\\nIce: leads WI2, follows WI4\\nMixed: leads M2, follows M3</td>\n",
       "      <td>\\nDec 4, 2009\\n</td>\n",
       "      <td>Trad, Sport, TR, Gym</td>\n",
       "      <td>NaN</td>\n",
       "      <td>NaN</td>\n",
       "      <td>5.10a</td>\n",
       "      <td>Trad, Sport</td>\n",
       "      <td>NaN</td>\n",
       "      <td>NaN</td>\n",
       "      <td>https://www.mountainproject.com/route/105748966/climb-of-the-ancient-mariner</td>\n",
       "      <td>3.0</td>\n",
       "      <td>80501</td>\n",
       "      <td>3.7</td>\n",
       "      <td>-1.0</td>\n",
       "      <td>NaN</td>\n",
       "    </tr>\n",
       "    <tr>\n",
       "      <th>45996</th>\n",
       "      <td>Andrew.Stegs</td>\n",
       "      <td>https://www.mountainproject.com/user/106620808/andrewstegs</td>\n",
       "      <td>1900-01-01</td>\n",
       "      <td>Male</td>\n",
       "      <td>31.0</td>\n",
       "      <td>Trad: leads 5.7, follows 5.9\\nSport: leads 5.9, follows 5.10b\\nIce: leads WI2, follows WI4\\nMixed: leads M2, follows M3</td>\n",
       "      <td>\\nDec 4, 2009\\n</td>\n",
       "      <td>Trad, Sport, TR, Gym</td>\n",
       "      <td>NaN</td>\n",
       "      <td>NaN</td>\n",
       "      <td>5.9</td>\n",
       "      <td>Sport</td>\n",
       "      <td>NaN</td>\n",
       "      <td>NaN</td>\n",
       "      <td>https://www.mountainproject.com/route/106811713/royal-flush</td>\n",
       "      <td>8.0</td>\n",
       "      <td>80501</td>\n",
       "      <td>3.0</td>\n",
       "      <td>-1.0</td>\n",
       "      <td>NaN</td>\n",
       "    </tr>\n",
       "    <tr>\n",
       "      <th>45997</th>\n",
       "      <td>Andrew.Stegs</td>\n",
       "      <td>https://www.mountainproject.com/user/106620808/andrewstegs</td>\n",
       "      <td>1900-01-01</td>\n",
       "      <td>Male</td>\n",
       "      <td>31.0</td>\n",
       "      <td>Trad: leads 5.7, follows 5.9\\nSport: leads 5.9, follows 5.10b\\nIce: leads WI2, follows WI4\\nMixed: leads M2, follows M3</td>\n",
       "      <td>\\nDec 4, 2009\\n</td>\n",
       "      <td>Trad, Sport, TR, Gym</td>\n",
       "      <td>NaN</td>\n",
       "      <td>NaN</td>\n",
       "      <td>5.8</td>\n",
       "      <td>Trad</td>\n",
       "      <td>NaN</td>\n",
       "      <td>NaN</td>\n",
       "      <td>https://www.mountainproject.com/route/105751960/gambit</td>\n",
       "      <td>5.0</td>\n",
       "      <td>80501</td>\n",
       "      <td>3.6</td>\n",
       "      <td>-1.0</td>\n",
       "      <td>NaN</td>\n",
       "    </tr>\n",
       "    <tr>\n",
       "      <th>45998</th>\n",
       "      <td>Andrew.Stegs</td>\n",
       "      <td>https://www.mountainproject.com/user/106620808/andrewstegs</td>\n",
       "      <td>1900-01-01</td>\n",
       "      <td>Male</td>\n",
       "      <td>31.0</td>\n",
       "      <td>Trad: leads 5.7, follows 5.9\\nSport: leads 5.9, follows 5.10b\\nIce: leads WI2, follows WI4\\nMixed: leads M2, follows M3</td>\n",
       "      <td>\\nDec 4, 2009\\n</td>\n",
       "      <td>Trad, Sport, TR, Gym</td>\n",
       "      <td>NaN</td>\n",
       "      <td>NaN</td>\n",
       "      <td>5.6 R</td>\n",
       "      <td>Trad</td>\n",
       "      <td>NaN</td>\n",
       "      <td>NaN</td>\n",
       "      <td>https://www.mountainproject.com/route/105748268/direct-route</td>\n",
       "      <td>10.0</td>\n",
       "      <td>80501</td>\n",
       "      <td>3.5</td>\n",
       "      <td>-1.0</td>\n",
       "      <td>NaN</td>\n",
       "    </tr>\n",
       "    <tr>\n",
       "      <th>45999</th>\n",
       "      <td>Andrew.Stegs</td>\n",
       "      <td>https://www.mountainproject.com/user/106620808/andrewstegs</td>\n",
       "      <td>1900-01-01</td>\n",
       "      <td>Male</td>\n",
       "      <td>31.0</td>\n",
       "      <td>Trad: leads 5.7, follows 5.9\\nSport: leads 5.9, follows 5.10b\\nIce: leads WI2, follows WI4\\nMixed: leads M2, follows M3</td>\n",
       "      <td>\\nDec 4, 2009\\n</td>\n",
       "      <td>Trad, Sport, TR, Gym</td>\n",
       "      <td>NaN</td>\n",
       "      <td>NaN</td>\n",
       "      <td>5.4 M2</td>\n",
       "      <td>Trad, Mixed, Alpine</td>\n",
       "      <td>NaN</td>\n",
       "      <td>NaN</td>\n",
       "      <td>https://www.mountainproject.com/route/105747529/dreamweaver</td>\n",
       "      <td>1.0</td>\n",
       "      <td>80501</td>\n",
       "      <td>3.6</td>\n",
       "      <td>-1.0</td>\n",
       "      <td>NaN</td>\n",
       "    </tr>\n",
       "    <tr>\n",
       "      <th>46000</th>\n",
       "      <td>Andrew.Stegs</td>\n",
       "      <td>https://www.mountainproject.com/user/106620808/andrewstegs</td>\n",
       "      <td>1900-01-01</td>\n",
       "      <td>Male</td>\n",
       "      <td>31.0</td>\n",
       "      <td>Trad: leads 5.7, follows 5.9\\nSport: leads 5.9, follows 5.10b\\nIce: leads WI2, follows WI4\\nMixed: leads M2, follows M3</td>\n",
       "      <td>\\nDec 4, 2009\\n</td>\n",
       "      <td>Trad, Sport, TR, Gym</td>\n",
       "      <td>NaN</td>\n",
       "      <td>NaN</td>\n",
       "      <td>5.4</td>\n",
       "      <td>Trad</td>\n",
       "      <td>NaN</td>\n",
       "      <td>NaN</td>\n",
       "      <td>https://www.mountainproject.com/route/105748047/east-face-standard</td>\n",
       "      <td>8.0</td>\n",
       "      <td>80501</td>\n",
       "      <td>3.6</td>\n",
       "      <td>-1.0</td>\n",
       "      <td>NaN</td>\n",
       "    </tr>\n",
       "  </tbody>\n",
       "</table>\n",
       "</div>"
      ],
      "text/plain": [
       "                Name  \\\n",
       "660818   Sean Brokaw   \n",
       "45992   Andrew.Stegs   \n",
       "45993   Andrew.Stegs   \n",
       "45994   Andrew.Stegs   \n",
       "45995   Andrew.Stegs   \n",
       "45996   Andrew.Stegs   \n",
       "45997   Andrew.Stegs   \n",
       "45998   Andrew.Stegs   \n",
       "45999   Andrew.Stegs   \n",
       "46000   Andrew.Stegs   \n",
       "\n",
       "                                                              Link       Date  \\\n",
       "660818  https://www.mountainproject.com/user/107936845/sean-brokaw 1824-09-26   \n",
       "45992   https://www.mountainproject.com/user/106620808/andrewstegs 1900-01-01   \n",
       "45993   https://www.mountainproject.com/user/106620808/andrewstegs 1900-01-01   \n",
       "45994   https://www.mountainproject.com/user/106620808/andrewstegs 1900-01-01   \n",
       "45995   https://www.mountainproject.com/user/106620808/andrewstegs 1900-01-01   \n",
       "45996   https://www.mountainproject.com/user/106620808/andrewstegs 1900-01-01   \n",
       "45997   https://www.mountainproject.com/user/106620808/andrewstegs 1900-01-01   \n",
       "45998   https://www.mountainproject.com/user/106620808/andrewstegs 1900-01-01   \n",
       "45999   https://www.mountainproject.com/user/106620808/andrewstegs 1900-01-01   \n",
       "46000   https://www.mountainproject.com/user/106620808/andrewstegs 1900-01-01   \n",
       "\n",
       "       Gender   Age  \\\n",
       "660818   Male  47.0   \n",
       "45992    Male  31.0   \n",
       "45993    Male  31.0   \n",
       "45994    Male  31.0   \n",
       "45995    Male  31.0   \n",
       "45996    Male  31.0   \n",
       "45997    Male  31.0   \n",
       "45998    Male  31.0   \n",
       "45999    Male  31.0   \n",
       "46000    Male  31.0   \n",
       "\n",
       "                                                                                                                    Lead Follow  \\\n",
       "660818                                          Trad: leads 5.11b, follows 3rd\\nSport: leads 5.12d, follows 5.12d\\nBoulders: V6   \n",
       "45992   Trad: leads 5.7, follows 5.9\\nSport: leads 5.9, follows 5.10b\\nIce: leads WI2, follows WI4\\nMixed: leads M2, follows M3   \n",
       "45993   Trad: leads 5.7, follows 5.9\\nSport: leads 5.9, follows 5.10b\\nIce: leads WI2, follows WI4\\nMixed: leads M2, follows M3   \n",
       "45994   Trad: leads 5.7, follows 5.9\\nSport: leads 5.9, follows 5.10b\\nIce: leads WI2, follows WI4\\nMixed: leads M2, follows M3   \n",
       "45995   Trad: leads 5.7, follows 5.9\\nSport: leads 5.9, follows 5.10b\\nIce: leads WI2, follows WI4\\nMixed: leads M2, follows M3   \n",
       "45996   Trad: leads 5.7, follows 5.9\\nSport: leads 5.9, follows 5.10b\\nIce: leads WI2, follows WI4\\nMixed: leads M2, follows M3   \n",
       "45997   Trad: leads 5.7, follows 5.9\\nSport: leads 5.9, follows 5.10b\\nIce: leads WI2, follows WI4\\nMixed: leads M2, follows M3   \n",
       "45998   Trad: leads 5.7, follows 5.9\\nSport: leads 5.9, follows 5.10b\\nIce: leads WI2, follows WI4\\nMixed: leads M2, follows M3   \n",
       "45999   Trad: leads 5.7, follows 5.9\\nSport: leads 5.9, follows 5.10b\\nIce: leads WI2, follows WI4\\nMixed: leads M2, follows M3   \n",
       "46000   Trad: leads 5.7, follows 5.9\\nSport: leads 5.9, follows 5.10b\\nIce: leads WI2, follows WI4\\nMixed: leads M2, follows M3   \n",
       "\n",
       "              Membership            Climb Type                   Best Times  \\\n",
       "660818  \\nDec 20, 2012\\n      Trad, Sport, Gym  Weekday afternoons/weekends   \n",
       "45992    \\nDec 4, 2009\\n  Trad, Sport, TR, Gym                          NaN   \n",
       "45993    \\nDec 4, 2009\\n  Trad, Sport, TR, Gym                          NaN   \n",
       "45994    \\nDec 4, 2009\\n  Trad, Sport, TR, Gym                          NaN   \n",
       "45995    \\nDec 4, 2009\\n  Trad, Sport, TR, Gym                          NaN   \n",
       "45996    \\nDec 4, 2009\\n  Trad, Sport, TR, Gym                          NaN   \n",
       "45997    \\nDec 4, 2009\\n  Trad, Sport, TR, Gym                          NaN   \n",
       "45998    \\nDec 4, 2009\\n  Trad, Sport, TR, Gym                          NaN   \n",
       "45999    \\nDec 4, 2009\\n  Trad, Sport, TR, Gym                          NaN   \n",
       "46000    \\nDec 4, 2009\\n  Trad, Sport, TR, Gym                          NaN   \n",
       "\n",
       "                   Other Interests  Rating           Route Type Style  \\\n",
       "660818  Bike Commuting, Live Music   5.12b                Sport    TR   \n",
       "45992                          NaN     5.8                 Trad   NaN   \n",
       "45993                          NaN     5.7                 Trad   NaN   \n",
       "45994                          NaN   5.10a                 Trad   NaN   \n",
       "45995                          NaN   5.10a          Trad, Sport   NaN   \n",
       "45996                          NaN     5.9                Sport   NaN   \n",
       "45997                          NaN     5.8                 Trad   NaN   \n",
       "45998                          NaN   5.6 R                 Trad   NaN   \n",
       "45999                          NaN  5.4 M2  Trad, Mixed, Alpine   NaN   \n",
       "46000                          NaN     5.4                 Trad   NaN   \n",
       "\n",
       "       Lead Style  \\\n",
       "660818        NaN   \n",
       "45992         NaN   \n",
       "45993         NaN   \n",
       "45994         NaN   \n",
       "45995         NaN   \n",
       "45996         NaN   \n",
       "45997         NaN   \n",
       "45998         NaN   \n",
       "45999         NaN   \n",
       "46000         NaN   \n",
       "\n",
       "                                                                                 URL  \\\n",
       "660818    https://www.mountainproject.com/route/107239533/coloring-outside-the-lines   \n",
       "45992       https://www.mountainproject.com/route/105749299/west-crack-aka-star-wars   \n",
       "45993         https://www.mountainproject.com/route/105748936/verschneidung-dihedral   \n",
       "45994             https://www.mountainproject.com/route/105749599/handcracker-direct   \n",
       "45995   https://www.mountainproject.com/route/105748966/climb-of-the-ancient-mariner   \n",
       "45996                    https://www.mountainproject.com/route/106811713/royal-flush   \n",
       "45997                         https://www.mountainproject.com/route/105751960/gambit   \n",
       "45998                   https://www.mountainproject.com/route/105748268/direct-route   \n",
       "45999                    https://www.mountainproject.com/route/105747529/dreamweaver   \n",
       "46000             https://www.mountainproject.com/route/105748047/east-face-standard   \n",
       "\n",
       "        Pitches     Location  Avg Stars  Your Stars Your Rating  \n",
       "660818      4.0  Boulder, CO        3.7        -1.0         NaN  \n",
       "45992       2.0        80501        3.0        -1.0         NaN  \n",
       "45993       2.0        80501        2.9        -1.0         NaN  \n",
       "45994       5.0        80501        3.6        -1.0         NaN  \n",
       "45995       3.0        80501        3.7        -1.0         NaN  \n",
       "45996       8.0        80501        3.0        -1.0         NaN  \n",
       "45997       5.0        80501        3.6        -1.0         NaN  \n",
       "45998      10.0        80501        3.5        -1.0         NaN  \n",
       "45999       1.0        80501        3.6        -1.0         NaN  \n",
       "46000       8.0        80501        3.6        -1.0         NaN  "
      ]
     },
     "execution_count": 248,
     "metadata": {},
     "output_type": "execute_result"
    }
   ],
   "source": [
    "# Check the 10 oldest dates\n",
    "df.nsmallest(10, 'Date')"
   ]
  },
  {
   "cell_type": "code",
   "execution_count": 249,
   "id": "mysterious-score",
   "metadata": {
    "ExecuteTime": {
     "end_time": "2021-03-12T06:12:06.201629Z",
     "start_time": "2021-03-12T06:12:06.173451Z"
    }
   },
   "outputs": [],
   "source": [
    "# Make a variable for the year the route was ticked.\n",
    "year_ticked = pd.to_numeric(pd.DatetimeIndex(df['Date']).year)"
   ]
  },
  {
   "cell_type": "code",
   "execution_count": 250,
   "id": "removed-disorder",
   "metadata": {
    "ExecuteTime": {
     "end_time": "2021-03-12T06:12:07.254239Z",
     "start_time": "2021-03-12T06:12:07.241213Z"
    }
   },
   "outputs": [],
   "source": [
    "# Get rid of routes where the date ticked is older than the year the person was born.\n",
    "df.loc[(year_ticked < (2021 - df.Age)), 'Date'] = np.nan"
   ]
  },
  {
   "cell_type": "code",
   "execution_count": 251,
   "id": "recovered-rescue",
   "metadata": {
    "ExecuteTime": {
     "end_time": "2021-03-12T06:12:09.593043Z",
     "start_time": "2021-03-12T06:12:09.576705Z"
    }
   },
   "outputs": [
    {
     "data": {
      "text/plain": [
       "Timestamp('1969-07-02 00:00:00')"
      ]
     },
     "execution_count": 251,
     "metadata": {},
     "output_type": "execute_result"
    }
   ],
   "source": [
    "# Sanity check\n",
    "df['Date'].min()"
   ]
  },
  {
   "cell_type": "code",
   "execution_count": 252,
   "id": "realistic-british",
   "metadata": {
    "ExecuteTime": {
     "end_time": "2021-03-12T06:12:10.187267Z",
     "start_time": "2021-03-12T06:12:10.172692Z"
    }
   },
   "outputs": [
    {
     "data": {
      "text/plain": [
       "Timestamp('2125-06-22 00:00:00')"
      ]
     },
     "execution_count": 252,
     "metadata": {},
     "output_type": "execute_result"
    }
   ],
   "source": [
    "# Check the highest date\n",
    "df['Date'].max()"
   ]
  },
  {
   "cell_type": "code",
   "execution_count": 253,
   "id": "rapid-boutique",
   "metadata": {
    "ExecuteTime": {
     "end_time": "2021-03-12T06:12:10.757236Z",
     "start_time": "2021-03-12T06:12:10.747223Z"
    }
   },
   "outputs": [],
   "source": [
    "# Turn dates later than the day the sites were scraped into nan values, because they must be wrong.\n",
    "df.loc[(df.Date > '2021-03-12'),'Date'] = np.nan"
   ]
  },
  {
   "cell_type": "code",
   "execution_count": 254,
   "id": "streaming-found",
   "metadata": {
    "ExecuteTime": {
     "end_time": "2021-03-12T06:12:11.501865Z",
     "start_time": "2021-03-12T06:12:11.493325Z"
    }
   },
   "outputs": [
    {
     "data": {
      "text/plain": [
       "Timestamp('2021-03-11 00:00:00')"
      ]
     },
     "execution_count": 254,
     "metadata": {},
     "output_type": "execute_result"
    }
   ],
   "source": [
    "# Sanity check\n",
    "df['Date'].max()"
   ]
  },
  {
   "cell_type": "code",
   "execution_count": 255,
   "id": "romance-richardson",
   "metadata": {
    "ExecuteTime": {
     "end_time": "2021-03-12T06:12:12.295356Z",
     "start_time": "2021-03-12T06:12:12.289210Z"
    }
   },
   "outputs": [
    {
     "data": {
      "text/plain": [
       "(516223, 20)"
      ]
     },
     "execution_count": 255,
     "metadata": {},
     "output_type": "execute_result"
    }
   ],
   "source": [
    "# Checking shape before dropping date nan values\n",
    "df.shape"
   ]
  },
  {
   "cell_type": "code",
   "execution_count": 256,
   "id": "nominated-solid",
   "metadata": {
    "ExecuteTime": {
     "end_time": "2021-03-12T06:12:12.923960Z",
     "start_time": "2021-03-12T06:12:12.814513Z"
    }
   },
   "outputs": [],
   "source": [
    "# Drop rows with date nan values\n",
    "df.dropna(subset=['Date'], inplace = True)"
   ]
  },
  {
   "cell_type": "code",
   "execution_count": 257,
   "id": "published-memorial",
   "metadata": {
    "ExecuteTime": {
     "end_time": "2021-03-12T06:12:13.462626Z",
     "start_time": "2021-03-12T06:12:13.456584Z"
    }
   },
   "outputs": [
    {
     "data": {
      "text/plain": [
       "(514921, 20)"
      ]
     },
     "execution_count": 257,
     "metadata": {},
     "output_type": "execute_result"
    }
   ],
   "source": [
    "# Checking shape after dropping date nan values\n",
    "df.shape"
   ]
  },
  {
   "cell_type": "markdown",
   "id": "suspended-commission",
   "metadata": {},
   "source": [
    "## Gender"
   ]
  },
  {
   "cell_type": "code",
   "execution_count": 258,
   "id": "reduced-stable",
   "metadata": {
    "ExecuteTime": {
     "end_time": "2021-03-12T06:12:15.116492Z",
     "start_time": "2021-03-12T06:12:15.056573Z"
    }
   },
   "outputs": [
    {
     "data": {
      "text/plain": [
       "Male           436021\n",
       "Female          77710\n",
       "Unknown           939\n",
       "NotSaying         196\n",
       "Genderqueer        55\n",
       "Name: Gender, dtype: int64"
      ]
     },
     "execution_count": 258,
     "metadata": {},
     "output_type": "execute_result"
    }
   ],
   "source": [
    "df.Gender.value_counts()"
   ]
  },
  {
   "cell_type": "code",
   "execution_count": 259,
   "id": "intimate-nitrogen",
   "metadata": {
    "ExecuteTime": {
     "end_time": "2021-03-12T06:12:15.520821Z",
     "start_time": "2021-03-12T06:12:15.482577Z"
    }
   },
   "outputs": [],
   "source": [
    "# Change 'Not Saying' values to 'Unknown'\n",
    "df.loc[(df.Gender == 'NotSaying'), 'Gender'] = 'Unknown'"
   ]
  },
  {
   "cell_type": "code",
   "execution_count": 260,
   "id": "valuable-cooperation",
   "metadata": {
    "ExecuteTime": {
     "end_time": "2021-03-12T06:12:16.199653Z",
     "start_time": "2021-03-12T06:12:16.139286Z"
    }
   },
   "outputs": [
    {
     "data": {
      "text/plain": [
       "Male           436021\n",
       "Female          77710\n",
       "Unknown          1135\n",
       "Genderqueer        55\n",
       "Name: Gender, dtype: int64"
      ]
     },
     "execution_count": 260,
     "metadata": {},
     "output_type": "execute_result"
    }
   ],
   "source": [
    "df.Gender.value_counts()"
   ]
  },
  {
   "cell_type": "markdown",
   "id": "distinct-triple",
   "metadata": {},
   "source": [
    "## Lead Follow"
   ]
  },
  {
   "cell_type": "code",
   "execution_count": 261,
   "id": "pharmaceutical-capacity",
   "metadata": {
    "ExecuteTime": {
     "end_time": "2021-03-12T06:12:17.616060Z",
     "start_time": "2021-03-12T06:12:17.594306Z"
    }
   },
   "outputs": [
    {
     "data": {
      "text/html": [
       "<div>\n",
       "<style scoped>\n",
       "    .dataframe tbody tr th:only-of-type {\n",
       "        vertical-align: middle;\n",
       "    }\n",
       "\n",
       "    .dataframe tbody tr th {\n",
       "        vertical-align: top;\n",
       "    }\n",
       "\n",
       "    .dataframe thead th {\n",
       "        text-align: right;\n",
       "    }\n",
       "</style>\n",
       "<table border=\"1\" class=\"dataframe\">\n",
       "  <thead>\n",
       "    <tr style=\"text-align: right;\">\n",
       "      <th></th>\n",
       "      <th>Name</th>\n",
       "      <th>Link</th>\n",
       "      <th>Date</th>\n",
       "      <th>Gender</th>\n",
       "      <th>Age</th>\n",
       "      <th>Lead Follow</th>\n",
       "      <th>Membership</th>\n",
       "      <th>Climb Type</th>\n",
       "      <th>Best Times</th>\n",
       "      <th>Other Interests</th>\n",
       "      <th>Rating</th>\n",
       "      <th>Route Type</th>\n",
       "      <th>Style</th>\n",
       "      <th>Lead Style</th>\n",
       "      <th>URL</th>\n",
       "      <th>Pitches</th>\n",
       "      <th>Location</th>\n",
       "      <th>Avg Stars</th>\n",
       "      <th>Your Stars</th>\n",
       "      <th>Your Rating</th>\n",
       "    </tr>\n",
       "  </thead>\n",
       "  <tbody>\n",
       "    <tr>\n",
       "      <th>0</th>\n",
       "      <td>Aidan Shelburne</td>\n",
       "      <td>https://www.mountainproject.com/user/200717675/aidan-shelburne</td>\n",
       "      <td>2021-03-08</td>\n",
       "      <td>Male</td>\n",
       "      <td>21.0</td>\n",
       "      <td>Sport: leads 5.11a, follows 5.11d\\nBoulders: V7</td>\n",
       "      <td>\\nApr 1, 2020\\n</td>\n",
       "      <td>Sport, TR, Gym</td>\n",
       "      <td>Weekday afternoons/Weekends</td>\n",
       "      <td>Drawing, Skiing, Hiking, Biking</td>\n",
       "      <td>V2 R</td>\n",
       "      <td>Boulder</td>\n",
       "      <td>NaN</td>\n",
       "      <td>NaN</td>\n",
       "      <td>https://www.mountainproject.com/route/105749222/contemplation</td>\n",
       "      <td>1.0</td>\n",
       "      <td>Boulder, CO</td>\n",
       "      <td>2.7</td>\n",
       "      <td>-1.0</td>\n",
       "      <td>NaN</td>\n",
       "    </tr>\n",
       "    <tr>\n",
       "      <th>1</th>\n",
       "      <td>Aidan Shelburne</td>\n",
       "      <td>https://www.mountainproject.com/user/200717675/aidan-shelburne</td>\n",
       "      <td>2021-03-06</td>\n",
       "      <td>Male</td>\n",
       "      <td>21.0</td>\n",
       "      <td>Sport: leads 5.11a, follows 5.11d\\nBoulders: V7</td>\n",
       "      <td>\\nApr 1, 2020\\n</td>\n",
       "      <td>Sport, TR, Gym</td>\n",
       "      <td>Weekday afternoons/Weekends</td>\n",
       "      <td>Drawing, Skiing, Hiking, Biking</td>\n",
       "      <td>V6</td>\n",
       "      <td>Boulder</td>\n",
       "      <td>NaN</td>\n",
       "      <td>NaN</td>\n",
       "      <td>https://www.mountainproject.com/route/106642006/graveyard-shift</td>\n",
       "      <td>1.0</td>\n",
       "      <td>Boulder, CO</td>\n",
       "      <td>2.8</td>\n",
       "      <td>-1.0</td>\n",
       "      <td>NaN</td>\n",
       "    </tr>\n",
       "    <tr>\n",
       "      <th>2</th>\n",
       "      <td>Aidan Shelburne</td>\n",
       "      <td>https://www.mountainproject.com/user/200717675/aidan-shelburne</td>\n",
       "      <td>2021-03-06</td>\n",
       "      <td>Male</td>\n",
       "      <td>21.0</td>\n",
       "      <td>Sport: leads 5.11a, follows 5.11d\\nBoulders: V7</td>\n",
       "      <td>\\nApr 1, 2020\\n</td>\n",
       "      <td>Sport, TR, Gym</td>\n",
       "      <td>Weekday afternoons/Weekends</td>\n",
       "      <td>Drawing, Skiing, Hiking, Biking</td>\n",
       "      <td>V4</td>\n",
       "      <td>Boulder</td>\n",
       "      <td>NaN</td>\n",
       "      <td>NaN</td>\n",
       "      <td>https://www.mountainproject.com/route/105749208/traverse-ramp</td>\n",
       "      <td>1.0</td>\n",
       "      <td>Boulder, CO</td>\n",
       "      <td>1.8</td>\n",
       "      <td>-1.0</td>\n",
       "      <td>NaN</td>\n",
       "    </tr>\n",
       "    <tr>\n",
       "      <th>3</th>\n",
       "      <td>Aidan Shelburne</td>\n",
       "      <td>https://www.mountainproject.com/user/200717675/aidan-shelburne</td>\n",
       "      <td>2021-03-06</td>\n",
       "      <td>Male</td>\n",
       "      <td>21.0</td>\n",
       "      <td>Sport: leads 5.11a, follows 5.11d\\nBoulders: V7</td>\n",
       "      <td>\\nApr 1, 2020\\n</td>\n",
       "      <td>Sport, TR, Gym</td>\n",
       "      <td>Weekday afternoons/Weekends</td>\n",
       "      <td>Drawing, Skiing, Hiking, Biking</td>\n",
       "      <td>V2</td>\n",
       "      <td>Boulder</td>\n",
       "      <td>NaN</td>\n",
       "      <td>NaN</td>\n",
       "      <td>https://www.mountainproject.com/route/105761961/east-inside-corner</td>\n",
       "      <td>1.0</td>\n",
       "      <td>Boulder, CO</td>\n",
       "      <td>2.1</td>\n",
       "      <td>-1.0</td>\n",
       "      <td>NaN</td>\n",
       "    </tr>\n",
       "    <tr>\n",
       "      <th>4</th>\n",
       "      <td>Aidan Shelburne</td>\n",
       "      <td>https://www.mountainproject.com/user/200717675/aidan-shelburne</td>\n",
       "      <td>2021-01-16</td>\n",
       "      <td>Male</td>\n",
       "      <td>21.0</td>\n",
       "      <td>Sport: leads 5.11a, follows 5.11d\\nBoulders: V7</td>\n",
       "      <td>\\nApr 1, 2020\\n</td>\n",
       "      <td>Sport, TR, Gym</td>\n",
       "      <td>Weekday afternoons/Weekends</td>\n",
       "      <td>Drawing, Skiing, Hiking, Biking</td>\n",
       "      <td>V6</td>\n",
       "      <td>Boulder</td>\n",
       "      <td>NaN</td>\n",
       "      <td>NaN</td>\n",
       "      <td>https://www.mountainproject.com/route/115438242/stranger-than-friction</td>\n",
       "      <td>1.0</td>\n",
       "      <td>Boulder, CO</td>\n",
       "      <td>3.6</td>\n",
       "      <td>-1.0</td>\n",
       "      <td>NaN</td>\n",
       "    </tr>\n",
       "  </tbody>\n",
       "</table>\n",
       "</div>"
      ],
      "text/plain": [
       "              Name  \\\n",
       "0  Aidan Shelburne   \n",
       "1  Aidan Shelburne   \n",
       "2  Aidan Shelburne   \n",
       "3  Aidan Shelburne   \n",
       "4  Aidan Shelburne   \n",
       "\n",
       "                                                             Link       Date  \\\n",
       "0  https://www.mountainproject.com/user/200717675/aidan-shelburne 2021-03-08   \n",
       "1  https://www.mountainproject.com/user/200717675/aidan-shelburne 2021-03-06   \n",
       "2  https://www.mountainproject.com/user/200717675/aidan-shelburne 2021-03-06   \n",
       "3  https://www.mountainproject.com/user/200717675/aidan-shelburne 2021-03-06   \n",
       "4  https://www.mountainproject.com/user/200717675/aidan-shelburne 2021-01-16   \n",
       "\n",
       "  Gender   Age                                      Lead Follow  \\\n",
       "0   Male  21.0  Sport: leads 5.11a, follows 5.11d\\nBoulders: V7   \n",
       "1   Male  21.0  Sport: leads 5.11a, follows 5.11d\\nBoulders: V7   \n",
       "2   Male  21.0  Sport: leads 5.11a, follows 5.11d\\nBoulders: V7   \n",
       "3   Male  21.0  Sport: leads 5.11a, follows 5.11d\\nBoulders: V7   \n",
       "4   Male  21.0  Sport: leads 5.11a, follows 5.11d\\nBoulders: V7   \n",
       "\n",
       "        Membership      Climb Type                   Best Times  \\\n",
       "0  \\nApr 1, 2020\\n  Sport, TR, Gym  Weekday afternoons/Weekends   \n",
       "1  \\nApr 1, 2020\\n  Sport, TR, Gym  Weekday afternoons/Weekends   \n",
       "2  \\nApr 1, 2020\\n  Sport, TR, Gym  Weekday afternoons/Weekends   \n",
       "3  \\nApr 1, 2020\\n  Sport, TR, Gym  Weekday afternoons/Weekends   \n",
       "4  \\nApr 1, 2020\\n  Sport, TR, Gym  Weekday afternoons/Weekends   \n",
       "\n",
       "                   Other Interests Rating Route Type Style Lead Style  \\\n",
       "0  Drawing, Skiing, Hiking, Biking   V2 R    Boulder   NaN        NaN   \n",
       "1  Drawing, Skiing, Hiking, Biking     V6    Boulder   NaN        NaN   \n",
       "2  Drawing, Skiing, Hiking, Biking     V4    Boulder   NaN        NaN   \n",
       "3  Drawing, Skiing, Hiking, Biking     V2    Boulder   NaN        NaN   \n",
       "4  Drawing, Skiing, Hiking, Biking     V6    Boulder   NaN        NaN   \n",
       "\n",
       "                                                                      URL  \\\n",
       "0           https://www.mountainproject.com/route/105749222/contemplation   \n",
       "1         https://www.mountainproject.com/route/106642006/graveyard-shift   \n",
       "2           https://www.mountainproject.com/route/105749208/traverse-ramp   \n",
       "3      https://www.mountainproject.com/route/105761961/east-inside-corner   \n",
       "4  https://www.mountainproject.com/route/115438242/stranger-than-friction   \n",
       "\n",
       "   Pitches     Location  Avg Stars  Your Stars Your Rating  \n",
       "0      1.0  Boulder, CO        2.7        -1.0         NaN  \n",
       "1      1.0  Boulder, CO        2.8        -1.0         NaN  \n",
       "2      1.0  Boulder, CO        1.8        -1.0         NaN  \n",
       "3      1.0  Boulder, CO        2.1        -1.0         NaN  \n",
       "4      1.0  Boulder, CO        3.6        -1.0         NaN  "
      ]
     },
     "execution_count": 261,
     "metadata": {},
     "output_type": "execute_result"
    }
   ],
   "source": [
    "df.head()"
   ]
  },
  {
   "cell_type": "code",
   "execution_count": 262,
   "id": "athletic-contemporary",
   "metadata": {
    "ExecuteTime": {
     "end_time": "2021-03-12T06:12:18.940583Z",
     "start_time": "2021-03-12T06:12:18.937170Z"
    }
   },
   "outputs": [],
   "source": [
    "pd.set_option('display.max_colwidth', None)"
   ]
  },
  {
   "cell_type": "code",
   "execution_count": 263,
   "id": "rolled-monitor",
   "metadata": {
    "ExecuteTime": {
     "end_time": "2021-03-12T06:12:21.232325Z",
     "start_time": "2021-03-12T06:12:21.197342Z"
    }
   },
   "outputs": [
    {
     "data": {
      "text/plain": [
       "61742                                                               Trad: leads 5.10a, follows 5.11a\\nSport: leads 5.12d, follows 5.12d\\nBoulders: V6\n",
       "957750                                     Trad: leads 5.9, follows 5.12a\\nSport: leads 5.9, follows 5.12a\\nIce: leads WI1, follows WI4\\nBoulders: V5\n",
       "697529                                               Trad: leads 5.10b, follows 5.10c\\nSport: leads 5.10b, follows 5.10c\\nIce: leads WI4, follows WI4\n",
       "61073     Trad: leads 5.11c, follows 5.12b\\nSport: leads 5.12a, follows 5.12c\\nIce: leads WI3, follows WI5\\nMixed: leads M1, follows M6\\nBoulders: V4\n",
       "16861                                                                                                 Sport: leads 5.12b, follows 5.12d\\nBoulders: V5\n",
       "Name: Lead Follow, dtype: object"
      ]
     },
     "execution_count": 263,
     "metadata": {},
     "output_type": "execute_result"
    }
   ],
   "source": [
    "# Check the format of lead follow\n",
    "df['Lead Follow'].sample(5)"
   ]
  },
  {
   "cell_type": "code",
   "execution_count": 264,
   "id": "intended-graham",
   "metadata": {
    "ExecuteTime": {
     "end_time": "2021-03-12T06:12:22.561691Z",
     "start_time": "2021-03-12T06:12:22.217062Z"
    }
   },
   "outputs": [],
   "source": [
    "# Split at \\n\n",
    "test = df['Lead Follow'].str.split('\\n')"
   ]
  },
  {
   "cell_type": "code",
   "execution_count": 265,
   "id": "corporate-passion",
   "metadata": {
    "ExecuteTime": {
     "end_time": "2021-03-12T06:12:24.489077Z",
     "start_time": "2021-03-12T06:12:24.230555Z"
    }
   },
   "outputs": [
    {
     "data": {
      "text/plain": [
       "array([nan, 'Boulders: V8', 'Boulders: V6', 'Boulders: V-easy',\n",
       "       'Boulders: V3', 'Boulders: V10', 'Boulders: V9', 'Boulders: V5',\n",
       "       'Boulders: V2', 'Boulders: V7', 'Boulders: V4', 'Boulders: V0',\n",
       "       'Boulders: V1', 'Boulders: V17', 'Boulders: V14'], dtype=object)"
      ]
     },
     "execution_count": 265,
     "metadata": {},
     "output_type": "execute_result"
    }
   ],
   "source": [
    "# See what the max number of types people have. (It's 5).\n",
    "test.str[5].unique()"
   ]
  },
  {
   "cell_type": "code",
   "execution_count": 266,
   "id": "every-exclusion",
   "metadata": {
    "ExecuteTime": {
     "end_time": "2021-03-12T06:12:26.541583Z",
     "start_time": "2021-03-12T06:12:25.228275Z"
    }
   },
   "outputs": [],
   "source": [
    "# Create columns for each type.\n",
    "df['first_type'] = test.str[0]\n",
    "df['second_type'] = test.str[1]\n",
    "df['third_type'] = test.str[2]\n",
    "df['fourth_type'] = test.str[3]\n",
    "df['fifth_type'] = test.str[4]\n",
    "df['sixth_type'] = test.str[5]"
   ]
  },
  {
   "cell_type": "code",
   "execution_count": 267,
   "id": "rotary-withdrawal",
   "metadata": {
    "ExecuteTime": {
     "end_time": "2021-03-12T06:12:27.891524Z",
     "start_time": "2021-03-12T06:12:27.649140Z"
    }
   },
   "outputs": [
    {
     "data": {
      "text/html": [
       "<div>\n",
       "<style scoped>\n",
       "    .dataframe tbody tr th:only-of-type {\n",
       "        vertical-align: middle;\n",
       "    }\n",
       "\n",
       "    .dataframe tbody tr th {\n",
       "        vertical-align: top;\n",
       "    }\n",
       "\n",
       "    .dataframe thead th {\n",
       "        text-align: right;\n",
       "    }\n",
       "</style>\n",
       "<table border=\"1\" class=\"dataframe\">\n",
       "  <thead>\n",
       "    <tr style=\"text-align: right;\">\n",
       "      <th></th>\n",
       "      <th>Name</th>\n",
       "      <th>Link</th>\n",
       "      <th>Date</th>\n",
       "      <th>Gender</th>\n",
       "      <th>Age</th>\n",
       "      <th>Lead Follow</th>\n",
       "      <th>Membership</th>\n",
       "      <th>Climb Type</th>\n",
       "      <th>Best Times</th>\n",
       "      <th>Other Interests</th>\n",
       "      <th>...</th>\n",
       "      <th>Location</th>\n",
       "      <th>Avg Stars</th>\n",
       "      <th>Your Stars</th>\n",
       "      <th>Your Rating</th>\n",
       "      <th>first_type</th>\n",
       "      <th>second_type</th>\n",
       "      <th>third_type</th>\n",
       "      <th>fourth_type</th>\n",
       "      <th>fifth_type</th>\n",
       "      <th>sixth_type</th>\n",
       "    </tr>\n",
       "  </thead>\n",
       "  <tbody>\n",
       "    <tr>\n",
       "      <th>807350</th>\n",
       "      <td>Sebastiaan Zuidweg</td>\n",
       "      <td>https://www.mountainproject.com/user/105788806/sebastiaan-zuidweg</td>\n",
       "      <td>2006-05-30</td>\n",
       "      <td>Male</td>\n",
       "      <td>42.0</td>\n",
       "      <td>Trad: leads 5.11a, follows 5.11a\\nSport: leads 5.11a, follows 5.11a</td>\n",
       "      <td>\\nJan 21, 2006\\n</td>\n",
       "      <td>Trad, Sport</td>\n",
       "      <td>Open</td>\n",
       "      <td>skiing</td>\n",
       "      <td>...</td>\n",
       "      <td>Redlands, CA</td>\n",
       "      <td>3.1</td>\n",
       "      <td>3.0</td>\n",
       "      <td>NaN</td>\n",
       "      <td>Trad: leads 5.11a, follows 5.11a</td>\n",
       "      <td>Sport: leads 5.11a, follows 5.11a</td>\n",
       "      <td>NaN</td>\n",
       "      <td>NaN</td>\n",
       "      <td>NaN</td>\n",
       "      <td>NaN</td>\n",
       "    </tr>\n",
       "    <tr>\n",
       "      <th>743498</th>\n",
       "      <td>Z Pena</td>\n",
       "      <td>https://www.mountainproject.com/user/108526949/z-pena</td>\n",
       "      <td>2017-02-10</td>\n",
       "      <td>Male</td>\n",
       "      <td>33.0</td>\n",
       "      <td>Trad: leads 5.10b, follows 5.11c\\nSport: leads 5.11a, follows 5.11c\\nAid: leads C2, follows C2\\nBoulders: V-easy</td>\n",
       "      <td>\\nDec 23, 2013\\n</td>\n",
       "      <td>Trad, Sport, Gym</td>\n",
       "      <td>Weekday afternoons and all weekends</td>\n",
       "      <td>NaN</td>\n",
       "      <td>...</td>\n",
       "      <td>San Diego, CA</td>\n",
       "      <td>1.7</td>\n",
       "      <td>2.0</td>\n",
       "      <td>5.8</td>\n",
       "      <td>Trad: leads 5.10b, follows 5.11c</td>\n",
       "      <td>Sport: leads 5.11a, follows 5.11c</td>\n",
       "      <td>Aid: leads C2, follows C2</td>\n",
       "      <td>Boulders: V-easy</td>\n",
       "      <td>NaN</td>\n",
       "      <td>NaN</td>\n",
       "    </tr>\n",
       "    <tr>\n",
       "      <th>877685</th>\n",
       "      <td>Sean McLane</td>\n",
       "      <td>https://www.mountainproject.com/user/108959833/sean-mclane</td>\n",
       "      <td>2018-12-07</td>\n",
       "      <td>Male</td>\n",
       "      <td>32.0</td>\n",
       "      <td>Trad: leads 5.12a, follows 5.12c\\nSport: leads 5.12a, follows 5.12c\\nIce: leads WI6, follows WI7\\nMixed: leads M9, follows M10</td>\n",
       "      <td>\\nMay 10, 2014\\n</td>\n",
       "      <td>Trad</td>\n",
       "      <td>Free almost any day of the week and for longer trips too</td>\n",
       "      <td>NaN</td>\n",
       "      <td>...</td>\n",
       "      <td>Bozeman for the winter</td>\n",
       "      <td>2.7</td>\n",
       "      <td>3.0</td>\n",
       "      <td>NaN</td>\n",
       "      <td>Trad: leads 5.12a, follows 5.12c</td>\n",
       "      <td>Sport: leads 5.12a, follows 5.12c</td>\n",
       "      <td>Ice: leads WI6, follows WI7</td>\n",
       "      <td>Mixed: leads M9, follows M10</td>\n",
       "      <td>NaN</td>\n",
       "      <td>NaN</td>\n",
       "    </tr>\n",
       "    <tr>\n",
       "      <th>795064</th>\n",
       "      <td>Mike wand</td>\n",
       "      <td>https://www.mountainproject.com/user/107410756/mike-wand</td>\n",
       "      <td>2016-03-14</td>\n",
       "      <td>Male</td>\n",
       "      <td>42.0</td>\n",
       "      <td>Trad: leads 5.7, follows 5.9\\nSport: leads 5.10c, follows 5.10d\\nBoulders: V1</td>\n",
       "      <td>\\nDec 19, 2011\\n</td>\n",
       "      <td>Trad, Sport, TR, Gym</td>\n",
       "      <td>Weekends for outside, gym during the week</td>\n",
       "      <td>Hanging out with my wife and daughters. Surfing, Snowboarding, backpacking, camping.</td>\n",
       "      <td>...</td>\n",
       "      <td>San Marcos</td>\n",
       "      <td>2.8</td>\n",
       "      <td>3.0</td>\n",
       "      <td>NaN</td>\n",
       "      <td>Trad: leads 5.7, follows 5.9</td>\n",
       "      <td>Sport: leads 5.10c, follows 5.10d</td>\n",
       "      <td>Boulders: V1</td>\n",
       "      <td>NaN</td>\n",
       "      <td>NaN</td>\n",
       "      <td>NaN</td>\n",
       "    </tr>\n",
       "    <tr>\n",
       "      <th>988154</th>\n",
       "      <td>ravisurdhar Surdhar</td>\n",
       "      <td>https://www.mountainproject.com/user/106380984/ravisurdhar-surdhar</td>\n",
       "      <td>2012-06-20</td>\n",
       "      <td>Male</td>\n",
       "      <td>32.0</td>\n",
       "      <td>Trad: leads 5.8, follows 5.9\\nSport: leads 5.9, follows 5.10a\\nIce: leads WI1, follows WI4\\nBoulders: V1</td>\n",
       "      <td>\\nMar 20, 2009\\n</td>\n",
       "      <td>Trad, Sport, TR, Gym</td>\n",
       "      <td>Any weekend!</td>\n",
       "      <td>NaN</td>\n",
       "      <td>...</td>\n",
       "      <td>San Francisco</td>\n",
       "      <td>3.7</td>\n",
       "      <td>-1.0</td>\n",
       "      <td>NaN</td>\n",
       "      <td>Trad: leads 5.8, follows 5.9</td>\n",
       "      <td>Sport: leads 5.9, follows 5.10a</td>\n",
       "      <td>Ice: leads WI1, follows WI4</td>\n",
       "      <td>Boulders: V1</td>\n",
       "      <td>NaN</td>\n",
       "      <td>NaN</td>\n",
       "    </tr>\n",
       "  </tbody>\n",
       "</table>\n",
       "<p>5 rows × 26 columns</p>\n",
       "</div>"
      ],
      "text/plain": [
       "                       Name  \\\n",
       "807350   Sebastiaan Zuidweg   \n",
       "743498               Z Pena   \n",
       "877685          Sean McLane   \n",
       "795064            Mike wand   \n",
       "988154  ravisurdhar Surdhar   \n",
       "\n",
       "                                                                      Link  \\\n",
       "807350   https://www.mountainproject.com/user/105788806/sebastiaan-zuidweg   \n",
       "743498               https://www.mountainproject.com/user/108526949/z-pena   \n",
       "877685          https://www.mountainproject.com/user/108959833/sean-mclane   \n",
       "795064            https://www.mountainproject.com/user/107410756/mike-wand   \n",
       "988154  https://www.mountainproject.com/user/106380984/ravisurdhar-surdhar   \n",
       "\n",
       "             Date Gender   Age  \\\n",
       "807350 2006-05-30   Male  42.0   \n",
       "743498 2017-02-10   Male  33.0   \n",
       "877685 2018-12-07   Male  32.0   \n",
       "795064 2016-03-14   Male  42.0   \n",
       "988154 2012-06-20   Male  32.0   \n",
       "\n",
       "                                                                                                                           Lead Follow  \\\n",
       "807350                                                             Trad: leads 5.11a, follows 5.11a\\nSport: leads 5.11a, follows 5.11a   \n",
       "743498                Trad: leads 5.10b, follows 5.11c\\nSport: leads 5.11a, follows 5.11c\\nAid: leads C2, follows C2\\nBoulders: V-easy   \n",
       "877685  Trad: leads 5.12a, follows 5.12c\\nSport: leads 5.12a, follows 5.12c\\nIce: leads WI6, follows WI7\\nMixed: leads M9, follows M10   \n",
       "795064                                                   Trad: leads 5.7, follows 5.9\\nSport: leads 5.10c, follows 5.10d\\nBoulders: V1   \n",
       "988154                        Trad: leads 5.8, follows 5.9\\nSport: leads 5.9, follows 5.10a\\nIce: leads WI1, follows WI4\\nBoulders: V1   \n",
       "\n",
       "              Membership            Climb Type  \\\n",
       "807350  \\nJan 21, 2006\\n           Trad, Sport   \n",
       "743498  \\nDec 23, 2013\\n      Trad, Sport, Gym   \n",
       "877685  \\nMay 10, 2014\\n                  Trad   \n",
       "795064  \\nDec 19, 2011\\n  Trad, Sport, TR, Gym   \n",
       "988154  \\nMar 20, 2009\\n  Trad, Sport, TR, Gym   \n",
       "\n",
       "                                                      Best Times  \\\n",
       "807350                                                      Open   \n",
       "743498                       Weekday afternoons and all weekends   \n",
       "877685  Free almost any day of the week and for longer trips too   \n",
       "795064                 Weekends for outside, gym during the week   \n",
       "988154                                              Any weekend!   \n",
       "\n",
       "                                                                             Other Interests  \\\n",
       "807350                                                                                skiing   \n",
       "743498                                                                                   NaN   \n",
       "877685                                                                                   NaN   \n",
       "795064  Hanging out with my wife and daughters. Surfing, Snowboarding, backpacking, camping.   \n",
       "988154                                                                                   NaN   \n",
       "\n",
       "        ...                Location Avg Stars Your Stars Your Rating  \\\n",
       "807350  ...            Redlands, CA       3.1        3.0         NaN   \n",
       "743498  ...           San Diego, CA       1.7        2.0         5.8   \n",
       "877685  ...  Bozeman for the winter       2.7        3.0         NaN   \n",
       "795064  ...              San Marcos       2.8        3.0         NaN   \n",
       "988154  ...           San Francisco       3.7       -1.0         NaN   \n",
       "\n",
       "                              first_type                        second_type  \\\n",
       "807350  Trad: leads 5.11a, follows 5.11a  Sport: leads 5.11a, follows 5.11a   \n",
       "743498  Trad: leads 5.10b, follows 5.11c  Sport: leads 5.11a, follows 5.11c   \n",
       "877685  Trad: leads 5.12a, follows 5.12c  Sport: leads 5.12a, follows 5.12c   \n",
       "795064      Trad: leads 5.7, follows 5.9  Sport: leads 5.10c, follows 5.10d   \n",
       "988154      Trad: leads 5.8, follows 5.9    Sport: leads 5.9, follows 5.10a   \n",
       "\n",
       "                         third_type                   fourth_type  fifth_type  \\\n",
       "807350                          NaN                           NaN         NaN   \n",
       "743498    Aid: leads C2, follows C2              Boulders: V-easy         NaN   \n",
       "877685  Ice: leads WI6, follows WI7  Mixed: leads M9, follows M10         NaN   \n",
       "795064                 Boulders: V1                           NaN         NaN   \n",
       "988154  Ice: leads WI1, follows WI4                  Boulders: V1         NaN   \n",
       "\n",
       "       sixth_type  \n",
       "807350        NaN  \n",
       "743498        NaN  \n",
       "877685        NaN  \n",
       "795064        NaN  \n",
       "988154        NaN  \n",
       "\n",
       "[5 rows x 26 columns]"
      ]
     },
     "execution_count": 267,
     "metadata": {},
     "output_type": "execute_result"
    }
   ],
   "source": [
    "df.sample(5)"
   ]
  },
  {
   "cell_type": "code",
   "execution_count": 268,
   "id": "valuable-paragraph",
   "metadata": {
    "ExecuteTime": {
     "end_time": "2021-03-12T06:12:29.129328Z",
     "start_time": "2021-03-12T06:12:29.117934Z"
    }
   },
   "outputs": [],
   "source": [
    "df['Sport'] = np.nan\n",
    "df['Trad'] = np.nan\n",
    "df['Boulders'] = np.nan\n",
    "df['Mixed'] = np.nan\n",
    "df['Aid'] = np.nan\n",
    "df['Ice'] = np.nan"
   ]
  },
  {
   "cell_type": "code",
   "execution_count": 269,
   "id": "scenic-salon",
   "metadata": {
    "ExecuteTime": {
     "end_time": "2021-03-12T06:12:53.017043Z",
     "start_time": "2021-03-12T06:12:30.893870Z"
    }
   },
   "outputs": [],
   "source": [
    "# Categorize the types into new columns. (For example, the first column has sport and boulder \n",
    "# types, and I want to move these into columns that more properly label them).\n",
    "def make_type_columns(num, the_type):\n",
    "    df.loc[(df[the_type].str.split().str[0] == 'Sport:'), 'Sport'] = df[the_type]\n",
    "    df.loc[(df[the_type].str.split().str[0] == 'Trad:'), 'Trad'] = df[the_type]\n",
    "    df.loc[(df[the_type].str.split().str[0] == 'Boulders:'), 'Boulders'] = df[the_type]\n",
    "    df.loc[(df[the_type].str.split().str[0] == 'Mixed:'), 'Mixed'] = df[the_type]\n",
    "    df.loc[(df[the_type].str.split().str[0] == 'Aid:'), 'Aid'] = df[the_type]\n",
    "    df.loc[(df[the_type].str.split().str[0] == 'Ice:'), 'Ice'] = df[the_type]\n",
    "    \n",
    "make_type_columns(0, 'first_type')\n",
    "make_type_columns(1, 'second_type')\n",
    "make_type_columns(2, 'third_type')\n",
    "make_type_columns(3, 'fourth_type')\n",
    "make_type_columns(4, 'fifth_type')\n",
    "make_type_columns(5, 'sixth_type')"
   ]
  },
  {
   "cell_type": "code",
   "execution_count": 270,
   "id": "illegal-significance",
   "metadata": {
    "ExecuteTime": {
     "end_time": "2021-03-12T06:12:56.005203Z",
     "start_time": "2021-03-12T06:12:55.896895Z"
    }
   },
   "outputs": [],
   "source": [
    "# Drop the numbered columns. All their data has been moved to the labeled columns.\n",
    "df = df.drop(columns = ['first_type', 'second_type', 'third_type', 'fourth_type',\n",
    "                       'fifth_type', 'sixth_type'])"
   ]
  },
  {
   "cell_type": "code",
   "execution_count": 271,
   "id": "prostate-smile",
   "metadata": {
    "ExecuteTime": {
     "end_time": "2021-03-12T06:13:01.050342Z",
     "start_time": "2021-03-12T06:13:01.006944Z"
    },
    "scrolled": false
   },
   "outputs": [
    {
     "data": {
      "text/html": [
       "<div>\n",
       "<style scoped>\n",
       "    .dataframe tbody tr th:only-of-type {\n",
       "        vertical-align: middle;\n",
       "    }\n",
       "\n",
       "    .dataframe tbody tr th {\n",
       "        vertical-align: top;\n",
       "    }\n",
       "\n",
       "    .dataframe thead th {\n",
       "        text-align: right;\n",
       "    }\n",
       "</style>\n",
       "<table border=\"1\" class=\"dataframe\">\n",
       "  <thead>\n",
       "    <tr style=\"text-align: right;\">\n",
       "      <th></th>\n",
       "      <th>Name</th>\n",
       "      <th>Link</th>\n",
       "      <th>Date</th>\n",
       "      <th>Gender</th>\n",
       "      <th>Age</th>\n",
       "      <th>Lead Follow</th>\n",
       "      <th>Membership</th>\n",
       "      <th>Climb Type</th>\n",
       "      <th>Best Times</th>\n",
       "      <th>Other Interests</th>\n",
       "      <th>...</th>\n",
       "      <th>Location</th>\n",
       "      <th>Avg Stars</th>\n",
       "      <th>Your Stars</th>\n",
       "      <th>Your Rating</th>\n",
       "      <th>Sport</th>\n",
       "      <th>Trad</th>\n",
       "      <th>Boulders</th>\n",
       "      <th>Mixed</th>\n",
       "      <th>Aid</th>\n",
       "      <th>Ice</th>\n",
       "    </tr>\n",
       "  </thead>\n",
       "  <tbody>\n",
       "    <tr>\n",
       "      <th>739217</th>\n",
       "      <td>Brandon Howlett</td>\n",
       "      <td>https://www.mountainproject.com/user/106812615/brandon-howlett</td>\n",
       "      <td>2017-04-22</td>\n",
       "      <td>Male</td>\n",
       "      <td>37.0</td>\n",
       "      <td>Trad: leads 5.9, follows 5.10d\\nSport: leads 5.10c, follows 5.11b\\nBoulders: V3</td>\n",
       "      <td>\\nJun 30, 2010\\n</td>\n",
       "      <td>Trad, Sport, Gym</td>\n",
       "      <td>Any</td>\n",
       "      <td>All the outdoor stuff, cooking, yoga, board games</td>\n",
       "      <td>...</td>\n",
       "      <td>Lander, WY</td>\n",
       "      <td>2.3</td>\n",
       "      <td>-1.0</td>\n",
       "      <td>NaN</td>\n",
       "      <td>Sport: leads 5.10c, follows 5.11b</td>\n",
       "      <td>Trad: leads 5.9, follows 5.10d</td>\n",
       "      <td>Boulders: V3</td>\n",
       "      <td>NaN</td>\n",
       "      <td>NaN</td>\n",
       "      <td>NaN</td>\n",
       "    </tr>\n",
       "    <tr>\n",
       "      <th>996987</th>\n",
       "      <td>Cameron Saul</td>\n",
       "      <td>https://www.mountainproject.com/user/110979810/cameron-saul</td>\n",
       "      <td>2018-03-02</td>\n",
       "      <td>Male</td>\n",
       "      <td>36.0</td>\n",
       "      <td>Trad: leads 5.10a, follows 5.11a\\nAid: leads C2, follows C3</td>\n",
       "      <td>\\nSep 4, 2015\\n</td>\n",
       "      <td>Trad</td>\n",
       "      <td>Weekends!</td>\n",
       "      <td>Mountain biking, river kayaking, snowboarding.</td>\n",
       "      <td>...</td>\n",
       "      <td>San Francisco</td>\n",
       "      <td>3.6</td>\n",
       "      <td>-1.0</td>\n",
       "      <td>NaN</td>\n",
       "      <td>NaN</td>\n",
       "      <td>Trad: leads 5.10a, follows 5.11a</td>\n",
       "      <td>NaN</td>\n",
       "      <td>NaN</td>\n",
       "      <td>Aid: leads C2, follows C3</td>\n",
       "      <td>NaN</td>\n",
       "    </tr>\n",
       "    <tr>\n",
       "      <th>713033</th>\n",
       "      <td>Ian Umstead</td>\n",
       "      <td>https://www.mountainproject.com/user/200319198/ian-umstead</td>\n",
       "      <td>2020-12-12</td>\n",
       "      <td>Male</td>\n",
       "      <td>26.0</td>\n",
       "      <td>Trad: leads 5.8, follows 5.11a\\nSport: leads 5.13a, follows 5.13b\\nBoulders: V6</td>\n",
       "      <td>\\nJul 21, 2018\\n</td>\n",
       "      <td>Trad, Sport, Gym</td>\n",
       "      <td>NaN</td>\n",
       "      <td>NaN</td>\n",
       "      <td>...</td>\n",
       "      <td>Murray, KY</td>\n",
       "      <td>1.6</td>\n",
       "      <td>-1.0</td>\n",
       "      <td>NaN</td>\n",
       "      <td>Sport: leads 5.13a, follows 5.13b</td>\n",
       "      <td>Trad: leads 5.8, follows 5.11a</td>\n",
       "      <td>Boulders: V6</td>\n",
       "      <td>NaN</td>\n",
       "      <td>NaN</td>\n",
       "      <td>NaN</td>\n",
       "    </tr>\n",
       "  </tbody>\n",
       "</table>\n",
       "<p>3 rows × 26 columns</p>\n",
       "</div>"
      ],
      "text/plain": [
       "                   Name  \\\n",
       "739217  Brandon Howlett   \n",
       "996987     Cameron Saul   \n",
       "713033      Ian Umstead   \n",
       "\n",
       "                                                                  Link  \\\n",
       "739217  https://www.mountainproject.com/user/106812615/brandon-howlett   \n",
       "996987     https://www.mountainproject.com/user/110979810/cameron-saul   \n",
       "713033      https://www.mountainproject.com/user/200319198/ian-umstead   \n",
       "\n",
       "             Date Gender   Age  \\\n",
       "739217 2017-04-22   Male  37.0   \n",
       "996987 2018-03-02   Male  36.0   \n",
       "713033 2020-12-12   Male  26.0   \n",
       "\n",
       "                                                                            Lead Follow  \\\n",
       "739217  Trad: leads 5.9, follows 5.10d\\nSport: leads 5.10c, follows 5.11b\\nBoulders: V3   \n",
       "996987                      Trad: leads 5.10a, follows 5.11a\\nAid: leads C2, follows C3   \n",
       "713033  Trad: leads 5.8, follows 5.11a\\nSport: leads 5.13a, follows 5.13b\\nBoulders: V6   \n",
       "\n",
       "              Membership        Climb Type Best Times  \\\n",
       "739217  \\nJun 30, 2010\\n  Trad, Sport, Gym        Any   \n",
       "996987   \\nSep 4, 2015\\n              Trad  Weekends!   \n",
       "713033  \\nJul 21, 2018\\n  Trad, Sport, Gym        NaN   \n",
       "\n",
       "                                          Other Interests  ...       Location  \\\n",
       "739217  All the outdoor stuff, cooking, yoga, board games  ...     Lander, WY   \n",
       "996987     Mountain biking, river kayaking, snowboarding.  ...  San Francisco   \n",
       "713033                                                NaN  ...     Murray, KY   \n",
       "\n",
       "       Avg Stars Your Stars Your Rating                              Sport  \\\n",
       "739217       2.3       -1.0         NaN  Sport: leads 5.10c, follows 5.11b   \n",
       "996987       3.6       -1.0         NaN                                NaN   \n",
       "713033       1.6       -1.0         NaN  Sport: leads 5.13a, follows 5.13b   \n",
       "\n",
       "                                    Trad      Boulders  Mixed  \\\n",
       "739217    Trad: leads 5.9, follows 5.10d  Boulders: V3    NaN   \n",
       "996987  Trad: leads 5.10a, follows 5.11a           NaN    NaN   \n",
       "713033    Trad: leads 5.8, follows 5.11a  Boulders: V6    NaN   \n",
       "\n",
       "                              Aid  Ice  \n",
       "739217                        NaN  NaN  \n",
       "996987  Aid: leads C2, follows C3  NaN  \n",
       "713033                        NaN  NaN  \n",
       "\n",
       "[3 rows x 26 columns]"
      ]
     },
     "execution_count": 271,
     "metadata": {},
     "output_type": "execute_result"
    }
   ],
   "source": [
    "# Sanity check\n",
    "df.sample(3)"
   ]
  },
  {
   "cell_type": "code",
   "execution_count": 272,
   "id": "typical-potato",
   "metadata": {
    "ExecuteTime": {
     "end_time": "2021-03-12T06:13:13.301918Z",
     "start_time": "2021-03-12T06:13:05.396773Z"
    }
   },
   "outputs": [],
   "source": [
    "# Extract the sport lead grade and move it into 'Sport Leads' column\n",
    "sport_leads = df['Sport'].str.split('leads')\n",
    "sport_leads = sport_leads.str[1]\n",
    "sport_leads = sport_leads.str.split(',')\n",
    "sport_leads = sport_leads.str[0]\n",
    "df['Sport Leads'] = sport_leads\n",
    "\n",
    "# Extract the sport follow grade and move it into 'Sport Follow' column\n",
    "sport_follows = df['Sport'].str.split('follows')\n",
    "sport_follows = sport_follows.str[1]\n",
    "df['Sport Follows'] = sport_follows\n",
    "\n",
    "# Extract the trad lead grade and move it into 'Trad Leads' column\n",
    "trad_leads = df['Trad'].str.split('leads')\n",
    "trad_leads = trad_leads.str[1]\n",
    "trad_leads = trad_leads.str.split(',')\n",
    "trad_leads = trad_leads.str[0]\n",
    "df['Trad Leads'] = trad_leads\n",
    "\n",
    "# Extract the trad follow grade and move it into 'Trad Follow' column\n",
    "trad_follows = df['Trad'].str.split('follows')\n",
    "trad_follows = trad_follows.str[1]\n",
    "df['Trad Follows'] = trad_follows\n",
    "\n",
    "# Extract the mixed lead grade and move it into 'Mixed Leads' column\n",
    "mixed_leads = df['Mixed'].str.split('leads')\n",
    "mixed_leads = mixed_leads.str[1]\n",
    "mixed_leads = mixed_leads.str.split(',')\n",
    "mixed_leads = mixed_leads.str[0]\n",
    "df['Mixed Leads'] = mixed_leads\n",
    "\n",
    "# Extract the mixed follow grade and move it into 'Mixed Follow' column\n",
    "mixed_follows = df['Mixed'].str.split('follows')\n",
    "mixed_follows = mixed_follows.str[1]\n",
    "df['Mixed Follows'] = mixed_follows\n",
    "\n",
    "# Extract the aid lead grade and move it into 'Aid Leads' column\n",
    "aid_leads = df['Aid'].str.split('leads')\n",
    "aid_leads = aid_leads.str[1]\n",
    "aid_leads = aid_leads.str.split(',')\n",
    "aid_leads = aid_leads.str[0]\n",
    "df['Aid Leads'] = aid_leads\n",
    "\n",
    "# Extract the aid follow grade and move it into 'Aid Follow' column\n",
    "aid_follows = df['Aid'].str.split('follows')\n",
    "aid_follows = aid_follows.str[1]\n",
    "df['Aid Follows'] = aid_follows\n",
    "\n",
    "# Extract the ice lead grade and move it into 'Ice Leads' column\n",
    "ice_leads = df['Ice'].str.split('leads')\n",
    "ice_leads = ice_leads.str[1]\n",
    "ice_leads = ice_leads.str.split(',')\n",
    "ice_leads = ice_leads.str[0]\n",
    "df['Ice Leads'] = ice_leads\n",
    "\n",
    "# Extract the ice follow grade and move it into 'Ice Follow' column\n",
    "ice_follows = df['Ice'].str.split('follows')\n",
    "ice_follows = ice_follows.str[1]\n",
    "df['Ice Follows'] = ice_follows"
   ]
  },
  {
   "cell_type": "code",
   "execution_count": 273,
   "id": "thorough-eagle",
   "metadata": {
    "ExecuteTime": {
     "end_time": "2021-03-12T06:13:17.789473Z",
     "start_time": "2021-03-12T06:13:17.379333Z"
    }
   },
   "outputs": [],
   "source": [
    "# Extract the boulder grade and move it to the 'Boulder' column\n",
    "boulder_grade = df['Boulders'].str.split(':')\n",
    "boulder_grade = boulder_grade.str[1]\n",
    "df['Boulder'] = boulder_grade"
   ]
  },
  {
   "cell_type": "code",
   "execution_count": 274,
   "id": "agricultural-sailing",
   "metadata": {
    "ExecuteTime": {
     "end_time": "2021-03-12T06:13:19.809244Z",
     "start_time": "2021-03-12T06:13:18.851829Z"
    }
   },
   "outputs": [
    {
     "data": {
      "text/html": [
       "<div>\n",
       "<style scoped>\n",
       "    .dataframe tbody tr th:only-of-type {\n",
       "        vertical-align: middle;\n",
       "    }\n",
       "\n",
       "    .dataframe tbody tr th {\n",
       "        vertical-align: top;\n",
       "    }\n",
       "\n",
       "    .dataframe thead th {\n",
       "        text-align: right;\n",
       "    }\n",
       "</style>\n",
       "<table border=\"1\" class=\"dataframe\">\n",
       "  <thead>\n",
       "    <tr style=\"text-align: right;\">\n",
       "      <th></th>\n",
       "      <th>Lead Follow</th>\n",
       "      <th>Sport Leads</th>\n",
       "      <th>Sport Follows</th>\n",
       "      <th>Trad Leads</th>\n",
       "      <th>Trad Follows</th>\n",
       "      <th>Mixed Leads</th>\n",
       "      <th>Mixed Follows</th>\n",
       "      <th>Aid Leads</th>\n",
       "      <th>Aid Follows</th>\n",
       "      <th>Ice Leads</th>\n",
       "      <th>Ice Follows</th>\n",
       "      <th>Boulder</th>\n",
       "    </tr>\n",
       "  </thead>\n",
       "  <tbody>\n",
       "    <tr>\n",
       "      <th>832802</th>\n",
       "      <td>Trad: leads 3rd, follows 4th\\nSport: leads 3rd, follows 4th\\nAid: leads C5, follows C0\\nIce: leads WI8, follows WI1\\nMixed: leads M11, follows M1\\nBoulders: V-easy</td>\n",
       "      <td>3rd</td>\n",
       "      <td>4th</td>\n",
       "      <td>3rd</td>\n",
       "      <td>4th</td>\n",
       "      <td>M11</td>\n",
       "      <td>M1</td>\n",
       "      <td>C5</td>\n",
       "      <td>C0</td>\n",
       "      <td>WI8</td>\n",
       "      <td>WI1</td>\n",
       "      <td>V-easy</td>\n",
       "    </tr>\n",
       "    <tr>\n",
       "      <th>869002</th>\n",
       "      <td>Trad: leads 5.11a, follows 5.11a\\nSport: leads 5.13a, follows 5.13a</td>\n",
       "      <td>5.13a</td>\n",
       "      <td>5.13a</td>\n",
       "      <td>5.11a</td>\n",
       "      <td>5.11a</td>\n",
       "      <td>NaN</td>\n",
       "      <td>NaN</td>\n",
       "      <td>NaN</td>\n",
       "      <td>NaN</td>\n",
       "      <td>NaN</td>\n",
       "      <td>NaN</td>\n",
       "      <td>NaN</td>\n",
       "    </tr>\n",
       "    <tr>\n",
       "      <th>444043</th>\n",
       "      <td>Trad: leads 5.8, follows 5.11b\\nSport: leads 5.10a, follows 5.11b\\nIce: leads WI3, follows WI5</td>\n",
       "      <td>5.10a</td>\n",
       "      <td>5.11b</td>\n",
       "      <td>5.8</td>\n",
       "      <td>5.11b</td>\n",
       "      <td>NaN</td>\n",
       "      <td>NaN</td>\n",
       "      <td>NaN</td>\n",
       "      <td>NaN</td>\n",
       "      <td>WI3</td>\n",
       "      <td>WI5</td>\n",
       "      <td>NaN</td>\n",
       "    </tr>\n",
       "    <tr>\n",
       "      <th>827556</th>\n",
       "      <td>NaN</td>\n",
       "      <td>NaN</td>\n",
       "      <td>NaN</td>\n",
       "      <td>NaN</td>\n",
       "      <td>NaN</td>\n",
       "      <td>NaN</td>\n",
       "      <td>NaN</td>\n",
       "      <td>NaN</td>\n",
       "      <td>NaN</td>\n",
       "      <td>NaN</td>\n",
       "      <td>NaN</td>\n",
       "      <td>NaN</td>\n",
       "    </tr>\n",
       "    <tr>\n",
       "      <th>936204</th>\n",
       "      <td>Trad: leads 5.10b, follows 5.11a\\nSport: leads 5.10b, follows 5.10d</td>\n",
       "      <td>5.10b</td>\n",
       "      <td>5.10d</td>\n",
       "      <td>5.10b</td>\n",
       "      <td>5.11a</td>\n",
       "      <td>NaN</td>\n",
       "      <td>NaN</td>\n",
       "      <td>NaN</td>\n",
       "      <td>NaN</td>\n",
       "      <td>NaN</td>\n",
       "      <td>NaN</td>\n",
       "      <td>NaN</td>\n",
       "    </tr>\n",
       "  </tbody>\n",
       "</table>\n",
       "</div>"
      ],
      "text/plain": [
       "                                                                                                                                                                Lead Follow  \\\n",
       "832802  Trad: leads 3rd, follows 4th\\nSport: leads 3rd, follows 4th\\nAid: leads C5, follows C0\\nIce: leads WI8, follows WI1\\nMixed: leads M11, follows M1\\nBoulders: V-easy   \n",
       "869002                                                                                                  Trad: leads 5.11a, follows 5.11a\\nSport: leads 5.13a, follows 5.13a   \n",
       "444043                                                                       Trad: leads 5.8, follows 5.11b\\nSport: leads 5.10a, follows 5.11b\\nIce: leads WI3, follows WI5   \n",
       "827556                                                                                                                                                                  NaN   \n",
       "936204                                                                                                  Trad: leads 5.10b, follows 5.11a\\nSport: leads 5.10b, follows 5.10d   \n",
       "\n",
       "       Sport Leads Sport Follows Trad Leads Trad Follows Mixed Leads  \\\n",
       "832802         3rd           4th        3rd          4th         M11   \n",
       "869002       5.13a         5.13a      5.11a        5.11a         NaN   \n",
       "444043       5.10a         5.11b        5.8        5.11b         NaN   \n",
       "827556         NaN           NaN        NaN          NaN         NaN   \n",
       "936204       5.10b         5.10d      5.10b        5.11a         NaN   \n",
       "\n",
       "       Mixed Follows Aid Leads Aid Follows Ice Leads Ice Follows  Boulder  \n",
       "832802            M1        C5          C0       WI8         WI1   V-easy  \n",
       "869002           NaN       NaN         NaN       NaN         NaN      NaN  \n",
       "444043           NaN       NaN         NaN       WI3         WI5      NaN  \n",
       "827556           NaN       NaN         NaN       NaN         NaN      NaN  \n",
       "936204           NaN       NaN         NaN       NaN         NaN      NaN  "
      ]
     },
     "execution_count": 274,
     "metadata": {},
     "output_type": "execute_result"
    }
   ],
   "source": [
    "df[['Lead Follow', 'Sport Leads', 'Sport Follows', 'Trad Leads', 'Trad Follows', 'Mixed Leads', 'Mixed Follows', 'Aid Leads', 'Aid Follows', 'Ice Leads', 'Ice Follows', 'Boulder']].sample(5)"
   ]
  },
  {
   "cell_type": "code",
   "execution_count": 275,
   "id": "virtual-maximum",
   "metadata": {
    "ExecuteTime": {
     "end_time": "2021-03-12T06:13:23.255998Z",
     "start_time": "2021-03-12T06:13:23.054073Z"
    }
   },
   "outputs": [],
   "source": [
    "df.drop(columns = ['Boulders', 'Sport', 'Trad', 'Mixed', 'Mixed', 'Aid', 'Ice'], inplace = True)"
   ]
  },
  {
   "cell_type": "code",
   "execution_count": 276,
   "id": "aging-framing",
   "metadata": {
    "ExecuteTime": {
     "end_time": "2021-03-12T06:13:29.293685Z",
     "start_time": "2021-03-12T06:13:29.286195Z"
    }
   },
   "outputs": [
    {
     "data": {
      "text/plain": [
       "Index(['Name', 'Link', 'Date', 'Gender', 'Age', 'Lead Follow', 'Membership',\n",
       "       'Climb Type', 'Best Times', 'Other Interests', 'Rating', 'Route Type',\n",
       "       'Style', 'Lead Style', 'URL', 'Pitches', 'Location', 'Avg Stars',\n",
       "       'Your Stars', 'Your Rating', 'Sport Leads', 'Sport Follows',\n",
       "       'Trad Leads', 'Trad Follows', 'Mixed Leads', 'Mixed Follows',\n",
       "       'Aid Leads', 'Aid Follows', 'Ice Leads', 'Ice Follows', 'Boulder'],\n",
       "      dtype='object')"
      ]
     },
     "execution_count": 276,
     "metadata": {},
     "output_type": "execute_result"
    }
   ],
   "source": [
    "df.columns"
   ]
  },
  {
   "cell_type": "code",
   "execution_count": 277,
   "id": "destroyed-quilt",
   "metadata": {
    "ExecuteTime": {
     "end_time": "2021-03-12T06:13:34.069580Z",
     "start_time": "2021-03-12T06:13:34.043203Z"
    }
   },
   "outputs": [
    {
     "data": {
      "text/html": [
       "<div>\n",
       "<style scoped>\n",
       "    .dataframe tbody tr th:only-of-type {\n",
       "        vertical-align: middle;\n",
       "    }\n",
       "\n",
       "    .dataframe tbody tr th {\n",
       "        vertical-align: top;\n",
       "    }\n",
       "\n",
       "    .dataframe thead th {\n",
       "        text-align: right;\n",
       "    }\n",
       "</style>\n",
       "<table border=\"1\" class=\"dataframe\">\n",
       "  <thead>\n",
       "    <tr style=\"text-align: right;\">\n",
       "      <th></th>\n",
       "      <th>Name</th>\n",
       "      <th>Link</th>\n",
       "      <th>Date</th>\n",
       "      <th>Gender</th>\n",
       "      <th>Age</th>\n",
       "      <th>Lead Follow</th>\n",
       "      <th>Membership</th>\n",
       "      <th>Climb Type</th>\n",
       "      <th>Best Times</th>\n",
       "      <th>Other Interests</th>\n",
       "      <th>...</th>\n",
       "      <th>Sport Follows</th>\n",
       "      <th>Trad Leads</th>\n",
       "      <th>Trad Follows</th>\n",
       "      <th>Mixed Leads</th>\n",
       "      <th>Mixed Follows</th>\n",
       "      <th>Aid Leads</th>\n",
       "      <th>Aid Follows</th>\n",
       "      <th>Ice Leads</th>\n",
       "      <th>Ice Follows</th>\n",
       "      <th>Boulder</th>\n",
       "    </tr>\n",
       "  </thead>\n",
       "  <tbody>\n",
       "    <tr>\n",
       "      <th>0</th>\n",
       "      <td>Aidan Shelburne</td>\n",
       "      <td>https://www.mountainproject.com/user/200717675/aidan-shelburne</td>\n",
       "      <td>2021-03-08</td>\n",
       "      <td>Male</td>\n",
       "      <td>21.0</td>\n",
       "      <td>Sport: leads 5.11a, follows 5.11d\\nBoulders: V7</td>\n",
       "      <td>\\nApr 1, 2020\\n</td>\n",
       "      <td>Sport, TR, Gym</td>\n",
       "      <td>Weekday afternoons/Weekends</td>\n",
       "      <td>Drawing, Skiing, Hiking, Biking</td>\n",
       "      <td>...</td>\n",
       "      <td>5.11d</td>\n",
       "      <td>NaN</td>\n",
       "      <td>NaN</td>\n",
       "      <td>NaN</td>\n",
       "      <td>NaN</td>\n",
       "      <td>NaN</td>\n",
       "      <td>NaN</td>\n",
       "      <td>NaN</td>\n",
       "      <td>NaN</td>\n",
       "      <td>V7</td>\n",
       "    </tr>\n",
       "    <tr>\n",
       "      <th>1</th>\n",
       "      <td>Aidan Shelburne</td>\n",
       "      <td>https://www.mountainproject.com/user/200717675/aidan-shelburne</td>\n",
       "      <td>2021-03-06</td>\n",
       "      <td>Male</td>\n",
       "      <td>21.0</td>\n",
       "      <td>Sport: leads 5.11a, follows 5.11d\\nBoulders: V7</td>\n",
       "      <td>\\nApr 1, 2020\\n</td>\n",
       "      <td>Sport, TR, Gym</td>\n",
       "      <td>Weekday afternoons/Weekends</td>\n",
       "      <td>Drawing, Skiing, Hiking, Biking</td>\n",
       "      <td>...</td>\n",
       "      <td>5.11d</td>\n",
       "      <td>NaN</td>\n",
       "      <td>NaN</td>\n",
       "      <td>NaN</td>\n",
       "      <td>NaN</td>\n",
       "      <td>NaN</td>\n",
       "      <td>NaN</td>\n",
       "      <td>NaN</td>\n",
       "      <td>NaN</td>\n",
       "      <td>V7</td>\n",
       "    </tr>\n",
       "    <tr>\n",
       "      <th>2</th>\n",
       "      <td>Aidan Shelburne</td>\n",
       "      <td>https://www.mountainproject.com/user/200717675/aidan-shelburne</td>\n",
       "      <td>2021-03-06</td>\n",
       "      <td>Male</td>\n",
       "      <td>21.0</td>\n",
       "      <td>Sport: leads 5.11a, follows 5.11d\\nBoulders: V7</td>\n",
       "      <td>\\nApr 1, 2020\\n</td>\n",
       "      <td>Sport, TR, Gym</td>\n",
       "      <td>Weekday afternoons/Weekends</td>\n",
       "      <td>Drawing, Skiing, Hiking, Biking</td>\n",
       "      <td>...</td>\n",
       "      <td>5.11d</td>\n",
       "      <td>NaN</td>\n",
       "      <td>NaN</td>\n",
       "      <td>NaN</td>\n",
       "      <td>NaN</td>\n",
       "      <td>NaN</td>\n",
       "      <td>NaN</td>\n",
       "      <td>NaN</td>\n",
       "      <td>NaN</td>\n",
       "      <td>V7</td>\n",
       "    </tr>\n",
       "    <tr>\n",
       "      <th>3</th>\n",
       "      <td>Aidan Shelburne</td>\n",
       "      <td>https://www.mountainproject.com/user/200717675/aidan-shelburne</td>\n",
       "      <td>2021-03-06</td>\n",
       "      <td>Male</td>\n",
       "      <td>21.0</td>\n",
       "      <td>Sport: leads 5.11a, follows 5.11d\\nBoulders: V7</td>\n",
       "      <td>\\nApr 1, 2020\\n</td>\n",
       "      <td>Sport, TR, Gym</td>\n",
       "      <td>Weekday afternoons/Weekends</td>\n",
       "      <td>Drawing, Skiing, Hiking, Biking</td>\n",
       "      <td>...</td>\n",
       "      <td>5.11d</td>\n",
       "      <td>NaN</td>\n",
       "      <td>NaN</td>\n",
       "      <td>NaN</td>\n",
       "      <td>NaN</td>\n",
       "      <td>NaN</td>\n",
       "      <td>NaN</td>\n",
       "      <td>NaN</td>\n",
       "      <td>NaN</td>\n",
       "      <td>V7</td>\n",
       "    </tr>\n",
       "    <tr>\n",
       "      <th>4</th>\n",
       "      <td>Aidan Shelburne</td>\n",
       "      <td>https://www.mountainproject.com/user/200717675/aidan-shelburne</td>\n",
       "      <td>2021-01-16</td>\n",
       "      <td>Male</td>\n",
       "      <td>21.0</td>\n",
       "      <td>Sport: leads 5.11a, follows 5.11d\\nBoulders: V7</td>\n",
       "      <td>\\nApr 1, 2020\\n</td>\n",
       "      <td>Sport, TR, Gym</td>\n",
       "      <td>Weekday afternoons/Weekends</td>\n",
       "      <td>Drawing, Skiing, Hiking, Biking</td>\n",
       "      <td>...</td>\n",
       "      <td>5.11d</td>\n",
       "      <td>NaN</td>\n",
       "      <td>NaN</td>\n",
       "      <td>NaN</td>\n",
       "      <td>NaN</td>\n",
       "      <td>NaN</td>\n",
       "      <td>NaN</td>\n",
       "      <td>NaN</td>\n",
       "      <td>NaN</td>\n",
       "      <td>V7</td>\n",
       "    </tr>\n",
       "  </tbody>\n",
       "</table>\n",
       "<p>5 rows × 31 columns</p>\n",
       "</div>"
      ],
      "text/plain": [
       "              Name  \\\n",
       "0  Aidan Shelburne   \n",
       "1  Aidan Shelburne   \n",
       "2  Aidan Shelburne   \n",
       "3  Aidan Shelburne   \n",
       "4  Aidan Shelburne   \n",
       "\n",
       "                                                             Link       Date  \\\n",
       "0  https://www.mountainproject.com/user/200717675/aidan-shelburne 2021-03-08   \n",
       "1  https://www.mountainproject.com/user/200717675/aidan-shelburne 2021-03-06   \n",
       "2  https://www.mountainproject.com/user/200717675/aidan-shelburne 2021-03-06   \n",
       "3  https://www.mountainproject.com/user/200717675/aidan-shelburne 2021-03-06   \n",
       "4  https://www.mountainproject.com/user/200717675/aidan-shelburne 2021-01-16   \n",
       "\n",
       "  Gender   Age                                      Lead Follow  \\\n",
       "0   Male  21.0  Sport: leads 5.11a, follows 5.11d\\nBoulders: V7   \n",
       "1   Male  21.0  Sport: leads 5.11a, follows 5.11d\\nBoulders: V7   \n",
       "2   Male  21.0  Sport: leads 5.11a, follows 5.11d\\nBoulders: V7   \n",
       "3   Male  21.0  Sport: leads 5.11a, follows 5.11d\\nBoulders: V7   \n",
       "4   Male  21.0  Sport: leads 5.11a, follows 5.11d\\nBoulders: V7   \n",
       "\n",
       "        Membership      Climb Type                   Best Times  \\\n",
       "0  \\nApr 1, 2020\\n  Sport, TR, Gym  Weekday afternoons/Weekends   \n",
       "1  \\nApr 1, 2020\\n  Sport, TR, Gym  Weekday afternoons/Weekends   \n",
       "2  \\nApr 1, 2020\\n  Sport, TR, Gym  Weekday afternoons/Weekends   \n",
       "3  \\nApr 1, 2020\\n  Sport, TR, Gym  Weekday afternoons/Weekends   \n",
       "4  \\nApr 1, 2020\\n  Sport, TR, Gym  Weekday afternoons/Weekends   \n",
       "\n",
       "                   Other Interests  ... Sport Follows Trad Leads Trad Follows  \\\n",
       "0  Drawing, Skiing, Hiking, Biking  ...         5.11d        NaN          NaN   \n",
       "1  Drawing, Skiing, Hiking, Biking  ...         5.11d        NaN          NaN   \n",
       "2  Drawing, Skiing, Hiking, Biking  ...         5.11d        NaN          NaN   \n",
       "3  Drawing, Skiing, Hiking, Biking  ...         5.11d        NaN          NaN   \n",
       "4  Drawing, Skiing, Hiking, Biking  ...         5.11d        NaN          NaN   \n",
       "\n",
       "  Mixed Leads Mixed Follows  Aid Leads Aid Follows  Ice Leads  Ice Follows  \\\n",
       "0         NaN           NaN        NaN         NaN        NaN          NaN   \n",
       "1         NaN           NaN        NaN         NaN        NaN          NaN   \n",
       "2         NaN           NaN        NaN         NaN        NaN          NaN   \n",
       "3         NaN           NaN        NaN         NaN        NaN          NaN   \n",
       "4         NaN           NaN        NaN         NaN        NaN          NaN   \n",
       "\n",
       "  Boulder  \n",
       "0      V7  \n",
       "1      V7  \n",
       "2      V7  \n",
       "3      V7  \n",
       "4      V7  \n",
       "\n",
       "[5 rows x 31 columns]"
      ]
     },
     "execution_count": 277,
     "metadata": {},
     "output_type": "execute_result"
    }
   ],
   "source": [
    "df.head()"
   ]
  },
  {
   "cell_type": "markdown",
   "id": "alien-title",
   "metadata": {},
   "source": [
    "## Membership"
   ]
  },
  {
   "cell_type": "code",
   "execution_count": 278,
   "id": "important-office",
   "metadata": {
    "ExecuteTime": {
     "end_time": "2021-03-12T06:13:43.855266Z",
     "start_time": "2021-03-12T06:13:42.952630Z"
    }
   },
   "outputs": [],
   "source": [
    "# Turn the membership into an integer of the year the user joined\n",
    "membership = df.Membership.str.split(',')\n",
    "membership = membership.str[1]\n",
    "membership = membership.str[1:5]\n",
    "memembership = pd.to_numeric(membership)\n",
    "df['Membership'] = membership"
   ]
  },
  {
   "cell_type": "code",
   "execution_count": 279,
   "id": "qualified-bangladesh",
   "metadata": {
    "ExecuteTime": {
     "end_time": "2021-03-12T06:13:45.281863Z",
     "start_time": "2021-03-12T06:13:45.274711Z"
    }
   },
   "outputs": [
    {
     "data": {
      "text/plain": [
       "Index(['Name', 'Link', 'Date', 'Gender', 'Age', 'Lead Follow', 'Membership',\n",
       "       'Climb Type', 'Best Times', 'Other Interests', 'Rating', 'Route Type',\n",
       "       'Style', 'Lead Style', 'URL', 'Pitches', 'Location', 'Avg Stars',\n",
       "       'Your Stars', 'Your Rating', 'Sport Leads', 'Sport Follows',\n",
       "       'Trad Leads', 'Trad Follows', 'Mixed Leads', 'Mixed Follows',\n",
       "       'Aid Leads', 'Aid Follows', 'Ice Leads', 'Ice Follows', 'Boulder'],\n",
       "      dtype='object')"
      ]
     },
     "execution_count": 279,
     "metadata": {},
     "output_type": "execute_result"
    }
   ],
   "source": [
    "df.columns"
   ]
  },
  {
   "cell_type": "markdown",
   "id": "nasty-alliance",
   "metadata": {},
   "source": [
    "## Average Stars"
   ]
  },
  {
   "cell_type": "code",
   "execution_count": 300,
   "id": "opponent-kitchen",
   "metadata": {
    "ExecuteTime": {
     "end_time": "2021-03-12T06:19:29.887498Z",
     "start_time": "2021-03-12T06:19:29.873472Z"
    }
   },
   "outputs": [
    {
     "data": {
      "text/plain": [
       "array([ 2.7,  2.8,  1.8,  2.1,  3.6,  2.3,  2.6,  1.5,  2.4,  2.5,  3. ,\n",
       "        1.9,  1.7,  2.9,  3.9,  3.2,  3.5,  3.4,  2. ,  1. ,  3.1,  3.3,\n",
       "        2.2,  1.4,  1.6,  1.3,  3.7,  3.8,  4. ,  1.1,  0.5,  1.2, -1. ,\n",
       "        0.8,  0. ,  0.6,  0.7,  0.9,  0.3,  0.4,  nan,  0.2,  0.1])"
      ]
     },
     "execution_count": 300,
     "metadata": {},
     "output_type": "execute_result"
    }
   ],
   "source": [
    "df['Avg Stars'].unique()"
   ]
  },
  {
   "cell_type": "code",
   "execution_count": 304,
   "id": "warming-london",
   "metadata": {
    "ExecuteTime": {
     "end_time": "2021-03-12T06:24:21.945670Z",
     "start_time": "2021-03-12T06:24:21.934401Z"
    }
   },
   "outputs": [],
   "source": [
    "# If the stars is '-1', turn it into a nan value\n",
    "df[df['Avg Stars'] == -1]\n",
    "df.loc[(df['Avg Stars'] == -1), 'Avg Stars'] = np.nan"
   ]
  },
  {
   "cell_type": "markdown",
   "id": "popular-female",
   "metadata": {},
   "source": [
    "## Your Stars"
   ]
  },
  {
   "cell_type": "code",
   "execution_count": 305,
   "id": "rubber-retention",
   "metadata": {
    "ExecuteTime": {
     "end_time": "2021-03-12T06:25:05.084636Z",
     "start_time": "2021-03-12T06:25:05.073375Z"
    }
   },
   "outputs": [
    {
     "data": {
      "text/plain": [
       "array([-1.,  4.,  2.,  3.,  1.,  0., nan])"
      ]
     },
     "execution_count": 305,
     "metadata": {},
     "output_type": "execute_result"
    }
   ],
   "source": [
    "df['Your Stars'].unique()"
   ]
  },
  {
   "cell_type": "code",
   "execution_count": 306,
   "id": "checked-steps",
   "metadata": {
    "ExecuteTime": {
     "end_time": "2021-03-12T06:25:30.374090Z",
     "start_time": "2021-03-12T06:25:30.201421Z"
    }
   },
   "outputs": [],
   "source": [
    "# If the stars is '-1', turn it into a nan value\n",
    "df[df['Your Stars'] == -1]\n",
    "df.loc[(df['Your Stars'] == -1), 'Your Stars'] = np.nan"
   ]
  },
  {
   "cell_type": "markdown",
   "id": "wooden-child",
   "metadata": {},
   "source": [
    "# Add Month Year Column"
   ]
  },
  {
   "cell_type": "code",
   "execution_count": 309,
   "id": "invisible-delta",
   "metadata": {
    "ExecuteTime": {
     "end_time": "2021-03-12T06:31:55.804108Z",
     "start_time": "2021-03-12T06:31:55.742477Z"
    }
   },
   "outputs": [],
   "source": [
    "df['month_year'] = pd.to_datetime(df['Date']).dt.to_period('M')"
   ]
  },
  {
   "cell_type": "code",
   "execution_count": 310,
   "id": "signed-bullet",
   "metadata": {
    "ExecuteTime": {
     "end_time": "2021-03-12T06:32:00.724504Z",
     "start_time": "2021-03-12T06:32:00.697188Z"
    }
   },
   "outputs": [
    {
     "data": {
      "text/html": [
       "<div>\n",
       "<style scoped>\n",
       "    .dataframe tbody tr th:only-of-type {\n",
       "        vertical-align: middle;\n",
       "    }\n",
       "\n",
       "    .dataframe tbody tr th {\n",
       "        vertical-align: top;\n",
       "    }\n",
       "\n",
       "    .dataframe thead th {\n",
       "        text-align: right;\n",
       "    }\n",
       "</style>\n",
       "<table border=\"1\" class=\"dataframe\">\n",
       "  <thead>\n",
       "    <tr style=\"text-align: right;\">\n",
       "      <th></th>\n",
       "      <th>Name</th>\n",
       "      <th>Link</th>\n",
       "      <th>Date</th>\n",
       "      <th>Gender</th>\n",
       "      <th>Age</th>\n",
       "      <th>Lead Follow</th>\n",
       "      <th>Membership</th>\n",
       "      <th>Climb Type</th>\n",
       "      <th>Best Times</th>\n",
       "      <th>Other Interests</th>\n",
       "      <th>...</th>\n",
       "      <th>Trad Leads</th>\n",
       "      <th>Trad Follows</th>\n",
       "      <th>Mixed Leads</th>\n",
       "      <th>Mixed Follows</th>\n",
       "      <th>Aid Leads</th>\n",
       "      <th>Aid Follows</th>\n",
       "      <th>Ice Leads</th>\n",
       "      <th>Ice Follows</th>\n",
       "      <th>Boulder</th>\n",
       "      <th>month_year</th>\n",
       "    </tr>\n",
       "  </thead>\n",
       "  <tbody>\n",
       "    <tr>\n",
       "      <th>0</th>\n",
       "      <td>Aidan Shelburne</td>\n",
       "      <td>https://www.mountainproject.com/user/200717675/aidan-shelburne</td>\n",
       "      <td>2021-03-08</td>\n",
       "      <td>Male</td>\n",
       "      <td>21.0</td>\n",
       "      <td>Sport: leads 5.11a, follows 5.11d\\nBoulders: V7</td>\n",
       "      <td>2020</td>\n",
       "      <td>Sport, TR, Gym</td>\n",
       "      <td>Weekday afternoons/Weekends</td>\n",
       "      <td>Drawing, Skiing, Hiking, Biking</td>\n",
       "      <td>...</td>\n",
       "      <td>NaN</td>\n",
       "      <td>NaN</td>\n",
       "      <td>NaN</td>\n",
       "      <td>NaN</td>\n",
       "      <td>NaN</td>\n",
       "      <td>NaN</td>\n",
       "      <td>NaN</td>\n",
       "      <td>NaN</td>\n",
       "      <td>V7</td>\n",
       "      <td>2021-03</td>\n",
       "    </tr>\n",
       "    <tr>\n",
       "      <th>1</th>\n",
       "      <td>Aidan Shelburne</td>\n",
       "      <td>https://www.mountainproject.com/user/200717675/aidan-shelburne</td>\n",
       "      <td>2021-03-06</td>\n",
       "      <td>Male</td>\n",
       "      <td>21.0</td>\n",
       "      <td>Sport: leads 5.11a, follows 5.11d\\nBoulders: V7</td>\n",
       "      <td>2020</td>\n",
       "      <td>Sport, TR, Gym</td>\n",
       "      <td>Weekday afternoons/Weekends</td>\n",
       "      <td>Drawing, Skiing, Hiking, Biking</td>\n",
       "      <td>...</td>\n",
       "      <td>NaN</td>\n",
       "      <td>NaN</td>\n",
       "      <td>NaN</td>\n",
       "      <td>NaN</td>\n",
       "      <td>NaN</td>\n",
       "      <td>NaN</td>\n",
       "      <td>NaN</td>\n",
       "      <td>NaN</td>\n",
       "      <td>V7</td>\n",
       "      <td>2021-03</td>\n",
       "    </tr>\n",
       "    <tr>\n",
       "      <th>2</th>\n",
       "      <td>Aidan Shelburne</td>\n",
       "      <td>https://www.mountainproject.com/user/200717675/aidan-shelburne</td>\n",
       "      <td>2021-03-06</td>\n",
       "      <td>Male</td>\n",
       "      <td>21.0</td>\n",
       "      <td>Sport: leads 5.11a, follows 5.11d\\nBoulders: V7</td>\n",
       "      <td>2020</td>\n",
       "      <td>Sport, TR, Gym</td>\n",
       "      <td>Weekday afternoons/Weekends</td>\n",
       "      <td>Drawing, Skiing, Hiking, Biking</td>\n",
       "      <td>...</td>\n",
       "      <td>NaN</td>\n",
       "      <td>NaN</td>\n",
       "      <td>NaN</td>\n",
       "      <td>NaN</td>\n",
       "      <td>NaN</td>\n",
       "      <td>NaN</td>\n",
       "      <td>NaN</td>\n",
       "      <td>NaN</td>\n",
       "      <td>V7</td>\n",
       "      <td>2021-03</td>\n",
       "    </tr>\n",
       "    <tr>\n",
       "      <th>3</th>\n",
       "      <td>Aidan Shelburne</td>\n",
       "      <td>https://www.mountainproject.com/user/200717675/aidan-shelburne</td>\n",
       "      <td>2021-03-06</td>\n",
       "      <td>Male</td>\n",
       "      <td>21.0</td>\n",
       "      <td>Sport: leads 5.11a, follows 5.11d\\nBoulders: V7</td>\n",
       "      <td>2020</td>\n",
       "      <td>Sport, TR, Gym</td>\n",
       "      <td>Weekday afternoons/Weekends</td>\n",
       "      <td>Drawing, Skiing, Hiking, Biking</td>\n",
       "      <td>...</td>\n",
       "      <td>NaN</td>\n",
       "      <td>NaN</td>\n",
       "      <td>NaN</td>\n",
       "      <td>NaN</td>\n",
       "      <td>NaN</td>\n",
       "      <td>NaN</td>\n",
       "      <td>NaN</td>\n",
       "      <td>NaN</td>\n",
       "      <td>V7</td>\n",
       "      <td>2021-03</td>\n",
       "    </tr>\n",
       "    <tr>\n",
       "      <th>4</th>\n",
       "      <td>Aidan Shelburne</td>\n",
       "      <td>https://www.mountainproject.com/user/200717675/aidan-shelburne</td>\n",
       "      <td>2021-01-16</td>\n",
       "      <td>Male</td>\n",
       "      <td>21.0</td>\n",
       "      <td>Sport: leads 5.11a, follows 5.11d\\nBoulders: V7</td>\n",
       "      <td>2020</td>\n",
       "      <td>Sport, TR, Gym</td>\n",
       "      <td>Weekday afternoons/Weekends</td>\n",
       "      <td>Drawing, Skiing, Hiking, Biking</td>\n",
       "      <td>...</td>\n",
       "      <td>NaN</td>\n",
       "      <td>NaN</td>\n",
       "      <td>NaN</td>\n",
       "      <td>NaN</td>\n",
       "      <td>NaN</td>\n",
       "      <td>NaN</td>\n",
       "      <td>NaN</td>\n",
       "      <td>NaN</td>\n",
       "      <td>V7</td>\n",
       "      <td>2021-01</td>\n",
       "    </tr>\n",
       "  </tbody>\n",
       "</table>\n",
       "<p>5 rows × 32 columns</p>\n",
       "</div>"
      ],
      "text/plain": [
       "              Name  \\\n",
       "0  Aidan Shelburne   \n",
       "1  Aidan Shelburne   \n",
       "2  Aidan Shelburne   \n",
       "3  Aidan Shelburne   \n",
       "4  Aidan Shelburne   \n",
       "\n",
       "                                                             Link       Date  \\\n",
       "0  https://www.mountainproject.com/user/200717675/aidan-shelburne 2021-03-08   \n",
       "1  https://www.mountainproject.com/user/200717675/aidan-shelburne 2021-03-06   \n",
       "2  https://www.mountainproject.com/user/200717675/aidan-shelburne 2021-03-06   \n",
       "3  https://www.mountainproject.com/user/200717675/aidan-shelburne 2021-03-06   \n",
       "4  https://www.mountainproject.com/user/200717675/aidan-shelburne 2021-01-16   \n",
       "\n",
       "  Gender   Age                                      Lead Follow Membership  \\\n",
       "0   Male  21.0  Sport: leads 5.11a, follows 5.11d\\nBoulders: V7       2020   \n",
       "1   Male  21.0  Sport: leads 5.11a, follows 5.11d\\nBoulders: V7       2020   \n",
       "2   Male  21.0  Sport: leads 5.11a, follows 5.11d\\nBoulders: V7       2020   \n",
       "3   Male  21.0  Sport: leads 5.11a, follows 5.11d\\nBoulders: V7       2020   \n",
       "4   Male  21.0  Sport: leads 5.11a, follows 5.11d\\nBoulders: V7       2020   \n",
       "\n",
       "       Climb Type                   Best Times  \\\n",
       "0  Sport, TR, Gym  Weekday afternoons/Weekends   \n",
       "1  Sport, TR, Gym  Weekday afternoons/Weekends   \n",
       "2  Sport, TR, Gym  Weekday afternoons/Weekends   \n",
       "3  Sport, TR, Gym  Weekday afternoons/Weekends   \n",
       "4  Sport, TR, Gym  Weekday afternoons/Weekends   \n",
       "\n",
       "                   Other Interests  ... Trad Leads Trad Follows Mixed Leads  \\\n",
       "0  Drawing, Skiing, Hiking, Biking  ...        NaN          NaN         NaN   \n",
       "1  Drawing, Skiing, Hiking, Biking  ...        NaN          NaN         NaN   \n",
       "2  Drawing, Skiing, Hiking, Biking  ...        NaN          NaN         NaN   \n",
       "3  Drawing, Skiing, Hiking, Biking  ...        NaN          NaN         NaN   \n",
       "4  Drawing, Skiing, Hiking, Biking  ...        NaN          NaN         NaN   \n",
       "\n",
       "  Mixed Follows Aid Leads  Aid Follows Ice Leads  Ice Follows  Boulder  \\\n",
       "0           NaN       NaN          NaN       NaN          NaN       V7   \n",
       "1           NaN       NaN          NaN       NaN          NaN       V7   \n",
       "2           NaN       NaN          NaN       NaN          NaN       V7   \n",
       "3           NaN       NaN          NaN       NaN          NaN       V7   \n",
       "4           NaN       NaN          NaN       NaN          NaN       V7   \n",
       "\n",
       "  month_year  \n",
       "0    2021-03  \n",
       "1    2021-03  \n",
       "2    2021-03  \n",
       "3    2021-03  \n",
       "4    2021-01  \n",
       "\n",
       "[5 rows x 32 columns]"
      ]
     },
     "execution_count": 310,
     "metadata": {},
     "output_type": "execute_result"
    }
   ],
   "source": [
    "df.head()"
   ]
  },
  {
   "cell_type": "markdown",
   "id": "hollywood-wayne",
   "metadata": {},
   "source": [
    "# Save as CSV"
   ]
  },
  {
   "cell_type": "code",
   "execution_count": 311,
   "id": "auburn-response",
   "metadata": {
    "ExecuteTime": {
     "end_time": "2021-03-12T06:32:29.006061Z",
     "start_time": "2021-03-12T06:32:17.195006Z"
    }
   },
   "outputs": [],
   "source": [
    "df.to_csv('preprocessed.csv')"
   ]
  }
 ],
 "metadata": {
  "kernelspec": {
   "display_name": "Python 3",
   "language": "python",
   "name": "python3"
  },
  "language_info": {
   "codemirror_mode": {
    "name": "ipython",
    "version": 3
   },
   "file_extension": ".py",
   "mimetype": "text/x-python",
   "name": "python",
   "nbconvert_exporter": "python",
   "pygments_lexer": "ipython3",
   "version": "3.6.13"
  },
  "toc": {
   "base_numbering": 1,
   "nav_menu": {},
   "number_sections": true,
   "sideBar": true,
   "skip_h1_title": false,
   "title_cell": "Table of Contents",
   "title_sidebar": "Contents",
   "toc_cell": false,
   "toc_position": {},
   "toc_section_display": true,
   "toc_window_display": true
  },
  "varInspector": {
   "cols": {
    "lenName": 16,
    "lenType": 16,
    "lenVar": 40
   },
   "kernels_config": {
    "python": {
     "delete_cmd_postfix": "",
     "delete_cmd_prefix": "del ",
     "library": "var_list.py",
     "varRefreshCmd": "print(var_dic_list())"
    },
    "r": {
     "delete_cmd_postfix": ") ",
     "delete_cmd_prefix": "rm(",
     "library": "var_list.r",
     "varRefreshCmd": "cat(var_dic_list()) "
    }
   },
   "types_to_exclude": [
    "module",
    "function",
    "builtin_function_or_method",
    "instance",
    "_Feature"
   ],
   "window_display": false
  }
 },
 "nbformat": 4,
 "nbformat_minor": 5
}
