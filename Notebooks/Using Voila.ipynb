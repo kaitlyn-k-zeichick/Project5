{
 "cells": [
  {
   "cell_type": "code",
   "execution_count": 38,
   "id": "dominant-terminal",
   "metadata": {
    "ExecuteTime": {
     "end_time": "2021-03-19T17:57:40.857688Z",
     "start_time": "2021-03-19T17:57:39.771234Z"
    }
   },
   "outputs": [],
   "source": [
    "import pandas as pd\n",
    "from sklearn.datasets import load_iris\n",
    "\n",
    "from ipywidgets import AppLayout\n",
    "from ipywidgets import HTML, Layout, Dropdown, Output, Textarea, VBox, Label, BoundedFloatText, interact\n",
    "\n",
    "import bqplot as bq\n",
    "\n",
    "from sklearn.ensemble import RandomForestRegressor\n",
    "\n",
    "import matplotlib.pyplot as plt"
   ]
  },
  {
   "cell_type": "code",
   "execution_count": 3,
   "id": "olive-decimal",
   "metadata": {
    "ExecuteTime": {
     "end_time": "2021-03-19T16:39:30.044949Z",
     "start_time": "2021-03-19T16:39:29.925627Z"
    }
   },
   "outputs": [],
   "source": [
    "# Import Data\n",
    "df_train = pd.read_csv('train_data_regr3.csv')\n",
    "df = df_train"
   ]
  },
  {
   "cell_type": "code",
   "execution_count": 35,
   "id": "extreme-force",
   "metadata": {
    "ExecuteTime": {
     "end_time": "2021-03-19T17:24:14.132244Z",
     "start_time": "2021-03-19T17:24:13.745323Z"
    }
   },
   "outputs": [],
   "source": [
    "# Train the Model\n",
    "X = df[['last_month_max', 'prev_2_max', 'prev_3_max']]\n",
    "y = df['max_month']\n",
    "\n",
    "rf_model = RandomForestRegressor(n_estimators=100, n_jobs=-1, random_state=0, max_depth=5)\n",
    "rf_model.fit(X, y)\n",
    "\n",
    "x=1"
   ]
  },
  {
   "cell_type": "markdown",
   "id": "indian-aluminum",
   "metadata": {},
   "source": [
    "# Predicting Rock Climbing Performance"
   ]
  },
  {
   "cell_type": "markdown",
   "id": "incomplete-medication",
   "metadata": {},
   "source": [
    "Input the maximum diffulty you climbed this month, last month, and two months ago to get a prediction for what you'll be climbing next month. Only input your data if you've climbed more than five climbs this month. This will make the model much more accurate."
   ]
  },
  {
   "cell_type": "code",
   "execution_count": 79,
   "id": "typical-walker",
   "metadata": {
    "ExecuteTime": {
     "end_time": "2021-03-19T18:38:15.733122Z",
     "start_time": "2021-03-19T18:38:15.726598Z"
    }
   },
   "outputs": [],
   "source": [
    "def run_model(maximum_diff_last_month, maximum_diff_2_month, maximum_diff_3_month):\n",
    "    \n",
    "    # Get the predicted grade given the user's inputs.\n",
    "    result = rf_model.predict([[maximum_diff_last_month, maximum_diff_2_month, maximum_diff_3_month]])[0]\n",
    "    \n",
    "    out = Output(layout={'border': '1px solid white'})\n",
    "    \n",
    "    # Display the predicted grade\n",
    "    with out:\n",
    "        display(HTML(value=f'Predicted grade next month: <b>{result}</b>'))\n",
    "        \n",
    "    # Make a graph of the previous max grades and the predicted max grade.    \n",
    "    past_ticks = [maximum_diff_3_month, maximum_diff_2_month, maximum_diff_last_month]\n",
    "    current_tick = [maximum_diff_last_month, result]\n",
    "    plt.plot(past_ticks)\n",
    "    plt.plot([2,3],current_tick)\n",
    "    plt.title(\"Graph of past maximum climbs and next month's predicted max\")\n",
    "        \n",
    "    return out"
   ]
  },
  {
   "cell_type": "code",
   "execution_count": 80,
   "id": "effective-leadership",
   "metadata": {
    "ExecuteTime": {
     "end_time": "2021-03-19T18:38:18.105849Z",
     "start_time": "2021-03-19T18:38:17.656687Z"
    }
   },
   "outputs": [
    {
     "data": {
      "application/vnd.jupyter.widget-view+json": {
       "model_id": "82fa5ded4175453faf81008350bc3756",
       "version_major": 2,
       "version_minor": 0
      },
      "text/plain": [
       "interactive(children=(BoundedFloatText(value=8.0, description='This Month', max=33.0, step=1.0, style=Descript…"
      ]
     },
     "metadata": {},
     "output_type": "display_data"
    }
   ],
   "source": [
    "# The user's inputs\n",
    "interact(run_model,\n",
    "        maximum_diff_last_month = BoundedFloatText(value = 8, min = 0, max = 33, step = 1, description = 'This Month', style = {'description_width': '150px'}),\n",
    "        maximum_diff_2_month = BoundedFloatText(value = 8, min = 0, max = 33, step = 1, description = 'Last Month', style = {'description_width': '150px'}),\n",
    "        maximum_diff_3_month = BoundedFloatText(value = 8, min = 0, max = 33, step = 1, description = 'Two Months Ago', style = {'description_width': '150px'})\n",
    "        );"
   ]
  },
  {
   "cell_type": "code",
   "execution_count": 16,
   "id": "electrical-behavior",
   "metadata": {
    "ExecuteTime": {
     "end_time": "2021-03-19T17:10:17.936430Z",
     "start_time": "2021-03-19T17:10:17.921234Z"
    }
   },
   "outputs": [],
   "source": [
    "header2 = header = HTML(\"<h2>Random Forest Regressor Model Predictions</h2>\", \n",
    "              layout=Layout(height='auto'))"
   ]
  },
  {
   "cell_type": "markdown",
   "id": "coordinated-divorce",
   "metadata": {},
   "source": [
    "# Table to Compare Numerical Values and Grade"
   ]
  },
  {
   "cell_type": "code",
   "execution_count": 75,
   "id": "possible-charge",
   "metadata": {
    "ExecuteTime": {
     "end_time": "2021-03-19T18:22:34.107963Z",
     "start_time": "2021-03-19T18:22:34.091892Z"
    }
   },
   "outputs": [],
   "source": [
    "df_table = pd.DataFrame()\n",
    "df_table['Numerical Value'] = [.2,.4,.6,.8,1,2,3,4,5,6,7,8,9,10,11,12,13,14,15,16,17,18,\n",
    "                               19,20,21,22,23,24,25,26,27,28,29,30,31,32,33]\n",
    "df_table['Grade'] = ['3rd class', '4th class', '5th class', '5.0', '5.1', '5.2', '5.3', '5.4',\n",
    "                    '5.5', '5.6', '5.7', '5.8', '5.9', '5.10a', '5.10b', '5.10c', '5.10d',\n",
    "                    '5.11a', '5.11b', '5.11c', '5.11d', '5.12a', '5.12b', '5.12c', '5.12d',\n",
    "                    '5.13a', '5.13b', '5.13c', '5.13d', '5.14a', '5.14b', '5.14c', '5.14d',\n",
    "                    '5.15a', '5.15b', '5.15c', '5.15d']"
   ]
  },
  {
   "cell_type": "code",
   "execution_count": 76,
   "id": "vulnerable-commitment",
   "metadata": {
    "ExecuteTime": {
     "end_time": "2021-03-19T18:22:34.698959Z",
     "start_time": "2021-03-19T18:22:34.679847Z"
    }
   },
   "outputs": [
    {
     "data": {
      "text/html": [
       "<div>\n",
       "<style scoped>\n",
       "    .dataframe tbody tr th:only-of-type {\n",
       "        vertical-align: middle;\n",
       "    }\n",
       "\n",
       "    .dataframe tbody tr th {\n",
       "        vertical-align: top;\n",
       "    }\n",
       "\n",
       "    .dataframe thead th {\n",
       "        text-align: right;\n",
       "    }\n",
       "</style>\n",
       "<table border=\"1\" class=\"dataframe\">\n",
       "  <thead>\n",
       "    <tr style=\"text-align: right;\">\n",
       "      <th></th>\n",
       "      <th>Numerical Value</th>\n",
       "      <th>Grade</th>\n",
       "    </tr>\n",
       "  </thead>\n",
       "  <tbody>\n",
       "    <tr>\n",
       "      <th>0</th>\n",
       "      <td>0.2</td>\n",
       "      <td>3rd class</td>\n",
       "    </tr>\n",
       "    <tr>\n",
       "      <th>1</th>\n",
       "      <td>0.4</td>\n",
       "      <td>4th class</td>\n",
       "    </tr>\n",
       "    <tr>\n",
       "      <th>2</th>\n",
       "      <td>0.6</td>\n",
       "      <td>5th class</td>\n",
       "    </tr>\n",
       "    <tr>\n",
       "      <th>3</th>\n",
       "      <td>0.8</td>\n",
       "      <td>5.0</td>\n",
       "    </tr>\n",
       "    <tr>\n",
       "      <th>4</th>\n",
       "      <td>1.0</td>\n",
       "      <td>5.1</td>\n",
       "    </tr>\n",
       "    <tr>\n",
       "      <th>5</th>\n",
       "      <td>2.0</td>\n",
       "      <td>5.2</td>\n",
       "    </tr>\n",
       "    <tr>\n",
       "      <th>6</th>\n",
       "      <td>3.0</td>\n",
       "      <td>5.3</td>\n",
       "    </tr>\n",
       "    <tr>\n",
       "      <th>7</th>\n",
       "      <td>4.0</td>\n",
       "      <td>5.4</td>\n",
       "    </tr>\n",
       "    <tr>\n",
       "      <th>8</th>\n",
       "      <td>5.0</td>\n",
       "      <td>5.5</td>\n",
       "    </tr>\n",
       "    <tr>\n",
       "      <th>9</th>\n",
       "      <td>6.0</td>\n",
       "      <td>5.6</td>\n",
       "    </tr>\n",
       "    <tr>\n",
       "      <th>10</th>\n",
       "      <td>7.0</td>\n",
       "      <td>5.7</td>\n",
       "    </tr>\n",
       "    <tr>\n",
       "      <th>11</th>\n",
       "      <td>8.0</td>\n",
       "      <td>5.8</td>\n",
       "    </tr>\n",
       "    <tr>\n",
       "      <th>12</th>\n",
       "      <td>9.0</td>\n",
       "      <td>5.9</td>\n",
       "    </tr>\n",
       "    <tr>\n",
       "      <th>13</th>\n",
       "      <td>10.0</td>\n",
       "      <td>5.10a</td>\n",
       "    </tr>\n",
       "    <tr>\n",
       "      <th>14</th>\n",
       "      <td>11.0</td>\n",
       "      <td>5.10b</td>\n",
       "    </tr>\n",
       "    <tr>\n",
       "      <th>15</th>\n",
       "      <td>12.0</td>\n",
       "      <td>5.10c</td>\n",
       "    </tr>\n",
       "    <tr>\n",
       "      <th>16</th>\n",
       "      <td>13.0</td>\n",
       "      <td>5.10d</td>\n",
       "    </tr>\n",
       "    <tr>\n",
       "      <th>17</th>\n",
       "      <td>14.0</td>\n",
       "      <td>5.11a</td>\n",
       "    </tr>\n",
       "    <tr>\n",
       "      <th>18</th>\n",
       "      <td>15.0</td>\n",
       "      <td>5.11b</td>\n",
       "    </tr>\n",
       "    <tr>\n",
       "      <th>19</th>\n",
       "      <td>16.0</td>\n",
       "      <td>5.11c</td>\n",
       "    </tr>\n",
       "    <tr>\n",
       "      <th>20</th>\n",
       "      <td>17.0</td>\n",
       "      <td>5.11d</td>\n",
       "    </tr>\n",
       "    <tr>\n",
       "      <th>21</th>\n",
       "      <td>18.0</td>\n",
       "      <td>5.12a</td>\n",
       "    </tr>\n",
       "    <tr>\n",
       "      <th>22</th>\n",
       "      <td>19.0</td>\n",
       "      <td>5.12b</td>\n",
       "    </tr>\n",
       "    <tr>\n",
       "      <th>23</th>\n",
       "      <td>20.0</td>\n",
       "      <td>5.12c</td>\n",
       "    </tr>\n",
       "    <tr>\n",
       "      <th>24</th>\n",
       "      <td>21.0</td>\n",
       "      <td>5.12d</td>\n",
       "    </tr>\n",
       "    <tr>\n",
       "      <th>25</th>\n",
       "      <td>22.0</td>\n",
       "      <td>5.13a</td>\n",
       "    </tr>\n",
       "    <tr>\n",
       "      <th>26</th>\n",
       "      <td>23.0</td>\n",
       "      <td>5.13b</td>\n",
       "    </tr>\n",
       "    <tr>\n",
       "      <th>27</th>\n",
       "      <td>24.0</td>\n",
       "      <td>5.13c</td>\n",
       "    </tr>\n",
       "    <tr>\n",
       "      <th>28</th>\n",
       "      <td>25.0</td>\n",
       "      <td>5.13d</td>\n",
       "    </tr>\n",
       "    <tr>\n",
       "      <th>29</th>\n",
       "      <td>26.0</td>\n",
       "      <td>5.14a</td>\n",
       "    </tr>\n",
       "    <tr>\n",
       "      <th>30</th>\n",
       "      <td>27.0</td>\n",
       "      <td>5.14b</td>\n",
       "    </tr>\n",
       "    <tr>\n",
       "      <th>31</th>\n",
       "      <td>28.0</td>\n",
       "      <td>5.14c</td>\n",
       "    </tr>\n",
       "    <tr>\n",
       "      <th>32</th>\n",
       "      <td>29.0</td>\n",
       "      <td>5.14d</td>\n",
       "    </tr>\n",
       "    <tr>\n",
       "      <th>33</th>\n",
       "      <td>30.0</td>\n",
       "      <td>5.15a</td>\n",
       "    </tr>\n",
       "    <tr>\n",
       "      <th>34</th>\n",
       "      <td>31.0</td>\n",
       "      <td>5.15b</td>\n",
       "    </tr>\n",
       "    <tr>\n",
       "      <th>35</th>\n",
       "      <td>32.0</td>\n",
       "      <td>5.15c</td>\n",
       "    </tr>\n",
       "    <tr>\n",
       "      <th>36</th>\n",
       "      <td>33.0</td>\n",
       "      <td>5.15d</td>\n",
       "    </tr>\n",
       "  </tbody>\n",
       "</table>\n",
       "</div>"
      ],
      "text/plain": [
       "    Numerical Value      Grade\n",
       "0               0.2  3rd class\n",
       "1               0.4  4th class\n",
       "2               0.6  5th class\n",
       "3               0.8        5.0\n",
       "4               1.0        5.1\n",
       "5               2.0        5.2\n",
       "6               3.0        5.3\n",
       "7               4.0        5.4\n",
       "8               5.0        5.5\n",
       "9               6.0        5.6\n",
       "10              7.0        5.7\n",
       "11              8.0        5.8\n",
       "12              9.0        5.9\n",
       "13             10.0      5.10a\n",
       "14             11.0      5.10b\n",
       "15             12.0      5.10c\n",
       "16             13.0      5.10d\n",
       "17             14.0      5.11a\n",
       "18             15.0      5.11b\n",
       "19             16.0      5.11c\n",
       "20             17.0      5.11d\n",
       "21             18.0      5.12a\n",
       "22             19.0      5.12b\n",
       "23             20.0      5.12c\n",
       "24             21.0      5.12d\n",
       "25             22.0      5.13a\n",
       "26             23.0      5.13b\n",
       "27             24.0      5.13c\n",
       "28             25.0      5.13d\n",
       "29             26.0      5.14a\n",
       "30             27.0      5.14b\n",
       "31             28.0      5.14c\n",
       "32             29.0      5.14d\n",
       "33             30.0      5.15a\n",
       "34             31.0      5.15b\n",
       "35             32.0      5.15c\n",
       "36             33.0      5.15d"
      ]
     },
     "execution_count": 76,
     "metadata": {},
     "output_type": "execute_result"
    }
   ],
   "source": [
    "df_table"
   ]
  }
 ],
 "metadata": {
  "kernelspec": {
   "display_name": "Python 3",
   "language": "python",
   "name": "python3"
  },
  "language_info": {
   "codemirror_mode": {
    "name": "ipython",
    "version": 3
   },
   "file_extension": ".py",
   "mimetype": "text/x-python",
   "name": "python",
   "nbconvert_exporter": "python",
   "pygments_lexer": "ipython3",
   "version": "3.6.13"
  },
  "toc": {
   "base_numbering": 1,
   "nav_menu": {},
   "number_sections": true,
   "sideBar": true,
   "skip_h1_title": false,
   "title_cell": "Table of Contents",
   "title_sidebar": "Contents",
   "toc_cell": false,
   "toc_position": {},
   "toc_section_display": true,
   "toc_window_display": false
  },
  "varInspector": {
   "cols": {
    "lenName": 16,
    "lenType": 16,
    "lenVar": 40
   },
   "kernels_config": {
    "python": {
     "delete_cmd_postfix": "",
     "delete_cmd_prefix": "del ",
     "library": "var_list.py",
     "varRefreshCmd": "print(var_dic_list())"
    },
    "r": {
     "delete_cmd_postfix": ") ",
     "delete_cmd_prefix": "rm(",
     "library": "var_list.r",
     "varRefreshCmd": "cat(var_dic_list()) "
    }
   },
   "types_to_exclude": [
    "module",
    "function",
    "builtin_function_or_method",
    "instance",
    "_Feature"
   ],
   "window_display": false
  }
 },
 "nbformat": 4,
 "nbformat_minor": 5
}
