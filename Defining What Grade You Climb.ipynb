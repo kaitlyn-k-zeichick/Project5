{
 "cells": [
  {
   "cell_type": "code",
   "execution_count": 355,
   "id": "unavailable-moment",
   "metadata": {
    "ExecuteTime": {
     "end_time": "2021-03-15T22:29:51.224347Z",
     "start_time": "2021-03-15T22:29:51.220832Z"
    }
   },
   "outputs": [],
   "source": [
    "import seaborn as sns\n",
    "\n",
    "from matplotlib import pyplot\n",
    "\n",
    "import statistics\n",
    "\n",
    "from statistics import mean\n",
    "\n",
    "import pandas as pd\n",
    "\n",
    "import re"
   ]
  },
  {
   "cell_type": "code",
   "execution_count": 147,
   "id": "synthetic-grace",
   "metadata": {
    "ExecuteTime": {
     "end_time": "2021-03-15T18:16:06.956085Z",
     "start_time": "2021-03-15T18:16:06.464625Z"
    }
   },
   "outputs": [],
   "source": [
    "df_sport = pd.read_csv('sport_preprocessed.csv')"
   ]
  },
  {
   "cell_type": "code",
   "execution_count": 148,
   "id": "synthetic-military",
   "metadata": {
    "ExecuteTime": {
     "end_time": "2021-03-15T18:16:07.128018Z",
     "start_time": "2021-03-15T18:16:07.110634Z"
    }
   },
   "outputs": [
    {
     "data": {
      "text/html": [
       "<div>\n",
       "<style scoped>\n",
       "    .dataframe tbody tr th:only-of-type {\n",
       "        vertical-align: middle;\n",
       "    }\n",
       "\n",
       "    .dataframe tbody tr th {\n",
       "        vertical-align: top;\n",
       "    }\n",
       "\n",
       "    .dataframe thead th {\n",
       "        text-align: right;\n",
       "    }\n",
       "</style>\n",
       "<table border=\"1\" class=\"dataframe\">\n",
       "  <thead>\n",
       "    <tr style=\"text-align: right;\">\n",
       "      <th></th>\n",
       "      <th>Date</th>\n",
       "      <th>Name</th>\n",
       "      <th>Month</th>\n",
       "      <th>month_year</th>\n",
       "      <th>Gender</th>\n",
       "      <th>Age</th>\n",
       "      <th>Rating</th>\n",
       "      <th>Style</th>\n",
       "      <th>Lead Style</th>\n",
       "      <th>Pitches</th>\n",
       "      <th>Sport Leads</th>\n",
       "      <th>Sport Follows</th>\n",
       "      <th>numerical_difficulty</th>\n",
       "      <th>max_month</th>\n",
       "      <th>avg_month</th>\n",
       "      <th>sport_ticks_this_month</th>\n",
       "    </tr>\n",
       "  </thead>\n",
       "  <tbody>\n",
       "    <tr>\n",
       "      <th>0</th>\n",
       "      <td>2020-12-19</td>\n",
       "      <td>Aidan Shelburne</td>\n",
       "      <td>12</td>\n",
       "      <td>2020-12</td>\n",
       "      <td>Male</td>\n",
       "      <td>21.0</td>\n",
       "      <td>5.11b</td>\n",
       "      <td>TR</td>\n",
       "      <td>NaN</td>\n",
       "      <td>1.0</td>\n",
       "      <td>5.11a</td>\n",
       "      <td>5.11d</td>\n",
       "      <td>15.0</td>\n",
       "      <td>15.0</td>\n",
       "      <td>15.00</td>\n",
       "      <td>1</td>\n",
       "    </tr>\n",
       "    <tr>\n",
       "      <th>1</th>\n",
       "      <td>2020-08-06</td>\n",
       "      <td>Aidan Shelburne</td>\n",
       "      <td>8</td>\n",
       "      <td>2020-08</td>\n",
       "      <td>Male</td>\n",
       "      <td>21.0</td>\n",
       "      <td>5.11a</td>\n",
       "      <td>Lead</td>\n",
       "      <td>Onsight</td>\n",
       "      <td>1.0</td>\n",
       "      <td>5.11a</td>\n",
       "      <td>5.11d</td>\n",
       "      <td>14.0</td>\n",
       "      <td>14.0</td>\n",
       "      <td>11.75</td>\n",
       "      <td>4</td>\n",
       "    </tr>\n",
       "    <tr>\n",
       "      <th>2</th>\n",
       "      <td>2020-08-06</td>\n",
       "      <td>Aidan Shelburne</td>\n",
       "      <td>8</td>\n",
       "      <td>2020-08</td>\n",
       "      <td>Male</td>\n",
       "      <td>21.0</td>\n",
       "      <td>5.10a</td>\n",
       "      <td>Lead</td>\n",
       "      <td>NaN</td>\n",
       "      <td>1.0</td>\n",
       "      <td>5.11a</td>\n",
       "      <td>5.11d</td>\n",
       "      <td>10.0</td>\n",
       "      <td>14.0</td>\n",
       "      <td>11.75</td>\n",
       "      <td>4</td>\n",
       "    </tr>\n",
       "    <tr>\n",
       "      <th>3</th>\n",
       "      <td>2020-08-06</td>\n",
       "      <td>Aidan Shelburne</td>\n",
       "      <td>8</td>\n",
       "      <td>2020-08</td>\n",
       "      <td>Male</td>\n",
       "      <td>21.0</td>\n",
       "      <td>5.10</td>\n",
       "      <td>Lead</td>\n",
       "      <td>NaN</td>\n",
       "      <td>1.0</td>\n",
       "      <td>5.11a</td>\n",
       "      <td>5.11d</td>\n",
       "      <td>11.5</td>\n",
       "      <td>14.0</td>\n",
       "      <td>11.75</td>\n",
       "      <td>4</td>\n",
       "    </tr>\n",
       "    <tr>\n",
       "      <th>4</th>\n",
       "      <td>2020-08-06</td>\n",
       "      <td>Aidan Shelburne</td>\n",
       "      <td>8</td>\n",
       "      <td>2020-08</td>\n",
       "      <td>Male</td>\n",
       "      <td>21.0</td>\n",
       "      <td>5.10</td>\n",
       "      <td>Lead</td>\n",
       "      <td>NaN</td>\n",
       "      <td>1.0</td>\n",
       "      <td>5.11a</td>\n",
       "      <td>5.11d</td>\n",
       "      <td>11.5</td>\n",
       "      <td>14.0</td>\n",
       "      <td>11.75</td>\n",
       "      <td>4</td>\n",
       "    </tr>\n",
       "  </tbody>\n",
       "</table>\n",
       "</div>"
      ],
      "text/plain": [
       "         Date             Name  Month month_year Gender   Age Rating Style  \\\n",
       "0  2020-12-19  Aidan Shelburne     12    2020-12   Male  21.0  5.11b    TR   \n",
       "1  2020-08-06  Aidan Shelburne      8    2020-08   Male  21.0  5.11a  Lead   \n",
       "2  2020-08-06  Aidan Shelburne      8    2020-08   Male  21.0  5.10a  Lead   \n",
       "3  2020-08-06  Aidan Shelburne      8    2020-08   Male  21.0   5.10  Lead   \n",
       "4  2020-08-06  Aidan Shelburne      8    2020-08   Male  21.0   5.10  Lead   \n",
       "\n",
       "  Lead Style  Pitches Sport Leads Sport Follows  numerical_difficulty  \\\n",
       "0        NaN      1.0       5.11a         5.11d                  15.0   \n",
       "1    Onsight      1.0       5.11a         5.11d                  14.0   \n",
       "2        NaN      1.0       5.11a         5.11d                  10.0   \n",
       "3        NaN      1.0       5.11a         5.11d                  11.5   \n",
       "4        NaN      1.0       5.11a         5.11d                  11.5   \n",
       "\n",
       "   max_month  avg_month  sport_ticks_this_month  \n",
       "0       15.0      15.00                       1  \n",
       "1       14.0      11.75                       4  \n",
       "2       14.0      11.75                       4  \n",
       "3       14.0      11.75                       4  \n",
       "4       14.0      11.75                       4  "
      ]
     },
     "execution_count": 148,
     "metadata": {},
     "output_type": "execute_result"
    }
   ],
   "source": [
    "df_sport.head()"
   ]
  },
  {
   "cell_type": "code",
   "execution_count": 149,
   "id": "fossil-closing",
   "metadata": {
    "ExecuteTime": {
     "end_time": "2021-03-15T18:16:07.319099Z",
     "start_time": "2021-03-15T18:16:07.298467Z"
    }
   },
   "outputs": [],
   "source": [
    "def numerical_difficulty(row):\n",
    "    \"\"\"\n",
    "    Integer to represent general climbing difficulty.\n",
    "    \"\"\"\n",
    "    #if type(row) == str:\n",
    "    grade = str(row)\n",
    "    if (re.search('5.15d', grade)):\n",
    "        difficulty = 33\n",
    "    elif (re.search('5.15c', grade)):\n",
    "        difficulty = 32      \n",
    "    elif (re.search('5.15b', grade)):\n",
    "        difficulty = 31\n",
    "    elif (re.search('5.15a', grade)):\n",
    "        difficulty = 30\n",
    "    elif (re.search('5.15\\\\+', grade)):\n",
    "        difficulty = 32.5\n",
    "    elif (re.search('5.15\\\\-', grade)):\n",
    "        difficulty = 30.5\n",
    "    elif (re.search('5.15', grade)):\n",
    "        difficulty = 31.5 \n",
    "          \n",
    "    elif (re.search('5.14d', grade)):\n",
    "        difficulty = 29\n",
    "    elif (re.search('5.14c', grade)):\n",
    "        difficulty = 28\n",
    "    elif (re.search('5.14b', grade)):\n",
    "        difficulty = 27\n",
    "    elif (re.search('5.14a', grade)):\n",
    "        difficulty = 26\n",
    "    elif (re.search('5.14\\\\+', grade)):\n",
    "        difficulty = 28.5  \n",
    "    elif (re.search('5.14\\\\-', grade)):\n",
    "        difficulty = 26.5 \n",
    "    elif (re.search('5.14', grade)):\n",
    "        difficulty = 27.5 \n",
    "          \n",
    "    elif (re.search('5.13d', grade)):\n",
    "        difficulty = 25\n",
    "    elif (re.search('5.13c', grade)):\n",
    "        difficulty = 24\n",
    "    elif (re.search('5.13b', grade)):\n",
    "        difficulty = 23\n",
    "    elif (re.search('5.13a', grade)):\n",
    "        difficulty = 22\n",
    "    elif (re.search('5.13\\\\+', grade)):\n",
    "        difficulty = 24.5  \n",
    "    elif (re.search('5.13\\\\-', grade)):\n",
    "        difficulty = 22.5  \n",
    "    elif (re.search('5.13', grade)):\n",
    "        difficulty = 23.5\n",
    "          \n",
    "    elif (re.search('5.12d', grade)):\n",
    "        difficulty = 21\n",
    "    elif (re.search('5.12c', grade)):\n",
    "        difficulty = 20\n",
    "    elif (re.search('5.12b', grade)):\n",
    "        difficulty = 19\n",
    "    elif (re.search('5.12a', grade)):\n",
    "        difficulty = 18\n",
    "    elif (re.search('5.12\\\\+', grade)):\n",
    "        difficulty = 20.5\n",
    "    elif (re.search('5.12\\\\-', grade)):\n",
    "        difficulty = 18.5\n",
    "    elif (re.search('5.12', grade)):\n",
    "        difficulty =  19.5\n",
    "          \n",
    "    elif (re.search('5.11d', grade)):\n",
    "        difficulty = 17\n",
    "    elif (re.search('5.11c', grade)):\n",
    "        difficulty = 16\n",
    "    elif (re.search('5.11b', grade)):\n",
    "        difficulty = 15\n",
    "    elif (re.search('5.11a', grade)):\n",
    "        difficulty = 14\n",
    "    elif (re.search('5.11\\\\+', grade)):\n",
    "        difficulty = 16.5\n",
    "    elif (re.search('5.11\\\\-', grade)):\n",
    "        difficulty = 14.5\n",
    "    elif (re.search('5.11', grade)):\n",
    "        difficulty =  15.5\n",
    "\n",
    "    elif (re.search('5.10d', grade)):\n",
    "        difficulty = 13\n",
    "    elif (re.search('5.10c', grade)):\n",
    "        difficulty = 12\n",
    "    elif (re.search('5.10b', grade)):\n",
    "        difficulty = 11\n",
    "    elif (re.search('5.10a', grade)):\n",
    "        difficulty = 10\n",
    "    elif (re.search('5.10\\\\-', grade)):\n",
    "        difficulty = 10.5 \n",
    "    elif (re.search('5.10\\\\+', grade)):\n",
    "        difficulty = 12.5 \n",
    "    elif (re.search('5.10', grade)):\n",
    "        difficulty =  11.5\n",
    "\n",
    "          \n",
    "    elif (re.search('5.9', grade)):\n",
    "        difficulty = 9 \n",
    "    elif (re.search('5.8', grade)):\n",
    "        difficulty = 8           \n",
    "    elif (re.search('5.7', grade)):\n",
    "        difficulty = 7           \n",
    "    elif (re.search('5.6', grade)):\n",
    "        difficulty = 6    \n",
    "    elif (re.search('5.5', grade)):\n",
    "        difficulty = 5           \n",
    "    elif (re.search('5.4', grade)):\n",
    "        difficulty = 4         \n",
    "    elif (re.search('5.3', grade)):\n",
    "        difficulty = 3           \n",
    "    elif (re.search('5.2', grade)):\n",
    "        difficulty = 2           \n",
    "    elif (re.search('5.1', grade)):\n",
    "        difficulty = 1           \n",
    "    elif (re.search('5.0', grade)):\n",
    "        difficulty = .8          \n",
    "    elif (re.search('5th', grade)):\n",
    "        difficulty = .6          \n",
    "    elif (re.search('4th', grade)):\n",
    "        difficulty = .4           \n",
    "    elif (re.search('3rd', grade)):\n",
    "        difficulty = .2 \n",
    "    else: \n",
    "          difficulty = 0\n",
    "    return difficulty\n"
   ]
  },
  {
   "cell_type": "code",
   "execution_count": 150,
   "id": "collected-pressing",
   "metadata": {
    "ExecuteTime": {
     "end_time": "2021-03-15T18:16:12.496093Z",
     "start_time": "2021-03-15T18:16:07.466043Z"
    }
   },
   "outputs": [],
   "source": [
    "df_sport['numerical_lead'] = df_sport['Sport Leads'].apply(lambda row: numerical_difficulty(row))\n"
   ]
  },
  {
   "cell_type": "code",
   "execution_count": 151,
   "id": "union-dispatch",
   "metadata": {
    "ExecuteTime": {
     "end_time": "2021-03-15T18:16:17.516054Z",
     "start_time": "2021-03-15T18:16:12.653240Z"
    }
   },
   "outputs": [],
   "source": [
    "df_sport['numerical_follow'] = df_sport['Sport Follows'].apply(lambda row: numerical_difficulty(row))\n"
   ]
  },
  {
   "cell_type": "code",
   "execution_count": 152,
   "id": "decreased-quarterly",
   "metadata": {
    "ExecuteTime": {
     "end_time": "2021-03-15T18:16:17.800983Z",
     "start_time": "2021-03-15T18:16:17.743870Z"
    }
   },
   "outputs": [
    {
     "data": {
      "text/html": [
       "<div>\n",
       "<style scoped>\n",
       "    .dataframe tbody tr th:only-of-type {\n",
       "        vertical-align: middle;\n",
       "    }\n",
       "\n",
       "    .dataframe tbody tr th {\n",
       "        vertical-align: top;\n",
       "    }\n",
       "\n",
       "    .dataframe thead th {\n",
       "        text-align: right;\n",
       "    }\n",
       "</style>\n",
       "<table border=\"1\" class=\"dataframe\">\n",
       "  <thead>\n",
       "    <tr style=\"text-align: right;\">\n",
       "      <th></th>\n",
       "      <th>Date</th>\n",
       "      <th>Name</th>\n",
       "      <th>Month</th>\n",
       "      <th>month_year</th>\n",
       "      <th>Gender</th>\n",
       "      <th>Age</th>\n",
       "      <th>Rating</th>\n",
       "      <th>Style</th>\n",
       "      <th>Lead Style</th>\n",
       "      <th>Pitches</th>\n",
       "      <th>Sport Leads</th>\n",
       "      <th>Sport Follows</th>\n",
       "      <th>numerical_difficulty</th>\n",
       "      <th>max_month</th>\n",
       "      <th>avg_month</th>\n",
       "      <th>sport_ticks_this_month</th>\n",
       "      <th>numerical_lead</th>\n",
       "      <th>numerical_follow</th>\n",
       "    </tr>\n",
       "  </thead>\n",
       "  <tbody>\n",
       "    <tr>\n",
       "      <th>214838</th>\n",
       "      <td>2014-11-17</td>\n",
       "      <td>Steve Wheeler</td>\n",
       "      <td>11</td>\n",
       "      <td>2014-11</td>\n",
       "      <td>Male</td>\n",
       "      <td>33.0</td>\n",
       "      <td>5.9</td>\n",
       "      <td>NaN</td>\n",
       "      <td>NaN</td>\n",
       "      <td>1.0</td>\n",
       "      <td>5.12c</td>\n",
       "      <td>5.12c</td>\n",
       "      <td>9.0</td>\n",
       "      <td>18.0</td>\n",
       "      <td>11.530928</td>\n",
       "      <td>97</td>\n",
       "      <td>20.0</td>\n",
       "      <td>20.0</td>\n",
       "    </tr>\n",
       "    <tr>\n",
       "      <th>169570</th>\n",
       "      <td>2011-05-23</td>\n",
       "      <td>C Hopwood</td>\n",
       "      <td>5</td>\n",
       "      <td>2011-05</td>\n",
       "      <td>Male</td>\n",
       "      <td>33.0</td>\n",
       "      <td>5.9+</td>\n",
       "      <td>NaN</td>\n",
       "      <td>NaN</td>\n",
       "      <td>1.0</td>\n",
       "      <td>5.13a</td>\n",
       "      <td>5.13a</td>\n",
       "      <td>9.0</td>\n",
       "      <td>15.0</td>\n",
       "      <td>10.517857</td>\n",
       "      <td>28</td>\n",
       "      <td>22.0</td>\n",
       "      <td>22.0</td>\n",
       "    </tr>\n",
       "    <tr>\n",
       "      <th>113022</th>\n",
       "      <td>2020-05-23</td>\n",
       "      <td>Tommy Paz</td>\n",
       "      <td>5</td>\n",
       "      <td>2020-05</td>\n",
       "      <td>Male</td>\n",
       "      <td>26.0</td>\n",
       "      <td>5.7</td>\n",
       "      <td>Lead</td>\n",
       "      <td>NaN</td>\n",
       "      <td>1.0</td>\n",
       "      <td>5.10d</td>\n",
       "      <td>5.10d</td>\n",
       "      <td>7.0</td>\n",
       "      <td>14.0</td>\n",
       "      <td>8.555556</td>\n",
       "      <td>18</td>\n",
       "      <td>13.0</td>\n",
       "      <td>13.0</td>\n",
       "    </tr>\n",
       "    <tr>\n",
       "      <th>210773</th>\n",
       "      <td>2017-07-01</td>\n",
       "      <td>Jake Tomlitz</td>\n",
       "      <td>7</td>\n",
       "      <td>2017-07</td>\n",
       "      <td>Male</td>\n",
       "      <td>31.0</td>\n",
       "      <td>5.10d</td>\n",
       "      <td>TR</td>\n",
       "      <td>NaN</td>\n",
       "      <td>1.0</td>\n",
       "      <td>5.12a</td>\n",
       "      <td>5.12b</td>\n",
       "      <td>13.0</td>\n",
       "      <td>13.0</td>\n",
       "      <td>9.000000</td>\n",
       "      <td>5</td>\n",
       "      <td>18.0</td>\n",
       "      <td>19.0</td>\n",
       "    </tr>\n",
       "    <tr>\n",
       "      <th>185168</th>\n",
       "      <td>2014-04-08</td>\n",
       "      <td>Aaron Shields</td>\n",
       "      <td>4</td>\n",
       "      <td>2014-04</td>\n",
       "      <td>Male</td>\n",
       "      <td>36.0</td>\n",
       "      <td>5.10a</td>\n",
       "      <td>NaN</td>\n",
       "      <td>NaN</td>\n",
       "      <td>1.0</td>\n",
       "      <td>5.10d</td>\n",
       "      <td>5.11b</td>\n",
       "      <td>10.0</td>\n",
       "      <td>10.0</td>\n",
       "      <td>7.666667</td>\n",
       "      <td>3</td>\n",
       "      <td>13.0</td>\n",
       "      <td>15.0</td>\n",
       "    </tr>\n",
       "  </tbody>\n",
       "</table>\n",
       "</div>"
      ],
      "text/plain": [
       "              Date           Name  Month month_year Gender   Age Rating Style  \\\n",
       "214838  2014-11-17  Steve Wheeler     11    2014-11   Male  33.0    5.9   NaN   \n",
       "169570  2011-05-23      C Hopwood      5    2011-05   Male  33.0   5.9+   NaN   \n",
       "113022  2020-05-23      Tommy Paz      5    2020-05   Male  26.0    5.7  Lead   \n",
       "210773  2017-07-01   Jake Tomlitz      7    2017-07   Male  31.0  5.10d    TR   \n",
       "185168  2014-04-08  Aaron Shields      4    2014-04   Male  36.0  5.10a   NaN   \n",
       "\n",
       "       Lead Style  Pitches Sport Leads Sport Follows  numerical_difficulty  \\\n",
       "214838        NaN      1.0       5.12c         5.12c                   9.0   \n",
       "169570        NaN      1.0       5.13a         5.13a                   9.0   \n",
       "113022        NaN      1.0       5.10d         5.10d                   7.0   \n",
       "210773        NaN      1.0       5.12a         5.12b                  13.0   \n",
       "185168        NaN      1.0       5.10d         5.11b                  10.0   \n",
       "\n",
       "        max_month  avg_month  sport_ticks_this_month  numerical_lead  \\\n",
       "214838       18.0  11.530928                      97            20.0   \n",
       "169570       15.0  10.517857                      28            22.0   \n",
       "113022       14.0   8.555556                      18            13.0   \n",
       "210773       13.0   9.000000                       5            18.0   \n",
       "185168       10.0   7.666667                       3            13.0   \n",
       "\n",
       "        numerical_follow  \n",
       "214838              20.0  \n",
       "169570              22.0  \n",
       "113022              13.0  \n",
       "210773              19.0  \n",
       "185168              15.0  "
      ]
     },
     "execution_count": 152,
     "metadata": {},
     "output_type": "execute_result"
    }
   ],
   "source": [
    "df_sport.sample(5)"
   ]
  },
  {
   "cell_type": "code",
   "execution_count": 153,
   "id": "protected-reception",
   "metadata": {
    "ExecuteTime": {
     "end_time": "2021-03-15T18:16:18.032101Z",
     "start_time": "2021-03-15T18:16:18.018056Z"
    },
    "scrolled": true
   },
   "outputs": [
    {
     "data": {
      "text/plain": [
       "Date                       object\n",
       "Name                       object\n",
       "Month                       int64\n",
       "month_year                 object\n",
       "Gender                     object\n",
       "Age                       float64\n",
       "Rating                     object\n",
       "Style                      object\n",
       "Lead Style                 object\n",
       "Pitches                   float64\n",
       "Sport Leads                object\n",
       "Sport Follows              object\n",
       "numerical_difficulty      float64\n",
       "max_month                 float64\n",
       "avg_month                 float64\n",
       "sport_ticks_this_month      int64\n",
       "numerical_lead            float64\n",
       "numerical_follow          float64\n",
       "dtype: object"
      ]
     },
     "execution_count": 153,
     "metadata": {},
     "output_type": "execute_result"
    }
   ],
   "source": [
    "df_sport.dtypes"
   ]
  },
  {
   "cell_type": "code",
   "execution_count": 154,
   "id": "announced-geneva",
   "metadata": {
    "ExecuteTime": {
     "end_time": "2021-03-15T18:16:18.296067Z",
     "start_time": "2021-03-15T18:16:18.284891Z"
    }
   },
   "outputs": [
    {
     "data": {
      "text/plain": [
       "0     14.0\n",
       "1     14.0\n",
       "2     14.0\n",
       "3     14.0\n",
       "4     14.0\n",
       "5     14.0\n",
       "6     14.0\n",
       "7     14.0\n",
       "8     14.0\n",
       "9     14.0\n",
       "10    14.0\n",
       "11    20.0\n",
       "12    20.0\n",
       "13    20.0\n",
       "14    20.0\n",
       "15    20.0\n",
       "16    20.0\n",
       "17    20.0\n",
       "18    20.0\n",
       "19    20.0\n",
       "Name: numerical_lead, dtype: float64"
      ]
     },
     "execution_count": 154,
     "metadata": {},
     "output_type": "execute_result"
    }
   ],
   "source": [
    "df_sport.numerical_lead.head(20)"
   ]
  },
  {
   "cell_type": "code",
   "execution_count": 155,
   "id": "ethical-forty",
   "metadata": {
    "ExecuteTime": {
     "end_time": "2021-03-15T18:16:20.923734Z",
     "start_time": "2021-03-15T18:16:20.882990Z"
    }
   },
   "outputs": [],
   "source": [
    "# Remove difficulties that are 'unknown', defined as 0 in my function.\n",
    "df_sport = df_sport[df_sport['numerical_lead'] > 0]"
   ]
  },
  {
   "cell_type": "code",
   "execution_count": 156,
   "id": "motivated-suspension",
   "metadata": {
    "ExecuteTime": {
     "end_time": "2021-03-15T18:16:21.118507Z",
     "start_time": "2021-03-15T18:16:21.110942Z"
    }
   },
   "outputs": [
    {
     "data": {
      "text/plain": [
       "0    14.0\n",
       "1    14.0\n",
       "2    14.0\n",
       "3    14.0\n",
       "4    14.0\n",
       "Name: numerical_lead, dtype: float64"
      ]
     },
     "execution_count": 156,
     "metadata": {},
     "output_type": "execute_result"
    }
   ],
   "source": [
    "df_sport.numerical_lead.head(5)"
   ]
  },
  {
   "cell_type": "code",
   "execution_count": 157,
   "id": "roman-insert",
   "metadata": {
    "ExecuteTime": {
     "end_time": "2021-03-15T18:16:21.360088Z",
     "start_time": "2021-03-15T18:16:21.348059Z"
    }
   },
   "outputs": [
    {
     "data": {
      "text/plain": [
       "array([14. , 20. , 24. ,  9. , 11. , 18. ,  0.4, 16. ,  0.2, 10. , 13. ,\n",
       "       21. , 22. , 19. , 12. , 17. , 15. , 23. ,  7. ,  8. ,  4. ,  6. ,\n",
       "        0.8, 26. , 28. , 27. , 25. ,  2. , 29. ,  5. , 33. ,  1. ,  3. ])"
      ]
     },
     "execution_count": 157,
     "metadata": {},
     "output_type": "execute_result"
    }
   ],
   "source": [
    "df_sport.numerical_lead.unique()"
   ]
  },
  {
   "cell_type": "markdown",
   "id": "comparative-franchise",
   "metadata": {},
   "source": [
    "# Men"
   ]
  },
  {
   "cell_type": "code",
   "execution_count": 158,
   "id": "political-gardening",
   "metadata": {
    "ExecuteTime": {
     "end_time": "2021-03-15T18:16:21.703438Z",
     "start_time": "2021-03-15T18:16:21.643093Z"
    }
   },
   "outputs": [],
   "source": [
    "# Make a df of just males\n",
    "df_male = df_sport[df_sport['Gender'] == 'Male']"
   ]
  },
  {
   "cell_type": "code",
   "execution_count": 159,
   "id": "elect-college",
   "metadata": {
    "ExecuteTime": {
     "end_time": "2021-03-15T18:16:22.511323Z",
     "start_time": "2021-03-15T18:16:22.481477Z"
    }
   },
   "outputs": [],
   "source": [
    "# Make a df of just male users with their lead ticks\n",
    "df_male_lead = df_male[df_male['Style'] == 'Lead']"
   ]
  },
  {
   "cell_type": "code",
   "execution_count": 160,
   "id": "discrete-schema",
   "metadata": {
    "ExecuteTime": {
     "end_time": "2021-03-15T18:16:22.911726Z",
     "start_time": "2021-03-15T18:16:22.907974Z"
    }
   },
   "outputs": [
    {
     "data": {
      "text/plain": [
       "(91421, 18)"
      ]
     },
     "execution_count": 160,
     "metadata": {},
     "output_type": "execute_result"
    }
   ],
   "source": [
    "df_male_lead.shape"
   ]
  },
  {
   "cell_type": "code",
   "execution_count": 161,
   "id": "verbal-hardware",
   "metadata": {
    "ExecuteTime": {
     "end_time": "2021-03-15T18:16:23.361026Z",
     "start_time": "2021-03-15T18:16:23.347438Z"
    }
   },
   "outputs": [],
   "source": [
    "# Get a list of the unique names\n",
    "names = df_male_lead.Name.unique()"
   ]
  },
  {
   "cell_type": "code",
   "execution_count": 162,
   "id": "wireless-cooking",
   "metadata": {
    "ExecuteTime": {
     "end_time": "2021-03-15T18:16:23.785427Z",
     "start_time": "2021-03-15T18:16:23.779247Z"
    }
   },
   "outputs": [
    {
     "data": {
      "text/plain": [
       "1888"
      ]
     },
     "execution_count": 162,
     "metadata": {},
     "output_type": "execute_result"
    }
   ],
   "source": [
    "# Number of unique names\n",
    "len(names)"
   ]
  },
  {
   "cell_type": "code",
   "execution_count": 163,
   "id": "emerging-going",
   "metadata": {
    "ExecuteTime": {
     "end_time": "2021-03-15T18:16:44.026580Z",
     "start_time": "2021-03-15T18:16:24.340811Z"
    }
   },
   "outputs": [],
   "source": [
    "# Make a list of the number of ticks for each user that are above what they claim they can lead climb.\n",
    "count_above_lead = []\n",
    "for name in names:\n",
    "    df_male_lead[df_male_lead.Name == name]\n",
    "    count_above_lead.append(len(df_male_lead[(df_male_lead.Name == name) & (df_male_lead.numerical_difficulty >= df_male_lead.numerical_lead)]['numerical_difficulty']))\n",
    "    \n"
   ]
  },
  {
   "cell_type": "code",
   "execution_count": 166,
   "id": "hawaiian-opposition",
   "metadata": {
    "ExecuteTime": {
     "end_time": "2021-03-15T18:16:44.580663Z",
     "start_time": "2021-03-15T18:16:44.570702Z"
    }
   },
   "outputs": [
    {
     "data": {
      "text/plain": [
       "8.458686440677965"
      ]
     },
     "execution_count": 166,
     "metadata": {},
     "output_type": "execute_result"
    }
   ],
   "source": [
    "# Find the average number of lead climbing ticks someone has that are at or above \n",
    "# what they claim to lead climb.\n",
    "mean(count_above_lead)"
   ]
  },
  {
   "cell_type": "code",
   "execution_count": 167,
   "id": "facial-assumption",
   "metadata": {
    "ExecuteTime": {
     "end_time": "2021-03-15T18:16:44.784748Z",
     "start_time": "2021-03-15T18:16:44.776767Z"
    }
   },
   "outputs": [
    {
     "data": {
      "text/plain": [
       "28.826866347088167"
      ]
     },
     "execution_count": 167,
     "metadata": {},
     "output_type": "execute_result"
    }
   ],
   "source": [
    "statistics.stdev(count_above_lead)"
   ]
  },
  {
   "cell_type": "markdown",
   "id": "funky-circle",
   "metadata": {},
   "source": [
    "## By Grade"
   ]
  },
  {
   "cell_type": "code",
   "execution_count": 412,
   "id": "cloudy-appointment",
   "metadata": {
    "ExecuteTime": {
     "end_time": "2021-03-15T23:03:49.388035Z",
     "start_time": "2021-03-15T22:53:55.425000Z"
    }
   },
   "outputs": [],
   "source": [
    "# Get a list of the unique names\n",
    "names = df_male_lead.Name.unique()\n",
    "\n",
    "# Get the list of unique grades\n",
    "the_leads = df_male_lead['Sport Leads'].unique()\n",
    "\n",
    "lead_dict_full = {}\n",
    "lead_dict = {}\n",
    "for lead_grade in the_leads:\n",
    "    count_above_lead = []\n",
    "    for name in names:\n",
    "        if len(df_male_lead[(df_male_lead.Name == name) & (df_male_lead['Sport Leads'] == lead_grade)]) == 0:\n",
    "            x=0\n",
    "        else:\n",
    "            count_above_lead.append(len(df_male_lead[(df_male_lead.Name == name) & \n",
    "                                                       (df_male_lead['Sport Leads'] == lead_grade) &\n",
    "                                                       (df_male_lead.numerical_difficulty >= df_male_lead.numerical_lead)]['numerical_difficulty']))\n",
    "    lead_dict_full[lead_grade] = count_above_lead\n",
    "    lead_dict[lead_grade] = mean(count_above_lead)"
   ]
  },
  {
   "cell_type": "code",
   "execution_count": 417,
   "id": "organic-imaging",
   "metadata": {
    "ExecuteTime": {
     "end_time": "2021-03-15T23:08:34.748718Z",
     "start_time": "2021-03-15T23:08:34.739736Z"
    }
   },
   "outputs": [],
   "source": [
    "lead_dict_count = lead_dict_full.copy()"
   ]
  },
  {
   "cell_type": "code",
   "execution_count": 418,
   "id": "blocked-keyboard",
   "metadata": {
    "ExecuteTime": {
     "end_time": "2021-03-15T23:09:41.868856Z",
     "start_time": "2021-03-15T23:09:41.863957Z"
    }
   },
   "outputs": [],
   "source": [
    "for key in lead_dict_count:\n",
    "    lead_dict_count[key] = len(lead_dict_count[key])"
   ]
  },
  {
   "cell_type": "code",
   "execution_count": 420,
   "id": "attached-small",
   "metadata": {
    "ExecuteTime": {
     "end_time": "2021-03-15T23:10:15.924327Z",
     "start_time": "2021-03-15T23:10:15.920578Z"
    }
   },
   "outputs": [],
   "source": [
    "lead_dict_count_men = lead_dict_count.copy()"
   ]
  },
  {
   "cell_type": "code",
   "execution_count": 241,
   "id": "disabled-amazon",
   "metadata": {
    "ExecuteTime": {
     "end_time": "2021-03-15T20:56:52.876426Z",
     "start_time": "2021-03-15T20:56:52.861935Z"
    }
   },
   "outputs": [
    {
     "data": {
      "text/plain": [
       "{' 5.11a': 6.961538461538462,\n",
       " ' 5.12c': 6.883333333333334,\n",
       " ' 5.13c': 0.375,\n",
       " ' 5.12a': 7.581818181818182,\n",
       " ' 4th': 100,\n",
       " ' 5.11c': 4.733870967741935,\n",
       " ' 5.10b': 4.60431654676259,\n",
       " ' 5.10a': 6.757009345794392,\n",
       " ' 5.10d': 8.120567375886525,\n",
       " ' 5.12d': 8.642857142857142,\n",
       " ' 5.13a': 5.24,\n",
       " ' 5.12b': 6.561643835616438,\n",
       " ' 5.11d': 3.4404761904761907,\n",
       " ' 5.11b': 5.636363636363637,\n",
       " ' 5.10c': 4,\n",
       " ' 5.9': 6.723076923076923,\n",
       " ' 5.7': 33.2,\n",
       " ' 5.8': 5.546666666666667,\n",
       " ' 5.6': 8.833333333333334,\n",
       " ' 5.0': 12.875,\n",
       " ' 3rd': 53.61904761904762,\n",
       " ' 5.14a': 1.25,\n",
       " ' 5.14b': 0,\n",
       " ' 5.13b': 3.25,\n",
       " ' 5.13d': 0,\n",
       " ' 5.2': 129.5,\n",
       " ' 5.14d': 0,\n",
       " ' 5.4': 10,\n",
       " ' 5.5': 41.666666666666664,\n",
       " ' 5.1': 9,\n",
       " ' 5.3': 4}"
      ]
     },
     "execution_count": 241,
     "metadata": {},
     "output_type": "execute_result"
    }
   ],
   "source": [
    "lead_dict"
   ]
  },
  {
   "cell_type": "code",
   "execution_count": 242,
   "id": "simple-creation",
   "metadata": {
    "ExecuteTime": {
     "end_time": "2021-03-15T20:57:50.403332Z",
     "start_time": "2021-03-15T20:57:50.359211Z"
    }
   },
   "outputs": [],
   "source": [
    "men_lead_dict = lead_dict"
   ]
  },
  {
   "cell_type": "markdown",
   "id": "painted-therapist",
   "metadata": {},
   "source": [
    "# Women"
   ]
  },
  {
   "cell_type": "code",
   "execution_count": 168,
   "id": "square-conservative",
   "metadata": {
    "ExecuteTime": {
     "end_time": "2021-03-15T18:16:47.081815Z",
     "start_time": "2021-03-15T18:16:47.043011Z"
    }
   },
   "outputs": [],
   "source": [
    "# df of just women\n",
    "df_female = df_sport[df_sport['Gender'] == 'Female']"
   ]
  },
  {
   "cell_type": "code",
   "execution_count": 169,
   "id": "aerial-christmas",
   "metadata": {
    "ExecuteTime": {
     "end_time": "2021-03-15T18:16:48.361419Z",
     "start_time": "2021-03-15T18:16:48.347410Z"
    }
   },
   "outputs": [],
   "source": [
    "# df of women lead ticks\n",
    "df_female_lead = df_female[df_female['Style'] == 'Lead']"
   ]
  },
  {
   "cell_type": "code",
   "execution_count": 170,
   "id": "false-being",
   "metadata": {
    "ExecuteTime": {
     "end_time": "2021-03-15T18:16:48.697142Z",
     "start_time": "2021-03-15T18:16:48.691276Z"
    }
   },
   "outputs": [
    {
     "data": {
      "text/plain": [
       "(19132, 18)"
      ]
     },
     "execution_count": 170,
     "metadata": {},
     "output_type": "execute_result"
    }
   ],
   "source": [
    "df_female_lead.shape"
   ]
  },
  {
   "cell_type": "code",
   "execution_count": 171,
   "id": "unknown-kitty",
   "metadata": {
    "ExecuteTime": {
     "end_time": "2021-03-15T18:16:49.201145Z",
     "start_time": "2021-03-15T18:16:49.185006Z"
    }
   },
   "outputs": [],
   "source": [
    "# Total number of women\n",
    "names = df_female_lead.Name.unique()\n",
    "len(names)"
   ]
  },
  {
   "cell_type": "code",
   "execution_count": 173,
   "id": "increasing-scale",
   "metadata": {
    "ExecuteTime": {
     "end_time": "2021-03-15T18:16:51.734446Z",
     "start_time": "2021-03-15T18:16:50.186741Z"
    }
   },
   "outputs": [],
   "source": [
    "names = df_female_lead.Name.unique()\n",
    "\n",
    "count_above_lead = []\n",
    "for name in names:\n",
    "    df_female_lead[df_female_lead.Name == name]\n",
    "    count_above_lead.append(len(df_female_lead[(df_female_lead.Name == name) & (df_female_lead.numerical_difficulty >= df_female_lead.numerical_lead)]['numerical_difficulty']))"
   ]
  },
  {
   "cell_type": "code",
   "execution_count": 174,
   "id": "answering-windows",
   "metadata": {
    "ExecuteTime": {
     "end_time": "2021-03-15T18:16:51.913062Z",
     "start_time": "2021-03-15T18:16:51.906408Z"
    }
   },
   "outputs": [
    {
     "data": {
      "text/plain": [
       "8.861771058315334"
      ]
     },
     "execution_count": 174,
     "metadata": {},
     "output_type": "execute_result"
    }
   ],
   "source": [
    "mean(count_above_lead)"
   ]
  },
  {
   "cell_type": "code",
   "execution_count": 175,
   "id": "serial-macedonia",
   "metadata": {
    "ExecuteTime": {
     "end_time": "2021-03-15T18:17:00.534563Z",
     "start_time": "2021-03-15T18:17:00.524926Z"
    }
   },
   "outputs": [
    {
     "data": {
      "text/plain": [
       "19.015324951305704"
      ]
     },
     "execution_count": 175,
     "metadata": {},
     "output_type": "execute_result"
    }
   ],
   "source": [
    "statistics.stdev(count_above_lead)"
   ]
  },
  {
   "cell_type": "markdown",
   "id": "negative-bathroom",
   "metadata": {},
   "source": [
    "## By grade"
   ]
  },
  {
   "cell_type": "code",
   "execution_count": 247,
   "id": "acknowledged-developer",
   "metadata": {
    "ExecuteTime": {
     "end_time": "2021-03-15T20:59:15.551974Z",
     "start_time": "2021-03-15T20:59:15.527336Z"
    }
   },
   "outputs": [],
   "source": [
    "# Unique difficulty levels\n",
    "the_leads = df_female_lead['Sport Leads'].unique()"
   ]
  },
  {
   "cell_type": "code",
   "execution_count": 421,
   "id": "regulated-lawsuit",
   "metadata": {
    "ExecuteTime": {
     "end_time": "2021-03-15T23:11:49.442129Z",
     "start_time": "2021-03-15T23:11:19.210669Z"
    }
   },
   "outputs": [],
   "source": [
    "# Make a dictionary where the keys are the difficulty levels and the keys are the average count of  \n",
    "# ticks of that grade or above from women who claim to climb that grade.\n",
    "names = df_female_lead.Name.unique()\n",
    "the_leads = df_female_lead['Sport Leads'].unique()\n",
    "\n",
    "lead_dict_full = {}\n",
    "lead_dict = {}\n",
    "for lead_grade in the_leads:\n",
    "    count_above_lead = []\n",
    "    for name in names:\n",
    "        if len(df_female_lead[(df_female_lead.Name == name) & (df_female_lead['Sport Leads'] == lead_grade)]) == 0:\n",
    "            x=0\n",
    "        else:\n",
    "            count_above_lead.append(len(df_female_lead[(df_female_lead.Name == name) & \n",
    "                                                       (df_female_lead['Sport Leads'] == lead_grade) &\n",
    "                                                       (df_female_lead.numerical_difficulty >= df_female_lead.numerical_lead)]['numerical_difficulty']))\n",
    "    lead_dict_full[lead_grade] = count_above_lead\n",
    "    lead_dict[lead_grade] = mean(count_above_lead)"
   ]
  },
  {
   "cell_type": "code",
   "execution_count": 422,
   "id": "optimum-sunset",
   "metadata": {
    "ExecuteTime": {
     "end_time": "2021-03-15T23:12:07.219042Z",
     "start_time": "2021-03-15T23:12:07.212035Z"
    }
   },
   "outputs": [],
   "source": [
    "lead_dict_count = lead_dict_full.copy()"
   ]
  },
  {
   "cell_type": "code",
   "execution_count": 423,
   "id": "natural-revision",
   "metadata": {
    "ExecuteTime": {
     "end_time": "2021-03-15T23:12:08.376290Z",
     "start_time": "2021-03-15T23:12:08.372581Z"
    }
   },
   "outputs": [],
   "source": [
    "for key in lead_dict_count:\n",
    "    lead_dict_count[key] = len(lead_dict_count[key])"
   ]
  },
  {
   "cell_type": "code",
   "execution_count": 424,
   "id": "three-logging",
   "metadata": {
    "ExecuteTime": {
     "end_time": "2021-03-15T23:12:13.605416Z",
     "start_time": "2021-03-15T23:12:13.601630Z"
    }
   },
   "outputs": [],
   "source": [
    "lead_dict_count_women = lead_dict_count.copy()"
   ]
  },
  {
   "cell_type": "code",
   "execution_count": 253,
   "id": "herbal-tennessee",
   "metadata": {
    "ExecuteTime": {
     "end_time": "2021-03-15T21:01:11.010520Z",
     "start_time": "2021-03-15T21:01:11.006200Z"
    }
   },
   "outputs": [
    {
     "data": {
      "text/plain": [
       "{' 5.10b': 7.25,\n",
       " ' 5.12c': 9.833333333333334,\n",
       " ' 3rd': 12.6,\n",
       " ' 5.9': 6.467532467532467,\n",
       " ' 5.10c': 7.314285714285714,\n",
       " ' 5.10a': 11.85483870967742,\n",
       " ' 5.11a': 15.634146341463415,\n",
       " ' 5.11c': 13.31578947368421,\n",
       " ' 5.13a': 2.6666666666666665,\n",
       " ' 5.12a': 9.48,\n",
       " ' 5.12b': 4.461538461538462,\n",
       " ' 5.10d': 6.857142857142857,\n",
       " ' 5.11b': 5.6521739130434785,\n",
       " ' 5.7': 6.363636363636363,\n",
       " ' 5.8': 4.421052631578948,\n",
       " ' 5.12d': 12,\n",
       " ' 5.11d': 16.4,\n",
       " ' 5.4': 8,\n",
       " ' 5.0': 76,\n",
       " ' 5.13b': 0.5,\n",
       " ' 5.6': 6.333333333333333,\n",
       " ' 5.5': 3,\n",
       " ' 5.13c': 1}"
      ]
     },
     "execution_count": 253,
     "metadata": {},
     "output_type": "execute_result"
    }
   ],
   "source": [
    "lead_dict"
   ]
  },
  {
   "cell_type": "code",
   "execution_count": 254,
   "id": "warming-nevada",
   "metadata": {
    "ExecuteTime": {
     "end_time": "2021-03-15T21:01:22.645599Z",
     "start_time": "2021-03-15T21:01:22.633612Z"
    }
   },
   "outputs": [],
   "source": [
    "# Save the lead dictionary in a new dict called women_lead_dict\n",
    "women_lead_dict = lead_dict"
   ]
  },
  {
   "cell_type": "markdown",
   "id": "overall-audience",
   "metadata": {},
   "source": [
    "# Combined By Grade"
   ]
  },
  {
   "cell_type": "markdown",
   "id": "assisted-bearing",
   "metadata": {},
   "source": [
    "## Plotting number of grades above lead grade"
   ]
  },
  {
   "cell_type": "code",
   "execution_count": 318,
   "id": "upper-selection",
   "metadata": {
    "ExecuteTime": {
     "end_time": "2021-03-15T22:04:54.210629Z",
     "start_time": "2021-03-15T22:04:54.207059Z"
    }
   },
   "outputs": [],
   "source": [
    "# Copy dictionaries\n",
    "women_lead_dict2 = women_lead_dict.copy()\n",
    "men_lead_dict2 = men_lead_dict.copy()"
   ]
  },
  {
   "cell_type": "code",
   "execution_count": 319,
   "id": "initial-stone",
   "metadata": {
    "ExecuteTime": {
     "end_time": "2021-03-15T22:04:54.644799Z",
     "start_time": "2021-03-15T22:04:54.638219Z"
    }
   },
   "outputs": [],
   "source": [
    "# Turn women values into strings\n",
    "for k, v in women_lead_dict2.items():\n",
    "    women_lead_dict2[k] = str(v)\n",
    "\n",
    "# Turn men values into strings\n",
    "for k, v in men_lead_dict2.items():\n",
    "    men_lead_dict2[k] = str(v)    "
   ]
  },
  {
   "cell_type": "code",
   "execution_count": 320,
   "id": "sharp-formation",
   "metadata": {
    "ExecuteTime": {
     "end_time": "2021-03-15T22:04:54.893742Z",
     "start_time": "2021-03-15T22:04:54.887165Z"
    }
   },
   "outputs": [],
   "source": [
    "# Turn the women values into lists (to allow for extension when combining dictionaries).\n",
    "women_lead_dict2_list = {}\n",
    "key_list = list(women_lead_dict2.keys())\n",
    "val_list = list(women_lead_dict2.values())\n",
    "\n",
    "for index in range(len(women_lead_dict2)):\n",
    "    women_lead_dict2_list[key_list[index]] = [val_list[index]]\n",
    "    \n",
    "# Turn the men values into lists (to allow for extension when combining dictionaries).\n",
    "men_lead_dict2_list = {}\n",
    "key_list = list(men_lead_dict2.keys())\n",
    "val_list = list(men_lead_dict2.values())\n",
    "\n",
    "for index in range(len(men_lead_dict2)):\n",
    "    men_lead_dict2_list[key_list[index]] = [val_list[index]]"
   ]
  },
  {
   "cell_type": "code",
   "execution_count": 321,
   "id": "sensitive-tissue",
   "metadata": {
    "ExecuteTime": {
     "end_time": "2021-03-15T22:04:56.176677Z",
     "start_time": "2021-03-15T22:04:56.170889Z"
    },
    "scrolled": true
   },
   "outputs": [
    {
     "data": {
      "text/plain": [
       "{' 5.10b': ['7.25'],\n",
       " ' 5.12c': ['9.833333333333334'],\n",
       " ' 3rd': ['12.6'],\n",
       " ' 5.9': ['6.467532467532467'],\n",
       " ' 5.10c': ['7.314285714285714'],\n",
       " ' 5.10a': ['11.85483870967742'],\n",
       " ' 5.11a': ['15.634146341463415'],\n",
       " ' 5.11c': ['13.31578947368421'],\n",
       " ' 5.13a': ['2.6666666666666665'],\n",
       " ' 5.12a': ['9.48'],\n",
       " ' 5.12b': ['4.461538461538462'],\n",
       " ' 5.10d': ['6.857142857142857'],\n",
       " ' 5.11b': ['5.6521739130434785'],\n",
       " ' 5.7': ['6.363636363636363'],\n",
       " ' 5.8': ['4.421052631578948'],\n",
       " ' 5.12d': ['12'],\n",
       " ' 5.11d': ['16.4'],\n",
       " ' 5.4': ['8'],\n",
       " ' 5.0': ['76'],\n",
       " ' 5.13b': ['0.5'],\n",
       " ' 5.6': ['6.333333333333333'],\n",
       " ' 5.5': ['3'],\n",
       " ' 5.13c': ['1']}"
      ]
     },
     "execution_count": 321,
     "metadata": {},
     "output_type": "execute_result"
    }
   ],
   "source": [
    "women_lead_dict2_list"
   ]
  },
  {
   "cell_type": "code",
   "execution_count": 322,
   "id": "integral-convergence",
   "metadata": {
    "ExecuteTime": {
     "end_time": "2021-03-15T22:05:02.794241Z",
     "start_time": "2021-03-15T22:05:02.789652Z"
    }
   },
   "outputs": [],
   "source": [
    "# Combine male and female dictionaries\n",
    "for k, v in women_lead_dict2_list.items():\n",
    "    if k in men_lead_dict2_list:\n",
    "        men_lead_dict2_list[k].extend(v)\n",
    "    else:\n",
    "        men_lead_dict2_list[k] = v"
   ]
  },
  {
   "cell_type": "code",
   "execution_count": 324,
   "id": "assigned-comfort",
   "metadata": {
    "ExecuteTime": {
     "end_time": "2021-03-15T22:06:41.375835Z",
     "start_time": "2021-03-15T22:06:41.364177Z"
    }
   },
   "outputs": [
    {
     "data": {
      "text/plain": [
       "{' 5.11a': ['6.961538461538462', '15.634146341463415'],\n",
       " ' 5.12c': ['6.883333333333334', '9.833333333333334'],\n",
       " ' 5.13c': ['0.375', '1'],\n",
       " ' 5.12a': ['7.581818181818182', '9.48'],\n",
       " ' 4th': ['100'],\n",
       " ' 5.11c': ['4.733870967741935', '13.31578947368421'],\n",
       " ' 5.10b': ['4.60431654676259', '7.25'],\n",
       " ' 5.10a': ['6.757009345794392', '11.85483870967742'],\n",
       " ' 5.10d': ['8.120567375886525', '6.857142857142857'],\n",
       " ' 5.12d': ['8.642857142857142', '12'],\n",
       " ' 5.13a': ['5.24', '2.6666666666666665'],\n",
       " ' 5.12b': ['6.561643835616438', '4.461538461538462'],\n",
       " ' 5.11d': ['3.4404761904761907', '16.4'],\n",
       " ' 5.11b': ['5.636363636363637', '5.6521739130434785'],\n",
       " ' 5.10c': ['4', '7.314285714285714'],\n",
       " ' 5.9': ['6.723076923076923', '6.467532467532467'],\n",
       " ' 5.7': ['33.2', '6.363636363636363'],\n",
       " ' 5.8': ['5.546666666666667', '4.421052631578948'],\n",
       " ' 5.6': ['8.833333333333334', '6.333333333333333'],\n",
       " ' 5.0': ['12.875', '76'],\n",
       " ' 3rd': ['53.61904761904762', '12.6'],\n",
       " ' 5.14a': ['1.25'],\n",
       " ' 5.14b': ['0'],\n",
       " ' 5.13b': ['3.25', '0.5'],\n",
       " ' 5.13d': ['0'],\n",
       " ' 5.2': ['129.5'],\n",
       " ' 5.14d': ['0'],\n",
       " ' 5.4': ['10', '8'],\n",
       " ' 5.5': ['41.666666666666664', '3'],\n",
       " ' 5.1': ['9'],\n",
       " ' 5.3': ['4']}"
      ]
     },
     "execution_count": 324,
     "metadata": {},
     "output_type": "execute_result"
    }
   ],
   "source": [
    "# first value represents men. Second represents women.\n",
    "combined_dict = men_lead_dict2_list\n",
    "combined_dict"
   ]
  },
  {
   "cell_type": "code",
   "execution_count": 334,
   "id": "dying-ground",
   "metadata": {
    "ExecuteTime": {
     "end_time": "2021-03-15T22:14:00.823934Z",
     "start_time": "2021-03-15T22:14:00.807150Z"
    }
   },
   "outputs": [
    {
     "data": {
      "text/plain": [
       "[['1.25'], ['0'], ['0'], ['129.5'], ['0'], ['9'], ['4']]"
      ]
     },
     "execution_count": 334,
     "metadata": {},
     "output_type": "execute_result"
    }
   ],
   "source": [
    "# Remove keys where there are only women or only men.\n",
    "keys_to_remove = []\n",
    "for key in combined_dict:\n",
    "    if len(combined_dict[key]) < 2:\n",
    "        keys_to_remove.append(key)\n",
    "        \n",
    "[combined_dict.pop(key) for key in keys_to_remove] "
   ]
  },
  {
   "cell_type": "code",
   "execution_count": 335,
   "id": "express-collectible",
   "metadata": {
    "ExecuteTime": {
     "end_time": "2021-03-15T22:14:10.662071Z",
     "start_time": "2021-03-15T22:14:10.655577Z"
    }
   },
   "outputs": [
    {
     "data": {
      "text/plain": [
       "{' 5.11a': ['6.961538461538462', '15.634146341463415'],\n",
       " ' 5.12c': ['6.883333333333334', '9.833333333333334'],\n",
       " ' 5.13c': ['0.375', '1'],\n",
       " ' 5.12a': ['7.581818181818182', '9.48'],\n",
       " ' 5.11c': ['4.733870967741935', '13.31578947368421'],\n",
       " ' 5.10b': ['4.60431654676259', '7.25'],\n",
       " ' 5.10a': ['6.757009345794392', '11.85483870967742'],\n",
       " ' 5.10d': ['8.120567375886525', '6.857142857142857'],\n",
       " ' 5.12d': ['8.642857142857142', '12'],\n",
       " ' 5.13a': ['5.24', '2.6666666666666665'],\n",
       " ' 5.12b': ['6.561643835616438', '4.461538461538462'],\n",
       " ' 5.11d': ['3.4404761904761907', '16.4'],\n",
       " ' 5.11b': ['5.636363636363637', '5.6521739130434785'],\n",
       " ' 5.10c': ['4', '7.314285714285714'],\n",
       " ' 5.9': ['6.723076923076923', '6.467532467532467'],\n",
       " ' 5.7': ['33.2', '6.363636363636363'],\n",
       " ' 5.8': ['5.546666666666667', '4.421052631578948'],\n",
       " ' 5.6': ['8.833333333333334', '6.333333333333333'],\n",
       " ' 5.0': ['12.875', '76'],\n",
       " ' 3rd': ['53.61904761904762', '12.6'],\n",
       " ' 5.13b': ['3.25', '0.5'],\n",
       " ' 5.4': ['10', '8'],\n",
       " ' 5.5': ['41.666666666666664', '3']}"
      ]
     },
     "execution_count": 335,
     "metadata": {},
     "output_type": "execute_result"
    }
   ],
   "source": [
    "combined_dict"
   ]
  },
  {
   "cell_type": "code",
   "execution_count": 338,
   "id": "faced-denver",
   "metadata": {
    "ExecuteTime": {
     "end_time": "2021-03-15T22:15:10.561720Z",
     "start_time": "2021-03-15T22:15:10.472853Z"
    }
   },
   "outputs": [],
   "source": [
    "combined_df = pd.DataFrame.from_dict(combined_dict, orient='index', columns = ['Male', 'Female'])"
   ]
  },
  {
   "cell_type": "code",
   "execution_count": 339,
   "id": "bronze-choir",
   "metadata": {
    "ExecuteTime": {
     "end_time": "2021-03-15T22:15:11.333321Z",
     "start_time": "2021-03-15T22:15:11.319946Z"
    }
   },
   "outputs": [
    {
     "data": {
      "text/html": [
       "<div>\n",
       "<style scoped>\n",
       "    .dataframe tbody tr th:only-of-type {\n",
       "        vertical-align: middle;\n",
       "    }\n",
       "\n",
       "    .dataframe tbody tr th {\n",
       "        vertical-align: top;\n",
       "    }\n",
       "\n",
       "    .dataframe thead th {\n",
       "        text-align: right;\n",
       "    }\n",
       "</style>\n",
       "<table border=\"1\" class=\"dataframe\">\n",
       "  <thead>\n",
       "    <tr style=\"text-align: right;\">\n",
       "      <th></th>\n",
       "      <th>Male</th>\n",
       "      <th>Female</th>\n",
       "    </tr>\n",
       "  </thead>\n",
       "  <tbody>\n",
       "    <tr>\n",
       "      <th>5.11a</th>\n",
       "      <td>6.961538461538462</td>\n",
       "      <td>15.634146341463415</td>\n",
       "    </tr>\n",
       "    <tr>\n",
       "      <th>5.12c</th>\n",
       "      <td>6.883333333333334</td>\n",
       "      <td>9.833333333333334</td>\n",
       "    </tr>\n",
       "    <tr>\n",
       "      <th>5.13c</th>\n",
       "      <td>0.375</td>\n",
       "      <td>1</td>\n",
       "    </tr>\n",
       "    <tr>\n",
       "      <th>5.12a</th>\n",
       "      <td>7.581818181818182</td>\n",
       "      <td>9.48</td>\n",
       "    </tr>\n",
       "    <tr>\n",
       "      <th>5.11c</th>\n",
       "      <td>4.733870967741935</td>\n",
       "      <td>13.31578947368421</td>\n",
       "    </tr>\n",
       "    <tr>\n",
       "      <th>5.10b</th>\n",
       "      <td>4.60431654676259</td>\n",
       "      <td>7.25</td>\n",
       "    </tr>\n",
       "    <tr>\n",
       "      <th>5.10a</th>\n",
       "      <td>6.757009345794392</td>\n",
       "      <td>11.85483870967742</td>\n",
       "    </tr>\n",
       "    <tr>\n",
       "      <th>5.10d</th>\n",
       "      <td>8.120567375886525</td>\n",
       "      <td>6.857142857142857</td>\n",
       "    </tr>\n",
       "    <tr>\n",
       "      <th>5.12d</th>\n",
       "      <td>8.642857142857142</td>\n",
       "      <td>12</td>\n",
       "    </tr>\n",
       "    <tr>\n",
       "      <th>5.13a</th>\n",
       "      <td>5.24</td>\n",
       "      <td>2.6666666666666665</td>\n",
       "    </tr>\n",
       "    <tr>\n",
       "      <th>5.12b</th>\n",
       "      <td>6.561643835616438</td>\n",
       "      <td>4.461538461538462</td>\n",
       "    </tr>\n",
       "    <tr>\n",
       "      <th>5.11d</th>\n",
       "      <td>3.4404761904761907</td>\n",
       "      <td>16.4</td>\n",
       "    </tr>\n",
       "    <tr>\n",
       "      <th>5.11b</th>\n",
       "      <td>5.636363636363637</td>\n",
       "      <td>5.6521739130434785</td>\n",
       "    </tr>\n",
       "    <tr>\n",
       "      <th>5.10c</th>\n",
       "      <td>4</td>\n",
       "      <td>7.314285714285714</td>\n",
       "    </tr>\n",
       "    <tr>\n",
       "      <th>5.9</th>\n",
       "      <td>6.723076923076923</td>\n",
       "      <td>6.467532467532467</td>\n",
       "    </tr>\n",
       "    <tr>\n",
       "      <th>5.7</th>\n",
       "      <td>33.2</td>\n",
       "      <td>6.363636363636363</td>\n",
       "    </tr>\n",
       "    <tr>\n",
       "      <th>5.8</th>\n",
       "      <td>5.546666666666667</td>\n",
       "      <td>4.421052631578948</td>\n",
       "    </tr>\n",
       "    <tr>\n",
       "      <th>5.6</th>\n",
       "      <td>8.833333333333334</td>\n",
       "      <td>6.333333333333333</td>\n",
       "    </tr>\n",
       "    <tr>\n",
       "      <th>5.0</th>\n",
       "      <td>12.875</td>\n",
       "      <td>76</td>\n",
       "    </tr>\n",
       "    <tr>\n",
       "      <th>3rd</th>\n",
       "      <td>53.61904761904762</td>\n",
       "      <td>12.6</td>\n",
       "    </tr>\n",
       "    <tr>\n",
       "      <th>5.13b</th>\n",
       "      <td>3.25</td>\n",
       "      <td>0.5</td>\n",
       "    </tr>\n",
       "    <tr>\n",
       "      <th>5.4</th>\n",
       "      <td>10</td>\n",
       "      <td>8</td>\n",
       "    </tr>\n",
       "    <tr>\n",
       "      <th>5.5</th>\n",
       "      <td>41.666666666666664</td>\n",
       "      <td>3</td>\n",
       "    </tr>\n",
       "  </tbody>\n",
       "</table>\n",
       "</div>"
      ],
      "text/plain": [
       "                      Male              Female\n",
       " 5.11a   6.961538461538462  15.634146341463415\n",
       " 5.12c   6.883333333333334   9.833333333333334\n",
       " 5.13c               0.375                   1\n",
       " 5.12a   7.581818181818182                9.48\n",
       " 5.11c   4.733870967741935   13.31578947368421\n",
       " 5.10b    4.60431654676259                7.25\n",
       " 5.10a   6.757009345794392   11.85483870967742\n",
       " 5.10d   8.120567375886525   6.857142857142857\n",
       " 5.12d   8.642857142857142                  12\n",
       " 5.13a                5.24  2.6666666666666665\n",
       " 5.12b   6.561643835616438   4.461538461538462\n",
       " 5.11d  3.4404761904761907                16.4\n",
       " 5.11b   5.636363636363637  5.6521739130434785\n",
       " 5.10c                   4   7.314285714285714\n",
       " 5.9     6.723076923076923   6.467532467532467\n",
       " 5.7                  33.2   6.363636363636363\n",
       " 5.8     5.546666666666667   4.421052631578948\n",
       " 5.6     8.833333333333334   6.333333333333333\n",
       " 5.0                12.875                  76\n",
       " 3rd     53.61904761904762                12.6\n",
       " 5.13b                3.25                 0.5\n",
       " 5.4                    10                   8\n",
       " 5.5    41.666666666666664                   3"
      ]
     },
     "execution_count": 339,
     "metadata": {},
     "output_type": "execute_result"
    }
   ],
   "source": [
    "combined_df"
   ]
  },
  {
   "cell_type": "code",
   "execution_count": 343,
   "id": "identical-utility",
   "metadata": {
    "ExecuteTime": {
     "end_time": "2021-03-15T22:24:07.983839Z",
     "start_time": "2021-03-15T22:24:07.979987Z"
    }
   },
   "outputs": [],
   "source": [
    "combined_df.reset_index(inplace=True)"
   ]
  },
  {
   "cell_type": "code",
   "execution_count": 344,
   "id": "advisory-retirement",
   "metadata": {
    "ExecuteTime": {
     "end_time": "2021-03-15T22:24:11.578937Z",
     "start_time": "2021-03-15T22:24:11.564589Z"
    }
   },
   "outputs": [
    {
     "data": {
      "text/html": [
       "<div>\n",
       "<style scoped>\n",
       "    .dataframe tbody tr th:only-of-type {\n",
       "        vertical-align: middle;\n",
       "    }\n",
       "\n",
       "    .dataframe tbody tr th {\n",
       "        vertical-align: top;\n",
       "    }\n",
       "\n",
       "    .dataframe thead th {\n",
       "        text-align: right;\n",
       "    }\n",
       "</style>\n",
       "<table border=\"1\" class=\"dataframe\">\n",
       "  <thead>\n",
       "    <tr style=\"text-align: right;\">\n",
       "      <th></th>\n",
       "      <th>index</th>\n",
       "      <th>Male</th>\n",
       "      <th>Female</th>\n",
       "    </tr>\n",
       "  </thead>\n",
       "  <tbody>\n",
       "    <tr>\n",
       "      <th>0</th>\n",
       "      <td>5.11a</td>\n",
       "      <td>6.961538461538462</td>\n",
       "      <td>15.634146341463415</td>\n",
       "    </tr>\n",
       "    <tr>\n",
       "      <th>1</th>\n",
       "      <td>5.12c</td>\n",
       "      <td>6.883333333333334</td>\n",
       "      <td>9.833333333333334</td>\n",
       "    </tr>\n",
       "    <tr>\n",
       "      <th>2</th>\n",
       "      <td>5.13c</td>\n",
       "      <td>0.375</td>\n",
       "      <td>1</td>\n",
       "    </tr>\n",
       "    <tr>\n",
       "      <th>3</th>\n",
       "      <td>5.12a</td>\n",
       "      <td>7.581818181818182</td>\n",
       "      <td>9.48</td>\n",
       "    </tr>\n",
       "    <tr>\n",
       "      <th>4</th>\n",
       "      <td>5.11c</td>\n",
       "      <td>4.733870967741935</td>\n",
       "      <td>13.31578947368421</td>\n",
       "    </tr>\n",
       "    <tr>\n",
       "      <th>5</th>\n",
       "      <td>5.10b</td>\n",
       "      <td>4.60431654676259</td>\n",
       "      <td>7.25</td>\n",
       "    </tr>\n",
       "    <tr>\n",
       "      <th>6</th>\n",
       "      <td>5.10a</td>\n",
       "      <td>6.757009345794392</td>\n",
       "      <td>11.85483870967742</td>\n",
       "    </tr>\n",
       "    <tr>\n",
       "      <th>7</th>\n",
       "      <td>5.10d</td>\n",
       "      <td>8.120567375886525</td>\n",
       "      <td>6.857142857142857</td>\n",
       "    </tr>\n",
       "    <tr>\n",
       "      <th>8</th>\n",
       "      <td>5.12d</td>\n",
       "      <td>8.642857142857142</td>\n",
       "      <td>12</td>\n",
       "    </tr>\n",
       "    <tr>\n",
       "      <th>9</th>\n",
       "      <td>5.13a</td>\n",
       "      <td>5.24</td>\n",
       "      <td>2.6666666666666665</td>\n",
       "    </tr>\n",
       "    <tr>\n",
       "      <th>10</th>\n",
       "      <td>5.12b</td>\n",
       "      <td>6.561643835616438</td>\n",
       "      <td>4.461538461538462</td>\n",
       "    </tr>\n",
       "    <tr>\n",
       "      <th>11</th>\n",
       "      <td>5.11d</td>\n",
       "      <td>3.4404761904761907</td>\n",
       "      <td>16.4</td>\n",
       "    </tr>\n",
       "    <tr>\n",
       "      <th>12</th>\n",
       "      <td>5.11b</td>\n",
       "      <td>5.636363636363637</td>\n",
       "      <td>5.6521739130434785</td>\n",
       "    </tr>\n",
       "    <tr>\n",
       "      <th>13</th>\n",
       "      <td>5.10c</td>\n",
       "      <td>4</td>\n",
       "      <td>7.314285714285714</td>\n",
       "    </tr>\n",
       "    <tr>\n",
       "      <th>14</th>\n",
       "      <td>5.9</td>\n",
       "      <td>6.723076923076923</td>\n",
       "      <td>6.467532467532467</td>\n",
       "    </tr>\n",
       "    <tr>\n",
       "      <th>15</th>\n",
       "      <td>5.7</td>\n",
       "      <td>33.2</td>\n",
       "      <td>6.363636363636363</td>\n",
       "    </tr>\n",
       "    <tr>\n",
       "      <th>16</th>\n",
       "      <td>5.8</td>\n",
       "      <td>5.546666666666667</td>\n",
       "      <td>4.421052631578948</td>\n",
       "    </tr>\n",
       "    <tr>\n",
       "      <th>17</th>\n",
       "      <td>5.6</td>\n",
       "      <td>8.833333333333334</td>\n",
       "      <td>6.333333333333333</td>\n",
       "    </tr>\n",
       "    <tr>\n",
       "      <th>18</th>\n",
       "      <td>5.0</td>\n",
       "      <td>12.875</td>\n",
       "      <td>76</td>\n",
       "    </tr>\n",
       "    <tr>\n",
       "      <th>19</th>\n",
       "      <td>3rd</td>\n",
       "      <td>53.61904761904762</td>\n",
       "      <td>12.6</td>\n",
       "    </tr>\n",
       "    <tr>\n",
       "      <th>20</th>\n",
       "      <td>5.13b</td>\n",
       "      <td>3.25</td>\n",
       "      <td>0.5</td>\n",
       "    </tr>\n",
       "    <tr>\n",
       "      <th>21</th>\n",
       "      <td>5.4</td>\n",
       "      <td>10</td>\n",
       "      <td>8</td>\n",
       "    </tr>\n",
       "    <tr>\n",
       "      <th>22</th>\n",
       "      <td>5.5</td>\n",
       "      <td>41.666666666666664</td>\n",
       "      <td>3</td>\n",
       "    </tr>\n",
       "  </tbody>\n",
       "</table>\n",
       "</div>"
      ],
      "text/plain": [
       "     index                Male              Female\n",
       "0    5.11a   6.961538461538462  15.634146341463415\n",
       "1    5.12c   6.883333333333334   9.833333333333334\n",
       "2    5.13c               0.375                   1\n",
       "3    5.12a   7.581818181818182                9.48\n",
       "4    5.11c   4.733870967741935   13.31578947368421\n",
       "5    5.10b    4.60431654676259                7.25\n",
       "6    5.10a   6.757009345794392   11.85483870967742\n",
       "7    5.10d   8.120567375886525   6.857142857142857\n",
       "8    5.12d   8.642857142857142                  12\n",
       "9    5.13a                5.24  2.6666666666666665\n",
       "10   5.12b   6.561643835616438   4.461538461538462\n",
       "11   5.11d  3.4404761904761907                16.4\n",
       "12   5.11b   5.636363636363637  5.6521739130434785\n",
       "13   5.10c                   4   7.314285714285714\n",
       "14     5.9   6.723076923076923   6.467532467532467\n",
       "15     5.7                33.2   6.363636363636363\n",
       "16     5.8   5.546666666666667   4.421052631578948\n",
       "17     5.6   8.833333333333334   6.333333333333333\n",
       "18     5.0              12.875                  76\n",
       "19     3rd   53.61904761904762                12.6\n",
       "20   5.13b                3.25                 0.5\n",
       "21     5.4                  10                   8\n",
       "22     5.5  41.666666666666664                   3"
      ]
     },
     "execution_count": 344,
     "metadata": {},
     "output_type": "execute_result"
    }
   ],
   "source": [
    "combined_df"
   ]
  },
  {
   "cell_type": "code",
   "execution_count": 345,
   "id": "consecutive-miami",
   "metadata": {
    "ExecuteTime": {
     "end_time": "2021-03-15T22:24:27.676712Z",
     "start_time": "2021-03-15T22:24:27.661663Z"
    }
   },
   "outputs": [],
   "source": [
    "combined_df = pd.melt(combined_df, id_vars=\"index\", var_name=\"sex\", value_name=\"difficulty\")"
   ]
  },
  {
   "cell_type": "code",
   "execution_count": 386,
   "id": "departmental-tongue",
   "metadata": {
    "ExecuteTime": {
     "end_time": "2021-03-15T22:37:54.414229Z",
     "start_time": "2021-03-15T22:37:54.400402Z"
    },
    "scrolled": true
   },
   "outputs": [
    {
     "data": {
      "text/html": [
       "<div>\n",
       "<style scoped>\n",
       "    .dataframe tbody tr th:only-of-type {\n",
       "        vertical-align: middle;\n",
       "    }\n",
       "\n",
       "    .dataframe tbody tr th {\n",
       "        vertical-align: top;\n",
       "    }\n",
       "\n",
       "    .dataframe thead th {\n",
       "        text-align: right;\n",
       "    }\n",
       "</style>\n",
       "<table border=\"1\" class=\"dataframe\">\n",
       "  <thead>\n",
       "    <tr style=\"text-align: right;\">\n",
       "      <th></th>\n",
       "      <th>index</th>\n",
       "      <th>sex</th>\n",
       "      <th>difficulty</th>\n",
       "    </tr>\n",
       "  </thead>\n",
       "  <tbody>\n",
       "    <tr>\n",
       "      <th>0</th>\n",
       "      <td>5.11a</td>\n",
       "      <td>Male</td>\n",
       "      <td>6.961538</td>\n",
       "    </tr>\n",
       "    <tr>\n",
       "      <th>1</th>\n",
       "      <td>5.12c</td>\n",
       "      <td>Male</td>\n",
       "      <td>6.883333</td>\n",
       "    </tr>\n",
       "    <tr>\n",
       "      <th>2</th>\n",
       "      <td>5.13c</td>\n",
       "      <td>Male</td>\n",
       "      <td>0.375000</td>\n",
       "    </tr>\n",
       "    <tr>\n",
       "      <th>3</th>\n",
       "      <td>5.12a</td>\n",
       "      <td>Male</td>\n",
       "      <td>7.581818</td>\n",
       "    </tr>\n",
       "    <tr>\n",
       "      <th>4</th>\n",
       "      <td>5.11c</td>\n",
       "      <td>Male</td>\n",
       "      <td>4.733871</td>\n",
       "    </tr>\n",
       "    <tr>\n",
       "      <th>5</th>\n",
       "      <td>5.10b</td>\n",
       "      <td>Male</td>\n",
       "      <td>4.604317</td>\n",
       "    </tr>\n",
       "    <tr>\n",
       "      <th>6</th>\n",
       "      <td>5.10a</td>\n",
       "      <td>Male</td>\n",
       "      <td>6.757010</td>\n",
       "    </tr>\n",
       "    <tr>\n",
       "      <th>7</th>\n",
       "      <td>5.10d</td>\n",
       "      <td>Male</td>\n",
       "      <td>8.120567</td>\n",
       "    </tr>\n",
       "    <tr>\n",
       "      <th>8</th>\n",
       "      <td>5.12d</td>\n",
       "      <td>Male</td>\n",
       "      <td>8.642858</td>\n",
       "    </tr>\n",
       "    <tr>\n",
       "      <th>9</th>\n",
       "      <td>5.13a</td>\n",
       "      <td>Male</td>\n",
       "      <td>5.240000</td>\n",
       "    </tr>\n",
       "    <tr>\n",
       "      <th>10</th>\n",
       "      <td>5.12b</td>\n",
       "      <td>Male</td>\n",
       "      <td>6.561644</td>\n",
       "    </tr>\n",
       "    <tr>\n",
       "      <th>11</th>\n",
       "      <td>5.11d</td>\n",
       "      <td>Male</td>\n",
       "      <td>3.440476</td>\n",
       "    </tr>\n",
       "    <tr>\n",
       "      <th>12</th>\n",
       "      <td>5.11b</td>\n",
       "      <td>Male</td>\n",
       "      <td>5.636364</td>\n",
       "    </tr>\n",
       "    <tr>\n",
       "      <th>13</th>\n",
       "      <td>5.10c</td>\n",
       "      <td>Male</td>\n",
       "      <td>4.000000</td>\n",
       "    </tr>\n",
       "    <tr>\n",
       "      <th>14</th>\n",
       "      <td>5.9</td>\n",
       "      <td>Male</td>\n",
       "      <td>6.723077</td>\n",
       "    </tr>\n",
       "    <tr>\n",
       "      <th>15</th>\n",
       "      <td>5.7</td>\n",
       "      <td>Male</td>\n",
       "      <td>33.200001</td>\n",
       "    </tr>\n",
       "    <tr>\n",
       "      <th>16</th>\n",
       "      <td>5.8</td>\n",
       "      <td>Male</td>\n",
       "      <td>5.546667</td>\n",
       "    </tr>\n",
       "    <tr>\n",
       "      <th>17</th>\n",
       "      <td>5.6</td>\n",
       "      <td>Male</td>\n",
       "      <td>8.833333</td>\n",
       "    </tr>\n",
       "    <tr>\n",
       "      <th>18</th>\n",
       "      <td>5.0</td>\n",
       "      <td>Male</td>\n",
       "      <td>12.875000</td>\n",
       "    </tr>\n",
       "    <tr>\n",
       "      <th>19</th>\n",
       "      <td>3rd</td>\n",
       "      <td>Male</td>\n",
       "      <td>53.619049</td>\n",
       "    </tr>\n",
       "    <tr>\n",
       "      <th>20</th>\n",
       "      <td>5.13b</td>\n",
       "      <td>Male</td>\n",
       "      <td>3.250000</td>\n",
       "    </tr>\n",
       "    <tr>\n",
       "      <th>21</th>\n",
       "      <td>5.4</td>\n",
       "      <td>Male</td>\n",
       "      <td>10.000000</td>\n",
       "    </tr>\n",
       "    <tr>\n",
       "      <th>22</th>\n",
       "      <td>5.5</td>\n",
       "      <td>Male</td>\n",
       "      <td>41.666668</td>\n",
       "    </tr>\n",
       "    <tr>\n",
       "      <th>23</th>\n",
       "      <td>5.11a</td>\n",
       "      <td>Female</td>\n",
       "      <td>15.634147</td>\n",
       "    </tr>\n",
       "    <tr>\n",
       "      <th>24</th>\n",
       "      <td>5.12c</td>\n",
       "      <td>Female</td>\n",
       "      <td>9.833333</td>\n",
       "    </tr>\n",
       "    <tr>\n",
       "      <th>25</th>\n",
       "      <td>5.13c</td>\n",
       "      <td>Female</td>\n",
       "      <td>1.000000</td>\n",
       "    </tr>\n",
       "    <tr>\n",
       "      <th>26</th>\n",
       "      <td>5.12a</td>\n",
       "      <td>Female</td>\n",
       "      <td>9.480000</td>\n",
       "    </tr>\n",
       "    <tr>\n",
       "      <th>27</th>\n",
       "      <td>5.11c</td>\n",
       "      <td>Female</td>\n",
       "      <td>13.315789</td>\n",
       "    </tr>\n",
       "    <tr>\n",
       "      <th>28</th>\n",
       "      <td>5.10b</td>\n",
       "      <td>Female</td>\n",
       "      <td>7.250000</td>\n",
       "    </tr>\n",
       "    <tr>\n",
       "      <th>29</th>\n",
       "      <td>5.10a</td>\n",
       "      <td>Female</td>\n",
       "      <td>11.854838</td>\n",
       "    </tr>\n",
       "    <tr>\n",
       "      <th>30</th>\n",
       "      <td>5.10d</td>\n",
       "      <td>Female</td>\n",
       "      <td>6.857143</td>\n",
       "    </tr>\n",
       "    <tr>\n",
       "      <th>31</th>\n",
       "      <td>5.12d</td>\n",
       "      <td>Female</td>\n",
       "      <td>12.000000</td>\n",
       "    </tr>\n",
       "    <tr>\n",
       "      <th>32</th>\n",
       "      <td>5.13a</td>\n",
       "      <td>Female</td>\n",
       "      <td>2.666667</td>\n",
       "    </tr>\n",
       "    <tr>\n",
       "      <th>33</th>\n",
       "      <td>5.12b</td>\n",
       "      <td>Female</td>\n",
       "      <td>4.461538</td>\n",
       "    </tr>\n",
       "    <tr>\n",
       "      <th>34</th>\n",
       "      <td>5.11d</td>\n",
       "      <td>Female</td>\n",
       "      <td>16.400000</td>\n",
       "    </tr>\n",
       "    <tr>\n",
       "      <th>35</th>\n",
       "      <td>5.11b</td>\n",
       "      <td>Female</td>\n",
       "      <td>5.652174</td>\n",
       "    </tr>\n",
       "    <tr>\n",
       "      <th>36</th>\n",
       "      <td>5.10c</td>\n",
       "      <td>Female</td>\n",
       "      <td>7.314286</td>\n",
       "    </tr>\n",
       "    <tr>\n",
       "      <th>37</th>\n",
       "      <td>5.9</td>\n",
       "      <td>Female</td>\n",
       "      <td>6.467533</td>\n",
       "    </tr>\n",
       "    <tr>\n",
       "      <th>38</th>\n",
       "      <td>5.7</td>\n",
       "      <td>Female</td>\n",
       "      <td>6.363636</td>\n",
       "    </tr>\n",
       "    <tr>\n",
       "      <th>39</th>\n",
       "      <td>5.8</td>\n",
       "      <td>Female</td>\n",
       "      <td>4.421052</td>\n",
       "    </tr>\n",
       "    <tr>\n",
       "      <th>40</th>\n",
       "      <td>5.6</td>\n",
       "      <td>Female</td>\n",
       "      <td>6.333333</td>\n",
       "    </tr>\n",
       "    <tr>\n",
       "      <th>41</th>\n",
       "      <td>5.0</td>\n",
       "      <td>Female</td>\n",
       "      <td>76.000000</td>\n",
       "    </tr>\n",
       "    <tr>\n",
       "      <th>42</th>\n",
       "      <td>3rd</td>\n",
       "      <td>Female</td>\n",
       "      <td>12.600000</td>\n",
       "    </tr>\n",
       "    <tr>\n",
       "      <th>43</th>\n",
       "      <td>5.13b</td>\n",
       "      <td>Female</td>\n",
       "      <td>0.500000</td>\n",
       "    </tr>\n",
       "    <tr>\n",
       "      <th>44</th>\n",
       "      <td>5.4</td>\n",
       "      <td>Female</td>\n",
       "      <td>8.000000</td>\n",
       "    </tr>\n",
       "    <tr>\n",
       "      <th>45</th>\n",
       "      <td>5.5</td>\n",
       "      <td>Female</td>\n",
       "      <td>3.000000</td>\n",
       "    </tr>\n",
       "  </tbody>\n",
       "</table>\n",
       "</div>"
      ],
      "text/plain": [
       "     index     sex  difficulty\n",
       "0    5.11a    Male    6.961538\n",
       "1    5.12c    Male    6.883333\n",
       "2    5.13c    Male    0.375000\n",
       "3    5.12a    Male    7.581818\n",
       "4    5.11c    Male    4.733871\n",
       "5    5.10b    Male    4.604317\n",
       "6    5.10a    Male    6.757010\n",
       "7    5.10d    Male    8.120567\n",
       "8    5.12d    Male    8.642858\n",
       "9    5.13a    Male    5.240000\n",
       "10   5.12b    Male    6.561644\n",
       "11   5.11d    Male    3.440476\n",
       "12   5.11b    Male    5.636364\n",
       "13   5.10c    Male    4.000000\n",
       "14     5.9    Male    6.723077\n",
       "15     5.7    Male   33.200001\n",
       "16     5.8    Male    5.546667\n",
       "17     5.6    Male    8.833333\n",
       "18     5.0    Male   12.875000\n",
       "19     3rd    Male   53.619049\n",
       "20   5.13b    Male    3.250000\n",
       "21     5.4    Male   10.000000\n",
       "22     5.5    Male   41.666668\n",
       "23   5.11a  Female   15.634147\n",
       "24   5.12c  Female    9.833333\n",
       "25   5.13c  Female    1.000000\n",
       "26   5.12a  Female    9.480000\n",
       "27   5.11c  Female   13.315789\n",
       "28   5.10b  Female    7.250000\n",
       "29   5.10a  Female   11.854838\n",
       "30   5.10d  Female    6.857143\n",
       "31   5.12d  Female   12.000000\n",
       "32   5.13a  Female    2.666667\n",
       "33   5.12b  Female    4.461538\n",
       "34   5.11d  Female   16.400000\n",
       "35   5.11b  Female    5.652174\n",
       "36   5.10c  Female    7.314286\n",
       "37     5.9  Female    6.467533\n",
       "38     5.7  Female    6.363636\n",
       "39     5.8  Female    4.421052\n",
       "40     5.6  Female    6.333333\n",
       "41     5.0  Female   76.000000\n",
       "42     3rd  Female   12.600000\n",
       "43   5.13b  Female    0.500000\n",
       "44     5.4  Female    8.000000\n",
       "45     5.5  Female    3.000000"
      ]
     },
     "execution_count": 386,
     "metadata": {},
     "output_type": "execute_result"
    }
   ],
   "source": [
    "combined_df"
   ]
  },
  {
   "cell_type": "code",
   "execution_count": 354,
   "id": "answering-booth",
   "metadata": {
    "ExecuteTime": {
     "end_time": "2021-03-15T22:29:48.842857Z",
     "start_time": "2021-03-15T22:29:48.838066Z"
    }
   },
   "outputs": [],
   "source": [
    "combined_df['difficulty'] = pd.to_numeric(combined_df['difficulty'], downcast='float')"
   ]
  },
  {
   "cell_type": "code",
   "execution_count": 468,
   "id": "consistent-county",
   "metadata": {
    "ExecuteTime": {
     "end_time": "2021-03-15T23:31:41.030801Z",
     "start_time": "2021-03-15T23:31:40.560253Z"
    }
   },
   "outputs": [
    {
     "data": {
      "image/png": "[encoded data removed]",
      "text/plain": [
       "<Figure size 1080x360 with 1 Axes>"
      ]
     },
     "metadata": {},
     "output_type": "display_data"
    }
   ],
   "source": [
    "sns.set(rc={'figure.figsize':(15,5)})\n",
    "sns.set_style(\"white\")\n",
    "ax = sns.barplot(x=\"index\", y=\"difficulty\", hue=\"sex\", data=combined_df,\n",
    "    order = [' 3rd', ' 5.0', ' 5.4', ' 5.5', ' 5.6', ' 5.7', ' 5.8', ' 5.9', ' 5.10a', ' 5.10b',\n",
    "            ' 5.10c', ' 5.10d', ' 5.11a', ' 5.11b', ' 5.11c', ' 5.11d', ' 5.12a', ' 5.12b', ' 5.12b', \n",
    "             ' 5.12c',' 5.13a', ' 5.13b', ' 5.13c'])\n",
    "ax.grid(False)\n"
   ]
  },
  {
   "cell_type": "code",
   "execution_count": 474,
   "id": "inside-classics",
   "metadata": {
    "ExecuteTime": {
     "end_time": "2021-03-15T23:38:27.882777Z",
     "start_time": "2021-03-15T23:38:27.563798Z"
    }
   },
   "outputs": [
    {
     "data": {
      "image/png": "[encoded data removed]",
      "text/plain": [
       "<Figure size 1080x360 with 1 Axes>"
      ]
     },
     "metadata": {},
     "output_type": "display_data"
    }
   ],
   "source": [
    "# Removed over 5.12b because fewer than 10 women were represented per grade. 5.7 needs to be inspected for outliers.\n",
    "sns.set(rc={'figure.figsize':(15,5)})\n",
    "sns.set_style(\"white\")\n",
    "ax = sns.barplot(x=\"index\", y=\"difficulty\", hue=\"sex\", data=combined_df,\n",
    "    order = [' 5.8', ' 5.9', ' 5.10a', ' 5.10b',\n",
    "            ' 5.10c', ' 5.10d', ' 5.11a', ' 5.11b', ' 5.11c', ' 5.11d', ' 5.12a', ' 5.12b'])\n",
    "ax.grid(False)\n"
   ]
  },
  {
   "cell_type": "markdown",
   "id": "lightweight-brown",
   "metadata": {},
   "source": [
    "## Plotting number of grades climbed by gender"
   ]
  },
  {
   "cell_type": "code",
   "execution_count": 445,
   "id": "agreed-comment",
   "metadata": {
    "ExecuteTime": {
     "end_time": "2021-03-15T23:21:26.787547Z",
     "start_time": "2021-03-15T23:21:26.784440Z"
    }
   },
   "outputs": [],
   "source": [
    "lead_dict_count_men2 = lead_dict_count_men.copy()\n",
    "lead_dict_count_women2 = lead_dict_count_women.copy()"
   ]
  },
  {
   "cell_type": "code",
   "execution_count": 446,
   "id": "intensive-pendant",
   "metadata": {
    "ExecuteTime": {
     "end_time": "2021-03-15T23:21:27.196769Z",
     "start_time": "2021-03-15T23:21:27.193231Z"
    }
   },
   "outputs": [],
   "source": [
    "# Turn women values into strings\n",
    "for k, v in lead_dict_count_women2.items():\n",
    "    lead_dict_count_women2[k] = str(v)\n",
    "\n",
    "# Turn men values into strings\n",
    "for k, v in lead_dict_count_men2.items():\n",
    "    lead_dict_count_men2[k] = str(v) "
   ]
  },
  {
   "cell_type": "code",
   "execution_count": 447,
   "id": "later-despite",
   "metadata": {
    "ExecuteTime": {
     "end_time": "2021-03-15T23:21:27.580365Z",
     "start_time": "2021-03-15T23:21:27.576038Z"
    }
   },
   "outputs": [],
   "source": [
    "# Turn the women values into lists (to allow for extension when combining dictionaries).\n",
    "lead_dict_count_women2_list = {}\n",
    "key_list = list(lead_dict_count_women2.keys())\n",
    "val_list = list(lead_dict_count_women2.values())\n",
    "\n",
    "for index in range(len(lead_dict_count_women2)):\n",
    "    lead_dict_count_women2_list[key_list[index]] = [val_list[index]]\n",
    "    \n",
    "# Turn the men values into lists (to allow for extension when combining dictionaries).\n",
    "lead_dict_count_men2_list = {}\n",
    "key_list = list(lead_dict_count_men2.keys())\n",
    "val_list = list(lead_dict_count_men2.values())\n",
    "\n",
    "for index in range(len(lead_dict_count_men2)):\n",
    "    lead_dict_count_men2_list[key_list[index]] = [val_list[index]]"
   ]
  },
  {
   "cell_type": "code",
   "execution_count": 448,
   "id": "preceding-lover",
   "metadata": {
    "ExecuteTime": {
     "end_time": "2021-03-15T23:21:28.405774Z",
     "start_time": "2021-03-15T23:21:28.399269Z"
    },
    "scrolled": false
   },
   "outputs": [
    {
     "data": {
      "text/plain": [
       "{' 5.10b': ['36'],\n",
       " ' 5.12c': ['6'],\n",
       " ' 3rd': ['15'],\n",
       " ' 5.9': ['77'],\n",
       " ' 5.10c': ['35'],\n",
       " ' 5.10a': ['62'],\n",
       " ' 5.11a': ['41'],\n",
       " ' 5.11c': ['19'],\n",
       " ' 5.13a': ['6'],\n",
       " ' 5.12a': ['25'],\n",
       " ' 5.12b': ['13'],\n",
       " ' 5.10d': ['21'],\n",
       " ' 5.11b': ['23'],\n",
       " ' 5.7': ['22'],\n",
       " ' 5.8': ['38'],\n",
       " ' 5.12d': ['2'],\n",
       " ' 5.11d': ['10'],\n",
       " ' 5.4': ['1'],\n",
       " ' 5.0': ['1'],\n",
       " ' 5.13b': ['2'],\n",
       " ' 5.6': ['6'],\n",
       " ' 5.5': ['2'],\n",
       " ' 5.13c': ['1']}"
      ]
     },
     "execution_count": 448,
     "metadata": {},
     "output_type": "execute_result"
    }
   ],
   "source": [
    "lead_dict_count_women2_list"
   ]
  },
  {
   "cell_type": "code",
   "execution_count": 449,
   "id": "optical-uruguay",
   "metadata": {
    "ExecuteTime": {
     "end_time": "2021-03-15T23:21:28.834649Z",
     "start_time": "2021-03-15T23:21:28.830905Z"
    }
   },
   "outputs": [],
   "source": [
    "# Combine male and female dictionaries\n",
    "for k, v in lead_dict_count_women2_list.items():\n",
    "    if k in lead_dict_count_men2_list:\n",
    "        lead_dict_count_men2_list[k].extend(v)\n",
    "    else:\n",
    "        lead_dict_count_men2_list[k] = v"
   ]
  },
  {
   "cell_type": "code",
   "execution_count": 450,
   "id": "parental-tribute",
   "metadata": {
    "ExecuteTime": {
     "end_time": "2021-03-15T23:21:29.378327Z",
     "start_time": "2021-03-15T23:21:29.368416Z"
    }
   },
   "outputs": [
    {
     "data": {
      "text/plain": [
       "{' 5.11a': ['234', '41'],\n",
       " ' 5.12c': ['60', '6'],\n",
       " ' 5.13c': ['8', '1'],\n",
       " ' 5.12a': ['165', '25'],\n",
       " ' 4th': ['6'],\n",
       " ' 5.11c': ['124', '19'],\n",
       " ' 5.10b': ['139', '36'],\n",
       " ' 5.10a': ['214', '62'],\n",
       " ' 5.10d': ['141', '21'],\n",
       " ' 5.12d': ['28', '2'],\n",
       " ' 5.13a': ['50', '6'],\n",
       " ' 5.12b': ['73', '13'],\n",
       " ' 5.11d': ['84', '10'],\n",
       " ' 5.11b': ['99', '23'],\n",
       " ' 5.10c': ['123', '35'],\n",
       " ' 5.9': ['130', '77'],\n",
       " ' 5.7': ['50', '22'],\n",
       " ' 5.8': ['75', '38'],\n",
       " ' 5.6': ['6', '6'],\n",
       " ' 5.0': ['16', '1'],\n",
       " ' 3rd': ['42', '15'],\n",
       " ' 5.14a': ['4'],\n",
       " ' 5.14b': ['1'],\n",
       " ' 5.13b': ['16', '2'],\n",
       " ' 5.13d': ['1'],\n",
       " ' 5.2': ['2'],\n",
       " ' 5.14d': ['1'],\n",
       " ' 5.4': ['1', '1'],\n",
       " ' 5.5': ['3', '2'],\n",
       " ' 5.1': ['2'],\n",
       " ' 5.3': ['1']}"
      ]
     },
     "execution_count": 450,
     "metadata": {},
     "output_type": "execute_result"
    }
   ],
   "source": [
    "# first value represents men. Second represents women.\n",
    "combined_count_dict = lead_dict_count_men2_list\n",
    "combined_count_dict"
   ]
  },
  {
   "cell_type": "code",
   "execution_count": 451,
   "id": "controlling-arcade",
   "metadata": {
    "ExecuteTime": {
     "end_time": "2021-03-15T23:21:29.891940Z",
     "start_time": "2021-03-15T23:21:29.884386Z"
    }
   },
   "outputs": [
    {
     "data": {
      "text/plain": [
       "[['6'], ['4'], ['1'], ['1'], ['2'], ['1'], ['2'], ['1']]"
      ]
     },
     "execution_count": 451,
     "metadata": {},
     "output_type": "execute_result"
    }
   ],
   "source": [
    "# Remove keys where there are only women or only men.\n",
    "keys_to_remove = []\n",
    "for key in combined_count_dict:\n",
    "    if len(combined_count_dict[key]) < 2:\n",
    "        keys_to_remove.append(key)\n",
    "        \n",
    "[combined_count_dict.pop(key) for key in keys_to_remove] "
   ]
  },
  {
   "cell_type": "code",
   "execution_count": 452,
   "id": "great-swaziland",
   "metadata": {
    "ExecuteTime": {
     "end_time": "2021-03-15T23:21:30.574429Z",
     "start_time": "2021-03-15T23:21:30.570177Z"
    }
   },
   "outputs": [],
   "source": [
    "combined_count_df = pd.DataFrame.from_dict(combined_count_dict, orient='index', columns = ['Male', 'Female'])"
   ]
  },
  {
   "cell_type": "code",
   "execution_count": 453,
   "id": "synthetic-following",
   "metadata": {
    "ExecuteTime": {
     "end_time": "2021-03-15T23:21:31.276018Z",
     "start_time": "2021-03-15T23:21:31.271690Z"
    }
   },
   "outputs": [],
   "source": [
    "combined_count_df.reset_index(inplace=True)"
   ]
  },
  {
   "cell_type": "code",
   "execution_count": 454,
   "id": "naughty-equality",
   "metadata": {
    "ExecuteTime": {
     "end_time": "2021-03-15T23:21:31.860143Z",
     "start_time": "2021-03-15T23:21:31.854639Z"
    }
   },
   "outputs": [],
   "source": [
    "combined_count_df = pd.melt(combined_count_df, id_vars=\"index\", var_name=\"sex\", value_name=\"count\")"
   ]
  },
  {
   "cell_type": "code",
   "execution_count": 457,
   "id": "norman-logging",
   "metadata": {
    "ExecuteTime": {
     "end_time": "2021-03-15T23:22:24.920818Z",
     "start_time": "2021-03-15T23:22:24.917266Z"
    }
   },
   "outputs": [],
   "source": [
    "combined_count_df['count'] = pd.to_numeric(combined_count_df['count'], downcast='float')"
   ]
  },
  {
   "cell_type": "code",
   "execution_count": 458,
   "id": "skilled-bacteria",
   "metadata": {
    "ExecuteTime": {
     "end_time": "2021-03-15T23:22:31.828285Z",
     "start_time": "2021-03-15T23:22:31.813420Z"
    }
   },
   "outputs": [
    {
     "data": {
      "text/html": [
       "<div>\n",
       "<style scoped>\n",
       "    .dataframe tbody tr th:only-of-type {\n",
       "        vertical-align: middle;\n",
       "    }\n",
       "\n",
       "    .dataframe tbody tr th {\n",
       "        vertical-align: top;\n",
       "    }\n",
       "\n",
       "    .dataframe thead th {\n",
       "        text-align: right;\n",
       "    }\n",
       "</style>\n",
       "<table border=\"1\" class=\"dataframe\">\n",
       "  <thead>\n",
       "    <tr style=\"text-align: right;\">\n",
       "      <th></th>\n",
       "      <th>index</th>\n",
       "      <th>sex</th>\n",
       "      <th>count</th>\n",
       "    </tr>\n",
       "  </thead>\n",
       "  <tbody>\n",
       "    <tr>\n",
       "      <th>0</th>\n",
       "      <td>5.11a</td>\n",
       "      <td>Male</td>\n",
       "      <td>234.0</td>\n",
       "    </tr>\n",
       "    <tr>\n",
       "      <th>1</th>\n",
       "      <td>5.12c</td>\n",
       "      <td>Male</td>\n",
       "      <td>60.0</td>\n",
       "    </tr>\n",
       "    <tr>\n",
       "      <th>2</th>\n",
       "      <td>5.13c</td>\n",
       "      <td>Male</td>\n",
       "      <td>8.0</td>\n",
       "    </tr>\n",
       "    <tr>\n",
       "      <th>3</th>\n",
       "      <td>5.12a</td>\n",
       "      <td>Male</td>\n",
       "      <td>165.0</td>\n",
       "    </tr>\n",
       "    <tr>\n",
       "      <th>4</th>\n",
       "      <td>5.11c</td>\n",
       "      <td>Male</td>\n",
       "      <td>124.0</td>\n",
       "    </tr>\n",
       "    <tr>\n",
       "      <th>5</th>\n",
       "      <td>5.10b</td>\n",
       "      <td>Male</td>\n",
       "      <td>139.0</td>\n",
       "    </tr>\n",
       "    <tr>\n",
       "      <th>6</th>\n",
       "      <td>5.10a</td>\n",
       "      <td>Male</td>\n",
       "      <td>214.0</td>\n",
       "    </tr>\n",
       "    <tr>\n",
       "      <th>7</th>\n",
       "      <td>5.10d</td>\n",
       "      <td>Male</td>\n",
       "      <td>141.0</td>\n",
       "    </tr>\n",
       "    <tr>\n",
       "      <th>8</th>\n",
       "      <td>5.12d</td>\n",
       "      <td>Male</td>\n",
       "      <td>28.0</td>\n",
       "    </tr>\n",
       "    <tr>\n",
       "      <th>9</th>\n",
       "      <td>5.13a</td>\n",
       "      <td>Male</td>\n",
       "      <td>50.0</td>\n",
       "    </tr>\n",
       "    <tr>\n",
       "      <th>10</th>\n",
       "      <td>5.12b</td>\n",
       "      <td>Male</td>\n",
       "      <td>73.0</td>\n",
       "    </tr>\n",
       "    <tr>\n",
       "      <th>11</th>\n",
       "      <td>5.11d</td>\n",
       "      <td>Male</td>\n",
       "      <td>84.0</td>\n",
       "    </tr>\n",
       "    <tr>\n",
       "      <th>12</th>\n",
       "      <td>5.11b</td>\n",
       "      <td>Male</td>\n",
       "      <td>99.0</td>\n",
       "    </tr>\n",
       "    <tr>\n",
       "      <th>13</th>\n",
       "      <td>5.10c</td>\n",
       "      <td>Male</td>\n",
       "      <td>123.0</td>\n",
       "    </tr>\n",
       "    <tr>\n",
       "      <th>14</th>\n",
       "      <td>5.9</td>\n",
       "      <td>Male</td>\n",
       "      <td>130.0</td>\n",
       "    </tr>\n",
       "    <tr>\n",
       "      <th>15</th>\n",
       "      <td>5.7</td>\n",
       "      <td>Male</td>\n",
       "      <td>50.0</td>\n",
       "    </tr>\n",
       "    <tr>\n",
       "      <th>16</th>\n",
       "      <td>5.8</td>\n",
       "      <td>Male</td>\n",
       "      <td>75.0</td>\n",
       "    </tr>\n",
       "    <tr>\n",
       "      <th>17</th>\n",
       "      <td>5.6</td>\n",
       "      <td>Male</td>\n",
       "      <td>6.0</td>\n",
       "    </tr>\n",
       "    <tr>\n",
       "      <th>18</th>\n",
       "      <td>5.0</td>\n",
       "      <td>Male</td>\n",
       "      <td>16.0</td>\n",
       "    </tr>\n",
       "    <tr>\n",
       "      <th>19</th>\n",
       "      <td>3rd</td>\n",
       "      <td>Male</td>\n",
       "      <td>42.0</td>\n",
       "    </tr>\n",
       "    <tr>\n",
       "      <th>20</th>\n",
       "      <td>5.13b</td>\n",
       "      <td>Male</td>\n",
       "      <td>16.0</td>\n",
       "    </tr>\n",
       "    <tr>\n",
       "      <th>21</th>\n",
       "      <td>5.4</td>\n",
       "      <td>Male</td>\n",
       "      <td>1.0</td>\n",
       "    </tr>\n",
       "    <tr>\n",
       "      <th>22</th>\n",
       "      <td>5.5</td>\n",
       "      <td>Male</td>\n",
       "      <td>3.0</td>\n",
       "    </tr>\n",
       "    <tr>\n",
       "      <th>23</th>\n",
       "      <td>5.11a</td>\n",
       "      <td>Female</td>\n",
       "      <td>41.0</td>\n",
       "    </tr>\n",
       "    <tr>\n",
       "      <th>24</th>\n",
       "      <td>5.12c</td>\n",
       "      <td>Female</td>\n",
       "      <td>6.0</td>\n",
       "    </tr>\n",
       "    <tr>\n",
       "      <th>25</th>\n",
       "      <td>5.13c</td>\n",
       "      <td>Female</td>\n",
       "      <td>1.0</td>\n",
       "    </tr>\n",
       "    <tr>\n",
       "      <th>26</th>\n",
       "      <td>5.12a</td>\n",
       "      <td>Female</td>\n",
       "      <td>25.0</td>\n",
       "    </tr>\n",
       "    <tr>\n",
       "      <th>27</th>\n",
       "      <td>5.11c</td>\n",
       "      <td>Female</td>\n",
       "      <td>19.0</td>\n",
       "    </tr>\n",
       "    <tr>\n",
       "      <th>28</th>\n",
       "      <td>5.10b</td>\n",
       "      <td>Female</td>\n",
       "      <td>36.0</td>\n",
       "    </tr>\n",
       "    <tr>\n",
       "      <th>29</th>\n",
       "      <td>5.10a</td>\n",
       "      <td>Female</td>\n",
       "      <td>62.0</td>\n",
       "    </tr>\n",
       "    <tr>\n",
       "      <th>30</th>\n",
       "      <td>5.10d</td>\n",
       "      <td>Female</td>\n",
       "      <td>21.0</td>\n",
       "    </tr>\n",
       "    <tr>\n",
       "      <th>31</th>\n",
       "      <td>5.12d</td>\n",
       "      <td>Female</td>\n",
       "      <td>2.0</td>\n",
       "    </tr>\n",
       "    <tr>\n",
       "      <th>32</th>\n",
       "      <td>5.13a</td>\n",
       "      <td>Female</td>\n",
       "      <td>6.0</td>\n",
       "    </tr>\n",
       "    <tr>\n",
       "      <th>33</th>\n",
       "      <td>5.12b</td>\n",
       "      <td>Female</td>\n",
       "      <td>13.0</td>\n",
       "    </tr>\n",
       "    <tr>\n",
       "      <th>34</th>\n",
       "      <td>5.11d</td>\n",
       "      <td>Female</td>\n",
       "      <td>10.0</td>\n",
       "    </tr>\n",
       "    <tr>\n",
       "      <th>35</th>\n",
       "      <td>5.11b</td>\n",
       "      <td>Female</td>\n",
       "      <td>23.0</td>\n",
       "    </tr>\n",
       "    <tr>\n",
       "      <th>36</th>\n",
       "      <td>5.10c</td>\n",
       "      <td>Female</td>\n",
       "      <td>35.0</td>\n",
       "    </tr>\n",
       "    <tr>\n",
       "      <th>37</th>\n",
       "      <td>5.9</td>\n",
       "      <td>Female</td>\n",
       "      <td>77.0</td>\n",
       "    </tr>\n",
       "    <tr>\n",
       "      <th>38</th>\n",
       "      <td>5.7</td>\n",
       "      <td>Female</td>\n",
       "      <td>22.0</td>\n",
       "    </tr>\n",
       "    <tr>\n",
       "      <th>39</th>\n",
       "      <td>5.8</td>\n",
       "      <td>Female</td>\n",
       "      <td>38.0</td>\n",
       "    </tr>\n",
       "    <tr>\n",
       "      <th>40</th>\n",
       "      <td>5.6</td>\n",
       "      <td>Female</td>\n",
       "      <td>6.0</td>\n",
       "    </tr>\n",
       "    <tr>\n",
       "      <th>41</th>\n",
       "      <td>5.0</td>\n",
       "      <td>Female</td>\n",
       "      <td>1.0</td>\n",
       "    </tr>\n",
       "    <tr>\n",
       "      <th>42</th>\n",
       "      <td>3rd</td>\n",
       "      <td>Female</td>\n",
       "      <td>15.0</td>\n",
       "    </tr>\n",
       "    <tr>\n",
       "      <th>43</th>\n",
       "      <td>5.13b</td>\n",
       "      <td>Female</td>\n",
       "      <td>2.0</td>\n",
       "    </tr>\n",
       "    <tr>\n",
       "      <th>44</th>\n",
       "      <td>5.4</td>\n",
       "      <td>Female</td>\n",
       "      <td>1.0</td>\n",
       "    </tr>\n",
       "    <tr>\n",
       "      <th>45</th>\n",
       "      <td>5.5</td>\n",
       "      <td>Female</td>\n",
       "      <td>2.0</td>\n",
       "    </tr>\n",
       "  </tbody>\n",
       "</table>\n",
       "</div>"
      ],
      "text/plain": [
       "     index     sex  count\n",
       "0    5.11a    Male  234.0\n",
       "1    5.12c    Male   60.0\n",
       "2    5.13c    Male    8.0\n",
       "3    5.12a    Male  165.0\n",
       "4    5.11c    Male  124.0\n",
       "5    5.10b    Male  139.0\n",
       "6    5.10a    Male  214.0\n",
       "7    5.10d    Male  141.0\n",
       "8    5.12d    Male   28.0\n",
       "9    5.13a    Male   50.0\n",
       "10   5.12b    Male   73.0\n",
       "11   5.11d    Male   84.0\n",
       "12   5.11b    Male   99.0\n",
       "13   5.10c    Male  123.0\n",
       "14     5.9    Male  130.0\n",
       "15     5.7    Male   50.0\n",
       "16     5.8    Male   75.0\n",
       "17     5.6    Male    6.0\n",
       "18     5.0    Male   16.0\n",
       "19     3rd    Male   42.0\n",
       "20   5.13b    Male   16.0\n",
       "21     5.4    Male    1.0\n",
       "22     5.5    Male    3.0\n",
       "23   5.11a  Female   41.0\n",
       "24   5.12c  Female    6.0\n",
       "25   5.13c  Female    1.0\n",
       "26   5.12a  Female   25.0\n",
       "27   5.11c  Female   19.0\n",
       "28   5.10b  Female   36.0\n",
       "29   5.10a  Female   62.0\n",
       "30   5.10d  Female   21.0\n",
       "31   5.12d  Female    2.0\n",
       "32   5.13a  Female    6.0\n",
       "33   5.12b  Female   13.0\n",
       "34   5.11d  Female   10.0\n",
       "35   5.11b  Female   23.0\n",
       "36   5.10c  Female   35.0\n",
       "37     5.9  Female   77.0\n",
       "38     5.7  Female   22.0\n",
       "39     5.8  Female   38.0\n",
       "40     5.6  Female    6.0\n",
       "41     5.0  Female    1.0\n",
       "42     3rd  Female   15.0\n",
       "43   5.13b  Female    2.0\n",
       "44     5.4  Female    1.0\n",
       "45     5.5  Female    2.0"
      ]
     },
     "execution_count": 458,
     "metadata": {},
     "output_type": "execute_result"
    }
   ],
   "source": [
    "combined_count_df"
   ]
  },
  {
   "cell_type": "code",
   "execution_count": 466,
   "id": "artistic-march",
   "metadata": {
    "ExecuteTime": {
     "end_time": "2021-03-15T23:26:49.172687Z",
     "start_time": "2021-03-15T23:26:48.717069Z"
    }
   },
   "outputs": [
    {
     "data": {
      "image/png": "[encoded data removed]",
      "text/plain": [
       "<Figure size 1080x360 with 1 Axes>"
      ]
     },
     "metadata": {},
     "output_type": "display_data"
    }
   ],
   "source": [
    "sns.set(rc={'figure.figsize':(15,5)})\n",
    "sns.set_style(\"white\")\n",
    "ax = sns.barplot(x=\"index\", y=\"count\", hue=\"sex\", data=combined_count_df,\n",
    "    order = [' 3rd', ' 5.0', ' 5.4', ' 5.5', ' 5.6', ' 5.7', ' 5.8', ' 5.9', ' 5.10a', ' 5.10b',\n",
    "            ' 5.10c', ' 5.10d', ' 5.11a', ' 5.11b', ' 5.11c', ' 5.11d', ' 5.12a', ' 5.12b', ' 5.12c',\n",
    "             ' 5.12d', ' 5.13a', ' 5.13b', ' 5.13c'])\n",
    "ax.grid(False)"
   ]
  },
  {
   "cell_type": "code",
   "execution_count": 472,
   "id": "infinite-bunny",
   "metadata": {
    "ExecuteTime": {
     "end_time": "2021-03-15T23:37:07.814576Z",
     "start_time": "2021-03-15T23:37:07.499391Z"
    }
   },
   "outputs": [
    {
     "data": {
      "image/png": "[encoded data removed]",
      "text/plain": [
       "<Figure size 1080x360 with 1 Axes>"
      ]
     },
     "metadata": {},
     "output_type": "display_data"
    }
   ],
   "source": [
    "# Cutting off climbs where fewer than 10 women are represented\n",
    "sns.set(rc={'figure.figsize':(15,5)})\n",
    "sns.set_style(\"white\")\n",
    "ax = sns.barplot(x=\"index\", y=\"count\", hue=\"sex\", data=combined_count_df,\n",
    "    order = [' 5.7', ' 5.8', ' 5.9', ' 5.10a', ' 5.10b',\n",
    "            ' 5.10c', ' 5.10d', ' 5.11a', ' 5.11b', ' 5.11c', ' 5.11d', ' 5.12a', ' 5.12b'])\n",
    "ax.grid(False)"
   ]
  },
  {
   "cell_type": "code",
   "execution_count": null,
   "id": "affiliated-attitude",
   "metadata": {},
   "outputs": [],
   "source": []
  }
 ],
 "metadata": {
  "kernelspec": {
   "display_name": "Python 3",
   "language": "python",
   "name": "python3"
  },
  "language_info": {
   "codemirror_mode": {
    "name": "ipython",
    "version": 3
   },
   "file_extension": ".py",
   "mimetype": "text/x-python",
   "name": "python",
   "nbconvert_exporter": "python",
   "pygments_lexer": "ipython3",
   "version": "3.6.13"
  },
  "toc": {
   "base_numbering": 1,
   "nav_menu": {},
   "number_sections": true,
   "sideBar": true,
   "skip_h1_title": false,
   "title_cell": "Table of Contents",
   "title_sidebar": "Contents",
   "toc_cell": false,
   "toc_position": {
    "height": "calc(100% - 180px)",
    "left": "10px",
    "top": "150px",
    "width": "248.188px"
   },
   "toc_section_display": true,
   "toc_window_display": true
  },
  "varInspector": {
   "cols": {
    "lenName": 16,
    "lenType": 16,
    "lenVar": 40
   },
   "kernels_config": {
    "python": {
     "delete_cmd_postfix": "",
     "delete_cmd_prefix": "del ",
     "library": "var_list.py",
     "varRefreshCmd": "print(var_dic_list())"
    },
    "r": {
     "delete_cmd_postfix": ") ",
     "delete_cmd_prefix": "rm(",
     "library": "var_list.r",
     "varRefreshCmd": "cat(var_dic_list()) "
    }
   },
   "types_to_exclude": [
    "module",
    "function",
    "builtin_function_or_method",
    "instance",
    "_Feature"
   ],
   "window_display": false
  }
 },
 "nbformat": 4,
 "nbformat_minor": 5
}
